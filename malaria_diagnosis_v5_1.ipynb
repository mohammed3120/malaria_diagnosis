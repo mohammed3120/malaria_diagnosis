{
  "cells": [
    {
      "cell_type": "markdown",
      "id": "c57a9fb7",
      "metadata": {
        "id": "c57a9fb7"
      },
      "source": [
        "# Import Libs"
      ]
    },
    {
      "cell_type": "code",
      "execution_count": 1,
      "id": "f22ac042",
      "metadata": {
        "id": "f22ac042"
      },
      "outputs": [],
      "source": [
        "import tensorflow as tf ### models\n",
        "import matplotlib.pylab as plt ### ploting\n",
        "import seaborn as sns\n",
        "import numpy as np ### math computations\n",
        "import tensorflow_datasets as tfds\n",
        "from tensorflow.keras.models import Model\n",
        "from tensorflow.keras.layers import Dense, Conv2D, MaxPooling2D, Flatten, InputLayer, BatchNormalization, Input, Layer,Dropout\n",
        "from tensorflow.keras.losses import BinaryCrossentropy\n",
        "from tensorflow.keras.optimizers import Adam\n",
        "from tensorflow.keras.metrics import BinaryAccuracy, TruePositives, FalsePositives, FalseNegatives, TrueNegatives,Precision,Recall, AUC\n",
        "from sklearn.metrics import confusion_matrix, roc_curve,f1_score\n",
        "\n",
        "from tensorflow.keras.regularizers import L1,L2\n",
        "from tensorflow.keras.callbacks import Callback, CSVLogger, EarlyStopping, LearningRateScheduler,ModelCheckpoint,ReduceLROnPlateau"
      ]
    },
    {
      "cell_type": "code",
      "execution_count": 2,
      "id": "cf1f81a1",
      "metadata": {
        "colab": {
          "base_uri": "https://localhost:8080/",
          "height": 35
        },
        "id": "cf1f81a1",
        "outputId": "4b151ec0-b504-4e08-80c3-aef7f1cf4109",
        "scrolled": true
      },
      "outputs": [
        {
          "output_type": "execute_result",
          "data": {
            "text/plain": [
              "'2.14.0'"
            ],
            "application/vnd.google.colaboratory.intrinsic+json": {
              "type": "string"
            }
          },
          "metadata": {},
          "execution_count": 2
        }
      ],
      "source": [
        "tf.__version__"
      ]
    },
    {
      "cell_type": "markdown",
      "id": "a4cdd629",
      "metadata": {
        "id": "a4cdd629"
      },
      "source": [
        "# Load Malaria Dataset"
      ]
    },
    {
      "cell_type": "code",
      "execution_count": 3,
      "id": "55f4f3ef",
      "metadata": {
        "id": "55f4f3ef",
        "colab": {
          "base_uri": "https://localhost:8080/",
          "height": 148,
          "referenced_widgets": [
            "f9b7afe18e1049cd87b2ce2745f15667",
            "4634f0a514984f15b35cd84a8c6b9e8b",
            "ffcaa3e7efec4d60a3f84f61b0c8b923",
            "6c74fde7c30c4c3cadb1b28f5f8e1010",
            "44abaca0b20a48d191fc980e3feacb7a",
            "21e2168b711545f5a53b75cbd71c27e0",
            "de84abe7f5a145b0bf24d2f78f12091c",
            "4e8e1f2989594821be9819a732df3ba5",
            "89b223e2d3a7431da9681c5e90a427e4",
            "f6ca6a677e524b2188576e27f3c13072",
            "24e82df3d96440b2996107b4f5612776",
            "f773fd884a4b415a8de32209b26d57ed",
            "0908fbc6ac86430ea319af9c9e65b3a6",
            "d6f1c70402094ea58706774cd29215e7",
            "3d388bb7b40740dc8d3f39baf247af82",
            "b47ef9184cef44439103556598b6987e",
            "94d743945e8f4a0ea50e72b1fea1f35f",
            "40022247f7ed41bcb30252e2bf7e93af",
            "04a97b136a814593a81a573efeacbaa8",
            "cd7186bd4813459da27d38f81c6716c7",
            "7b5bc78a376546acbcfe27e3ba1c66a2",
            "6ca53a797483437ab6b8d64af4f40867",
            "1fcf87e00d064a17b11e1715d05cf5ed",
            "85b7348d52444b64ae0739414b9533f7",
            "50d6a7ba34174dca9bf66b171608dbeb",
            "0774d434cd684a1d93fc6e7a082c693d",
            "0e427053991444fab18d4dfe03999323",
            "d458be1a72c94d84abe3c97f98b92030",
            "f77337bb27af404587128be20ab23812",
            "0f34f7cfacc44efb94349413b5d7f8c8",
            "3bba040b28b24eb8a56393c54c4f77b7",
            "29330fd166c84d46aabb1bcc05d62a12",
            "5d891a17b71c4a71bc829e13e623b126",
            "a55942d98240486aaf0c5008ccf9957b",
            "436c4677e8f54d46979955f18ae75d82",
            "9abcadcfb3954cd8ae9ae3101284f2e2",
            "55ccf0d526c24453904701824573b0bb",
            "3626a2a75bbb498dbb000f37f2f7946c",
            "07042c341ee34c3195979672ed2112df",
            "a3a18584e44a41449dc19a3a567b6a21",
            "53ed7f1cfbd74855b838aa44b7ea9f3a",
            "0dabe28e8612409c8565e943a04e4b5e",
            "d0e02d7627394940b44d29b4fc9e9f82",
            "4972c4456f3d4776aa2423fc0513f077",
            "19c30797bcae42f0a363d928a2046b3c",
            "6bc27994dfd94b568fca0e8b36e05cad",
            "83e9f9467c854a8b8cd4a598c6513633",
            "82fe3e34d485411c9c6dcd7c33596456",
            "97a94ff0a44045f5a2d26bbe64c9c98f",
            "7c5b0476b0cd44de86c3aef231993503",
            "5b0af8382e584a1d9ec1f90c9e0cbd16",
            "7743fbafcee14860bc5b12b4fa1a9041",
            "6646b91e6b0b4ff3b1be892e87a4bb31",
            "abe86c23350e4c58b88c88bf639d52cb",
            "45a8f72c2c94492eaad88af19304ab43",
            "30ace04fd8684d0e9412a09a208e4004",
            "b8d97e85dbee412a8b0d68b981db83d4",
            "5717cb1042be48e187c20be986fba344",
            "5208a31ca90b4d3ab281e5ddc47a6238",
            "8de95f514b3948f0a8ad90423613d1d9",
            "e3dbc16d71c14ace8b3dd2a788785404",
            "3693713c982148ef87177eb21e852f69",
            "9710e6aabe48453aafb6af9f34a914f3",
            "45602b7a2e4143d2873e2218c9aded0a",
            "6f3fc6cdae5a4da390ae32c0bb423265",
            "724e2cede3344fe0b57978f7faba9dcb"
          ]
        },
        "outputId": "13e2764a-9791-4f32-fda9-ef1601168796"
      },
      "outputs": [
        {
          "output_type": "stream",
          "name": "stdout",
          "text": [
            "Downloading and preparing dataset 337.08 MiB (download: 337.08 MiB, generated: Unknown size, total: 337.08 MiB) to /root/tensorflow_datasets/malaria/1.0.0...\n"
          ]
        },
        {
          "output_type": "display_data",
          "data": {
            "text/plain": [
              "Dl Completed...: 0 url [00:00, ? url/s]"
            ],
            "application/vnd.jupyter.widget-view+json": {
              "version_major": 2,
              "version_minor": 0,
              "model_id": "f9b7afe18e1049cd87b2ce2745f15667"
            }
          },
          "metadata": {}
        },
        {
          "output_type": "display_data",
          "data": {
            "text/plain": [
              "Dl Size...: 0 MiB [00:00, ? MiB/s]"
            ],
            "application/vnd.jupyter.widget-view+json": {
              "version_major": 2,
              "version_minor": 0,
              "model_id": "f773fd884a4b415a8de32209b26d57ed"
            }
          },
          "metadata": {}
        },
        {
          "output_type": "display_data",
          "data": {
            "text/plain": [
              "Extraction completed...: 0 file [00:00, ? file/s]"
            ],
            "application/vnd.jupyter.widget-view+json": {
              "version_major": 2,
              "version_minor": 0,
              "model_id": "1fcf87e00d064a17b11e1715d05cf5ed"
            }
          },
          "metadata": {}
        },
        {
          "output_type": "display_data",
          "data": {
            "text/plain": [
              "Generating splits...:   0%|          | 0/1 [00:00<?, ? splits/s]"
            ],
            "application/vnd.jupyter.widget-view+json": {
              "version_major": 2,
              "version_minor": 0,
              "model_id": "a55942d98240486aaf0c5008ccf9957b"
            }
          },
          "metadata": {}
        },
        {
          "output_type": "display_data",
          "data": {
            "text/plain": [
              "Generating train examples...:   0%|          | 0/27558 [00:00<?, ? examples/s]"
            ],
            "application/vnd.jupyter.widget-view+json": {
              "version_major": 2,
              "version_minor": 0,
              "model_id": "19c30797bcae42f0a363d928a2046b3c"
            }
          },
          "metadata": {}
        },
        {
          "output_type": "display_data",
          "data": {
            "text/plain": [
              "Shuffling /root/tensorflow_datasets/malaria/1.0.0.incompleteURKGUN/malaria-train.tfrecord*...:   0%|          …"
            ],
            "application/vnd.jupyter.widget-view+json": {
              "version_major": 2,
              "version_minor": 0,
              "model_id": "30ace04fd8684d0e9412a09a208e4004"
            }
          },
          "metadata": {}
        },
        {
          "output_type": "stream",
          "name": "stdout",
          "text": [
            "Dataset malaria downloaded and prepared to /root/tensorflow_datasets/malaria/1.0.0. Subsequent calls will reuse this data.\n"
          ]
        }
      ],
      "source": [
        "dataset, dataset_info = tfds.load('malaria',with_info=True, as_supervised=True, shuffle_files = True, split = 'train')"
      ]
    },
    {
      "cell_type": "code",
      "execution_count": 4,
      "id": "6418fbc0",
      "metadata": {
        "colab": {
          "base_uri": "https://localhost:8080/",
          "height": 35
        },
        "id": "6418fbc0",
        "outputId": "54cf9633-5767-4955-f965-a06dcc9016c8"
      },
      "outputs": [
        {
          "output_type": "execute_result",
          "data": {
            "text/plain": [
              "'4.9.3'"
            ],
            "application/vnd.google.colaboratory.intrinsic+json": {
              "type": "string"
            }
          },
          "metadata": {},
          "execution_count": 4
        }
      ],
      "source": [
        "tfds.__version__"
      ]
    },
    {
      "cell_type": "markdown",
      "id": "a7ac4a04",
      "metadata": {
        "id": "a7ac4a04"
      },
      "source": [
        "# Data Split"
      ]
    },
    {
      "cell_type": "code",
      "execution_count": 5,
      "id": "099e6593",
      "metadata": {
        "id": "099e6593"
      },
      "outputs": [],
      "source": [
        "TRANI_RATIO = 0.8\n",
        "VAL_RATIO = 0.1\n",
        "TEST_RATIO = 0.1"
      ]
    },
    {
      "cell_type": "code",
      "execution_count": 6,
      "id": "c98d4f06",
      "metadata": {
        "id": "c98d4f06"
      },
      "outputs": [],
      "source": [
        "def splits(dataset, TRANI_RATIO, VAL_RATIO, TEST_RATIO):\n",
        "    DATASET_SIZE = len(dataset)\n",
        "    train_dataset = dataset.take(int(TRANI_RATIO*DATASET_SIZE))\n",
        "    val_test__dataset = dataset.skip(int(TRANI_RATIO*DATASET_SIZE))\n",
        "    val_dataset = val_test__dataset.take(int(VAL_RATIO*DATASET_SIZE))\n",
        "    test_dataset = val_test__dataset.skip(int(VAL_RATIO*DATASET_SIZE))\n",
        "    return train_dataset, val_dataset, test_dataset\n"
      ]
    },
    {
      "cell_type": "code",
      "execution_count": 7,
      "id": "d9e19986",
      "metadata": {
        "colab": {
          "base_uri": "https://localhost:8080/"
        },
        "id": "d9e19986",
        "outputId": "54f2ac8c-04e7-4116-a716-a198c1a8d6d6"
      },
      "outputs": [
        {
          "output_type": "stream",
          "name": "stdout",
          "text": [
            "[(array([[[0, 0, 0],\n",
            "        [0, 0, 0],\n",
            "        [0, 0, 0],\n",
            "        ...,\n",
            "        [0, 0, 0],\n",
            "        [0, 0, 0],\n",
            "        [0, 0, 0]],\n",
            "\n",
            "       [[0, 0, 0],\n",
            "        [0, 0, 0],\n",
            "        [0, 0, 0],\n",
            "        ...,\n",
            "        [0, 0, 0],\n",
            "        [0, 0, 0],\n",
            "        [0, 0, 0]],\n",
            "\n",
            "       [[0, 0, 0],\n",
            "        [0, 0, 0],\n",
            "        [0, 0, 0],\n",
            "        ...,\n",
            "        [0, 0, 0],\n",
            "        [0, 0, 0],\n",
            "        [0, 0, 0]],\n",
            "\n",
            "       ...,\n",
            "\n",
            "       [[0, 0, 0],\n",
            "        [0, 0, 0],\n",
            "        [0, 0, 0],\n",
            "        ...,\n",
            "        [0, 0, 0],\n",
            "        [0, 0, 0],\n",
            "        [0, 0, 0]],\n",
            "\n",
            "       [[0, 0, 0],\n",
            "        [0, 0, 0],\n",
            "        [0, 0, 0],\n",
            "        ...,\n",
            "        [0, 0, 0],\n",
            "        [0, 0, 0],\n",
            "        [0, 0, 0]],\n",
            "\n",
            "       [[0, 0, 0],\n",
            "        [0, 0, 0],\n",
            "        [0, 0, 0],\n",
            "        ...,\n",
            "        [0, 0, 0],\n",
            "        [0, 0, 0],\n",
            "        [0, 0, 0]]], dtype=uint8), 1), (array([[[0, 0, 0],\n",
            "        [0, 0, 0],\n",
            "        [0, 0, 0],\n",
            "        ...,\n",
            "        [0, 0, 0],\n",
            "        [0, 0, 0],\n",
            "        [0, 0, 0]],\n",
            "\n",
            "       [[0, 0, 0],\n",
            "        [0, 0, 0],\n",
            "        [0, 0, 0],\n",
            "        ...,\n",
            "        [0, 0, 0],\n",
            "        [0, 0, 0],\n",
            "        [0, 0, 0]],\n",
            "\n",
            "       [[0, 0, 0],\n",
            "        [0, 0, 0],\n",
            "        [0, 0, 0],\n",
            "        ...,\n",
            "        [0, 0, 0],\n",
            "        [0, 0, 0],\n",
            "        [0, 0, 0]],\n",
            "\n",
            "       ...,\n",
            "\n",
            "       [[0, 0, 0],\n",
            "        [0, 0, 0],\n",
            "        [0, 0, 0],\n",
            "        ...,\n",
            "        [0, 0, 0],\n",
            "        [0, 0, 0],\n",
            "        [0, 0, 0]],\n",
            "\n",
            "       [[0, 0, 0],\n",
            "        [0, 0, 0],\n",
            "        [0, 0, 0],\n",
            "        ...,\n",
            "        [0, 0, 0],\n",
            "        [0, 0, 0],\n",
            "        [0, 0, 0]],\n",
            "\n",
            "       [[0, 0, 0],\n",
            "        [0, 0, 0],\n",
            "        [0, 0, 0],\n",
            "        ...,\n",
            "        [0, 0, 0],\n",
            "        [0, 0, 0],\n",
            "        [0, 0, 0]]], dtype=uint8), 1)]\n",
            "[(array([[[0, 0, 0],\n",
            "        [0, 0, 0],\n",
            "        [0, 0, 0],\n",
            "        ...,\n",
            "        [0, 0, 0],\n",
            "        [0, 0, 0],\n",
            "        [0, 0, 0]],\n",
            "\n",
            "       [[0, 0, 0],\n",
            "        [0, 0, 0],\n",
            "        [0, 0, 0],\n",
            "        ...,\n",
            "        [0, 0, 0],\n",
            "        [0, 0, 0],\n",
            "        [0, 0, 0]],\n",
            "\n",
            "       [[0, 0, 0],\n",
            "        [0, 0, 0],\n",
            "        [0, 0, 0],\n",
            "        ...,\n",
            "        [0, 0, 0],\n",
            "        [0, 0, 0],\n",
            "        [0, 0, 0]],\n",
            "\n",
            "       ...,\n",
            "\n",
            "       [[0, 0, 0],\n",
            "        [0, 0, 0],\n",
            "        [0, 0, 0],\n",
            "        ...,\n",
            "        [0, 0, 0],\n",
            "        [0, 0, 0],\n",
            "        [0, 0, 0]],\n",
            "\n",
            "       [[0, 0, 0],\n",
            "        [0, 0, 0],\n",
            "        [0, 0, 0],\n",
            "        ...,\n",
            "        [0, 0, 0],\n",
            "        [0, 0, 0],\n",
            "        [0, 0, 0]],\n",
            "\n",
            "       [[0, 0, 0],\n",
            "        [0, 0, 0],\n",
            "        [0, 0, 0],\n",
            "        ...,\n",
            "        [0, 0, 0],\n",
            "        [0, 0, 0],\n",
            "        [0, 0, 0]]], dtype=uint8), 0), (array([[[0, 0, 0],\n",
            "        [0, 0, 0],\n",
            "        [0, 0, 0],\n",
            "        ...,\n",
            "        [0, 0, 0],\n",
            "        [0, 0, 0],\n",
            "        [0, 0, 0]],\n",
            "\n",
            "       [[0, 0, 0],\n",
            "        [0, 0, 0],\n",
            "        [0, 0, 0],\n",
            "        ...,\n",
            "        [0, 0, 0],\n",
            "        [0, 0, 0],\n",
            "        [0, 0, 0]],\n",
            "\n",
            "       [[0, 0, 0],\n",
            "        [0, 0, 0],\n",
            "        [0, 0, 0],\n",
            "        ...,\n",
            "        [0, 0, 0],\n",
            "        [0, 0, 0],\n",
            "        [0, 0, 0]],\n",
            "\n",
            "       ...,\n",
            "\n",
            "       [[0, 0, 0],\n",
            "        [0, 0, 0],\n",
            "        [0, 0, 0],\n",
            "        ...,\n",
            "        [0, 0, 0],\n",
            "        [0, 0, 0],\n",
            "        [0, 0, 0]],\n",
            "\n",
            "       [[0, 0, 0],\n",
            "        [0, 0, 0],\n",
            "        [0, 0, 0],\n",
            "        ...,\n",
            "        [0, 0, 0],\n",
            "        [0, 0, 0],\n",
            "        [0, 0, 0]],\n",
            "\n",
            "       [[0, 0, 0],\n",
            "        [0, 0, 0],\n",
            "        [0, 0, 0],\n",
            "        ...,\n",
            "        [0, 0, 0],\n",
            "        [0, 0, 0],\n",
            "        [0, 0, 0]]], dtype=uint8), 1)]\n",
            "[(array([[[0, 0, 0],\n",
            "        [0, 0, 0],\n",
            "        [0, 0, 0],\n",
            "        ...,\n",
            "        [0, 0, 0],\n",
            "        [0, 0, 0],\n",
            "        [0, 0, 0]],\n",
            "\n",
            "       [[0, 0, 0],\n",
            "        [0, 0, 0],\n",
            "        [0, 0, 0],\n",
            "        ...,\n",
            "        [0, 0, 0],\n",
            "        [0, 0, 0],\n",
            "        [0, 0, 0]],\n",
            "\n",
            "       [[0, 0, 0],\n",
            "        [0, 0, 0],\n",
            "        [0, 0, 0],\n",
            "        ...,\n",
            "        [0, 0, 0],\n",
            "        [0, 0, 0],\n",
            "        [0, 0, 0]],\n",
            "\n",
            "       ...,\n",
            "\n",
            "       [[0, 0, 0],\n",
            "        [0, 0, 0],\n",
            "        [0, 0, 0],\n",
            "        ...,\n",
            "        [0, 0, 0],\n",
            "        [0, 0, 0],\n",
            "        [0, 0, 0]],\n",
            "\n",
            "       [[0, 0, 0],\n",
            "        [0, 0, 0],\n",
            "        [0, 0, 0],\n",
            "        ...,\n",
            "        [0, 0, 0],\n",
            "        [0, 0, 0],\n",
            "        [0, 0, 0]],\n",
            "\n",
            "       [[0, 0, 0],\n",
            "        [0, 0, 0],\n",
            "        [0, 0, 0],\n",
            "        ...,\n",
            "        [0, 0, 0],\n",
            "        [0, 0, 0],\n",
            "        [0, 0, 0]]], dtype=uint8), 1), (array([[[0, 0, 0],\n",
            "        [0, 0, 0],\n",
            "        [0, 0, 0],\n",
            "        ...,\n",
            "        [0, 0, 0],\n",
            "        [0, 0, 0],\n",
            "        [0, 0, 0]],\n",
            "\n",
            "       [[0, 0, 0],\n",
            "        [0, 0, 0],\n",
            "        [0, 0, 0],\n",
            "        ...,\n",
            "        [0, 0, 0],\n",
            "        [0, 0, 0],\n",
            "        [0, 0, 0]],\n",
            "\n",
            "       [[0, 0, 0],\n",
            "        [0, 0, 0],\n",
            "        [0, 0, 0],\n",
            "        ...,\n",
            "        [0, 0, 0],\n",
            "        [0, 0, 0],\n",
            "        [0, 0, 0]],\n",
            "\n",
            "       ...,\n",
            "\n",
            "       [[0, 0, 0],\n",
            "        [0, 0, 0],\n",
            "        [0, 0, 0],\n",
            "        ...,\n",
            "        [0, 0, 0],\n",
            "        [0, 0, 0],\n",
            "        [0, 0, 0]],\n",
            "\n",
            "       [[0, 0, 0],\n",
            "        [0, 0, 0],\n",
            "        [0, 0, 0],\n",
            "        ...,\n",
            "        [0, 0, 0],\n",
            "        [0, 0, 0],\n",
            "        [0, 0, 0]],\n",
            "\n",
            "       [[0, 0, 0],\n",
            "        [0, 0, 0],\n",
            "        [0, 0, 0],\n",
            "        ...,\n",
            "        [0, 0, 0],\n",
            "        [0, 0, 0],\n",
            "        [0, 0, 0]]], dtype=uint8), 0)]\n"
          ]
        }
      ],
      "source": [
        "#dataset = tf.data.Dataset.range(20)\n",
        "train_dataset, val_dataset, test_dataset = splits(dataset, TRANI_RATIO, VAL_RATIO, TEST_RATIO)\n",
        "print(list(train_dataset.as_numpy_iterator())[:2])\n",
        "print(list(val_dataset.as_numpy_iterator())[:2])\n",
        "print(list(test_dataset.as_numpy_iterator())[:2])"
      ]
    },
    {
      "cell_type": "markdown",
      "id": "6fa1af7f",
      "metadata": {
        "id": "6fa1af7f"
      },
      "source": [
        "# Data Visualizing"
      ]
    },
    {
      "cell_type": "code",
      "execution_count": 8,
      "id": "536866cd",
      "metadata": {
        "colab": {
          "base_uri": "https://localhost:8080/",
          "height": 428
        },
        "id": "536866cd",
        "outputId": "62d2fd3d-546e-4434-a280-050f2401abb2"
      },
      "outputs": [
        {
          "output_type": "display_data",
          "data": {
            "text/plain": [
              "<Figure size 640x480 with 16 Axes>"
            ],
            "image/png": "[encoded data removed]"
          },
          "metadata": {}
        }
      ],
      "source": [
        "for i, (image, label) in enumerate(train_dataset.take(16)):\n",
        "    ax = plt.subplot(4, 4, i + 1)\n",
        "    plt.imshow(image)\n",
        "    plt.title(dataset_info.features['label'].int2str(label))\n",
        "    plt.axis('off')"
      ]
    },
    {
      "cell_type": "code",
      "execution_count": 9,
      "id": "c2c58857",
      "metadata": {
        "colab": {
          "base_uri": "https://localhost:8080/",
          "height": 35
        },
        "id": "c2c58857",
        "outputId": "974127eb-8a88-4e79-ee31-70b7f877bea0"
      },
      "outputs": [
        {
          "output_type": "execute_result",
          "data": {
            "text/plain": [
              "'parasitized'"
            ],
            "application/vnd.google.colaboratory.intrinsic+json": {
              "type": "string"
            }
          },
          "metadata": {},
          "execution_count": 9
        }
      ],
      "source": [
        "dataset_info.features['label'].int2str(0)"
      ]
    },
    {
      "cell_type": "markdown",
      "id": "581235b6",
      "metadata": {
        "id": "581235b6"
      },
      "source": [
        "# Data Preprocessing"
      ]
    },
    {
      "cell_type": "code",
      "execution_count": 10,
      "id": "83b404da",
      "metadata": {
        "id": "83b404da"
      },
      "outputs": [],
      "source": [
        "IM_SIZE = 224\n",
        "def resize_rescale(image, label):\n",
        "    return tf.image.resize(image, (IM_SIZE, IM_SIZE))/255.0,label"
      ]
    },
    {
      "cell_type": "markdown",
      "id": "b20492ff",
      "metadata": {
        "id": "b20492ff"
      },
      "source": [
        "## tf.image augment"
      ]
    },
    {
      "cell_type": "code",
      "execution_count": 11,
      "id": "951c12ad",
      "metadata": {
        "id": "951c12ad"
      },
      "outputs": [],
      "source": [
        "def augment(image, label):\n",
        "    image, label = resize_rescale(image, label)\n",
        "    image = tf.image.rot90(image)\n",
        "    image = tf.image.flip_left_right(image)\n",
        "    return image, label"
      ]
    },
    {
      "cell_type": "code",
      "execution_count": 12,
      "id": "acdae4d3",
      "metadata": {
        "id": "acdae4d3"
      },
      "outputs": [],
      "source": [
        "test_dataset = test_dataset.map(resize_rescale)"
      ]
    },
    {
      "cell_type": "code",
      "execution_count": 13,
      "id": "b570cd69",
      "metadata": {
        "id": "b570cd69"
      },
      "outputs": [],
      "source": [
        "BATCH_SIZE = 32\n",
        "train_dataset = (train_dataset\n",
        "                 .shuffle(buffer_size= 8 , reshuffle_each_iteration= True)\n",
        "                 .map(augment)\n",
        "                 .batch(BATCH_SIZE)\n",
        "                 .prefetch(tf.data.AUTOTUNE))\n",
        "val_dataset = (val_dataset\n",
        "               .shuffle(buffer_size= 8 , reshuffle_each_iteration= True)\n",
        "               .map(augment)\n",
        "               .batch(BATCH_SIZE)\n",
        "               .prefetch(tf.data.AUTOTUNE))"
      ]
    },
    {
      "cell_type": "markdown",
      "id": "798c1f24",
      "metadata": {
        "id": "798c1f24"
      },
      "source": [
        "# Model Subclassing"
      ]
    },
    {
      "cell_type": "code",
      "execution_count": 14,
      "id": "73f9526a",
      "metadata": {
        "id": "73f9526a"
      },
      "outputs": [],
      "source": [
        "class FeatureExtractor(Layer):\n",
        "    def __init__(self, num_filters, kernel_size,num_strides, padding, activation_function, pool_size, droupout_rate, regularizer_rate):\n",
        "        super(FeatureExtractor, self).__init__()\n",
        "        self.conv_1 = Conv2D(filters= num_filters,kernel_size=kernel_size, strides=num_strides, padding= padding, activation = activation_function, kernel_regularizer = L2(regularizer_rate))\n",
        "        self.batch_1 = BatchNormalization()\n",
        "        self.droupout1 = Dropout(rate = droupout_rate)\n",
        "        self.pool_1 = MaxPooling2D(pool_size=pool_size, strides=num_strides)\n",
        "\n",
        "        self.conv_2 = Conv2D(filters= 2*num_filters,kernel_size=kernel_size, strides=num_strides, padding= padding, activation = activation_function, kernel_regularizer = L2(regularizer_rate))\n",
        "        self.batch_2 = BatchNormalization()\n",
        "        self.pool_2 = MaxPooling2D(pool_size=pool_size, strides=2*num_strides)\n",
        "\n",
        "    def call(self, x, training):\n",
        "        x = self.conv_1(x)\n",
        "        x = self.batch_1(x)\n",
        "        x = self.droupout1(x)\n",
        "        x = self.pool_1(x)\n",
        "\n",
        "\n",
        "        x = self.conv_2(x)\n",
        "        x = self.batch_2(x)\n",
        "        x = self.pool_2(x)\n",
        "\n",
        "        return x"
      ]
    },
    {
      "cell_type": "code",
      "execution_count": 15,
      "id": "ca7f8a73",
      "metadata": {
        "id": "ca7f8a73"
      },
      "outputs": [],
      "source": [
        "feature_sub_classed = FeatureExtractor(num_filters = 8, kernel_size = 3,num_strides = 1, padding= \"valid\", activation_function = \"relu\", pool_size = (2,2), droupout_rate = 0.3, regularizer_rate = 0.01)"
      ]
    },
    {
      "cell_type": "code",
      "execution_count": 16,
      "id": "81ca5cba",
      "metadata": {
        "id": "81ca5cba"
      },
      "outputs": [],
      "source": [
        "class LenetModel(Model):\n",
        "    def __init__(self, num_filters, kernel_size,num_strides, padding, activation_function, pool_size, output_activation,droupout_rate, regularizer_rate):\n",
        "        super(LenetModel, self).__init__()\n",
        "\n",
        "        self.featureExtractor = FeatureExtractor(\n",
        "                                    num_filters = num_filters,\n",
        "                                    kernel_size = kernel_size,\n",
        "                                    num_strides = num_strides,\n",
        "                                    padding = padding,\n",
        "                                    activation_function = activation_function,\n",
        "                                    pool_size = pool_size,\n",
        "                                    droupout_rate = droupout_rate,\n",
        "                                    regularizer_rate = regularizer_rate)\n",
        "        self.flatten = Flatten()\n",
        "\n",
        "        self.dense_1 = Dense(units = 100, activation=activation_function, kernel_regularizer = L2(regularizer_rate))\n",
        "        self.batch_1 = BatchNormalization()\n",
        "        self.droupout1 = Dropout(rate = droupout_rate)\n",
        "        self.dense_2 = Dense(units = 10, activation=activation_function, kernel_regularizer = L2(regularizer_rate))\n",
        "        self.batch_2 = BatchNormalization()\n",
        "\n",
        "        self.dense_3 = Dense(units=1, activation = output_activation)\n",
        "\n",
        "    def call(self, x, training):\n",
        "        x = self.featureExtractor(x)\n",
        "        x = self.flatten(x)\n",
        "\n",
        "        x = self.dense_1(x)\n",
        "        x = self.batch_1(x)\n",
        "        x = self.droupout1(x)\n",
        "\n",
        "        x = self.dense_2(x)\n",
        "        x = self.batch_2(x)\n",
        "\n",
        "        x = self.dense_3(x)\n",
        "\n",
        "        return x"
      ]
    },
    {
      "cell_type": "code",
      "execution_count": 17,
      "id": "597d959c",
      "metadata": {
        "colab": {
          "base_uri": "https://localhost:8080/"
        },
        "id": "597d959c",
        "outputId": "5ea5c009-a728-451d-ea52-c51108816383"
      },
      "outputs": [
        {
          "output_type": "stream",
          "name": "stdout",
          "text": [
            "Model: \"lenet_model\"\n",
            "_________________________________________________________________\n",
            " Layer (type)                Output Shape              Param #   \n",
            "=================================================================\n",
            " feature_extractor_1 (Featu  multiple                  1488      \n",
            " reExtractor)                                                    \n",
            "                                                                 \n",
            " flatten (Flatten)           multiple                  0         \n",
            "                                                                 \n",
            " dense (Dense)               multiple                  19009700  \n",
            "                                                                 \n",
            " batch_normalization_4 (Bat  multiple                  400       \n",
            " chNormalization)                                                \n",
            "                                                                 \n",
            " dropout_2 (Dropout)         multiple                  0         \n",
            "                                                                 \n",
            " dense_1 (Dense)             multiple                  1010      \n",
            "                                                                 \n",
            " batch_normalization_5 (Bat  multiple                  40        \n",
            " chNormalization)                                                \n",
            "                                                                 \n",
            " dense_2 (Dense)             multiple                  11        \n",
            "                                                                 \n",
            "=================================================================\n",
            "Total params: 19012649 (72.53 MB)\n",
            "Trainable params: 19012381 (72.53 MB)\n",
            "Non-trainable params: 268 (1.05 KB)\n",
            "_________________________________________________________________\n"
          ]
        }
      ],
      "source": [
        "lenet_model = LenetModel(num_filters = 8, kernel_size = 3,num_strides = 1, padding= \"valid\", activation_function = \"relu\", pool_size = (2,2),\n",
        "                         output_activation = \"sigmoid\", droupout_rate = 0.3, regularizer_rate=0.01)\n",
        "lenet_model(Input(shape= (IM_SIZE, IM_SIZE,3)))\n",
        "lenet_model.summary()"
      ]
    },
    {
      "cell_type": "markdown",
      "id": "3b2902e5",
      "metadata": {
        "id": "3b2902e5"
      },
      "source": [
        "# Optimizers"
      ]
    },
    {
      "cell_type": "code",
      "execution_count": 18,
      "id": "17593847",
      "metadata": {
        "id": "17593847"
      },
      "outputs": [],
      "source": [
        "metrics = [TruePositives(name='tp'), FalsePositives(name= 'fp'), FalseNegatives(name= 'fn'), TrueNegatives(name='tn'),\n",
        "          BinaryAccuracy(name='accuracy'), Precision(name='precision'), Recall(name='recall'), AUC(name='auc')]"
      ]
    },
    {
      "cell_type": "code",
      "execution_count": 19,
      "id": "cf679132",
      "metadata": {
        "id": "cf679132"
      },
      "outputs": [],
      "source": [
        "lenet_model.compile(optimizer=Adam(learning_rate=0.1), loss=BinaryCrossentropy(), metrics= metrics)"
      ]
    },
    {
      "cell_type": "markdown",
      "id": "afb322b3",
      "metadata": {
        "id": "afb322b3"
      },
      "source": [
        "# Callbacks"
      ]
    },
    {
      "cell_type": "code",
      "execution_count": 20,
      "id": "65d674b0",
      "metadata": {
        "id": "65d674b0"
      },
      "outputs": [],
      "source": [
        "class LossCallback(Callback):\n",
        "    def on_epoch_end(self, epoch, logs):\n",
        "        print(\"\\n For Epoch Number {} the model has a loss of {} \".format(epoch+1, logs[\"loss\"]))\n",
        "\n",
        "    def no_batch_end(self, batch, logs):\n",
        "        print(\"\\n For Batch Number {} the model has a loss of {} \".format(batch+1, logs))"
      ]
    },
    {
      "cell_type": "markdown",
      "id": "1693d2c6",
      "metadata": {
        "id": "1693d2c6"
      },
      "source": [
        "## CSVLogger"
      ]
    },
    {
      "cell_type": "code",
      "execution_count": 21,
      "id": "c080d651",
      "metadata": {
        "id": "c080d651"
      },
      "outputs": [],
      "source": [
        "csv_callback = CSVLogger( 'logs.csv', separator = ',', append = False)"
      ]
    },
    {
      "cell_type": "markdown",
      "id": "a43bec50",
      "metadata": {
        "id": "a43bec50"
      },
      "source": [
        "## EarlyStopping"
      ]
    },
    {
      "cell_type": "code",
      "execution_count": 22,
      "id": "c32f44a3",
      "metadata": {
        "id": "c32f44a3"
      },
      "outputs": [],
      "source": [
        "es_stopping = EarlyStopping(\n",
        "    monitor='val_loss',\n",
        "    min_delta=0,\n",
        "    patience=5,\n",
        "    verbose=0,\n",
        "    mode='auto',\n",
        "    baseline=None,\n",
        "    restore_best_weights=False,\n",
        ")"
      ]
    },
    {
      "cell_type": "markdown",
      "id": "3f41457e",
      "metadata": {
        "id": "3f41457e"
      },
      "source": [
        "## LearningRateScheduler"
      ]
    },
    {
      "cell_type": "code",
      "execution_count": 23,
      "id": "3f5b584f",
      "metadata": {
        "id": "3f5b584f"
      },
      "outputs": [],
      "source": [
        "def scheduler(epoch, lr):\n",
        "    if epoch < 5:\n",
        "        return lr\n",
        "    else:\n",
        "        return lr * tf.math.exp(-0.1)"
      ]
    },
    {
      "cell_type": "code",
      "execution_count": 24,
      "id": "d501739c",
      "metadata": {
        "id": "d501739c"
      },
      "outputs": [],
      "source": [
        "callbacks_scheduler = LearningRateScheduler(scheduler, verbose=1)"
      ]
    },
    {
      "cell_type": "markdown",
      "id": "gnNId_cK8CTL",
      "metadata": {
        "id": "gnNId_cK8CTL"
      },
      "source": [
        "# ModelCheckpointing"
      ]
    },
    {
      "cell_type": "code",
      "execution_count": 25,
      "id": "eLb0xeqH710i",
      "metadata": {
        "id": "eLb0xeqH710i"
      },
      "outputs": [],
      "source": [
        "checkpoints_callbacks = ModelCheckpoint(\n",
        "    'checkpoints/', monitor = 'val_loss', verbose = 1,\n",
        "    save_best_only = True,\n",
        "    save_weights_only = False,\n",
        "    mode = 'auto',\n",
        "    save_freq='epoch'\n",
        ")"
      ]
    },
    {
      "cell_type": "markdown",
      "id": "6ZEpeARCOl9U",
      "metadata": {
        "id": "6ZEpeARCOl9U"
      },
      "source": [
        "# ReduceLROnPlateau"
      ]
    },
    {
      "cell_type": "code",
      "execution_count": 26,
      "id": "X6YMOWZxOqzt",
      "metadata": {
        "id": "X6YMOWZxOqzt"
      },
      "outputs": [],
      "source": [
        "plateau_callbacks = ReduceLROnPlateau(monitor='val_loss', factor=0.2,verbose=1,\n",
        "                              patience=5, min_lr=0.001)"
      ]
    },
    {
      "cell_type": "markdown",
      "id": "f5e2239a",
      "metadata": {
        "id": "f5e2239a"
      },
      "source": [
        "# Train"
      ]
    },
    {
      "cell_type": "code",
      "execution_count": 27,
      "id": "d1728a21",
      "metadata": {
        "colab": {
          "base_uri": "https://localhost:8080/"
        },
        "id": "d1728a21",
        "outputId": "99955039-5a47-48a1-bc4c-4cffd6f2ca93",
        "scrolled": true
      },
      "outputs": [
        {
          "output_type": "stream",
          "name": "stdout",
          "text": [
            "Epoch 1/50\n",
            "689/689 [==============================] - 91s 109ms/step - loss: 56.1933 - tp: 5680.0000 - fp: 4514.0000 - fn: 5346.0000 - tn: 6506.0000 - accuracy: 0.5528 - precision: 0.5572 - recall: 0.5151 - auc: 0.5782 - val_loss: 6.5772 - val_tp: 1355.0000 - val_fp: 1269.0000 - val_fn: 40.0000 - val_tn: 91.0000 - val_accuracy: 0.5249 - val_precision: 0.5164 - val_recall: 0.9713 - val_auc: 0.6482 - lr: 0.1000\n",
            "Epoch 2/50\n",
            "689/689 [==============================] - 68s 98ms/step - loss: 28.9461 - tp: 5922.0000 - fp: 4994.0000 - fn: 5105.0000 - tn: 6025.0000 - accuracy: 0.5419 - precision: 0.5425 - recall: 0.5370 - auc: 0.5570 - val_loss: 4.2891 - val_tp: 0.0000e+00 - val_fp: 0.0000e+00 - val_fn: 1396.0000 - val_tn: 1359.0000 - val_accuracy: 0.4933 - val_precision: 0.0000e+00 - val_recall: 0.0000e+00 - val_auc: 0.6064 - lr: 0.1000\n",
            "Epoch 3/50\n",
            "689/689 [==============================] - 67s 97ms/step - loss: 12.4708 - tp: 6201.0000 - fp: 4894.0000 - fn: 4826.0000 - tn: 6125.0000 - accuracy: 0.5591 - precision: 0.5589 - recall: 0.5623 - auc: 0.5852 - val_loss: 10.0183 - val_tp: 0.0000e+00 - val_fp: 0.0000e+00 - val_fn: 1397.0000 - val_tn: 1358.0000 - val_accuracy: 0.4929 - val_precision: 0.0000e+00 - val_recall: 0.0000e+00 - val_auc: 0.5887 - lr: 0.1000\n",
            "Epoch 4/50\n",
            "689/689 [==============================] - 66s 95ms/step - loss: 23.0945 - tp: 6152.0000 - fp: 5183.0000 - fn: 4872.0000 - tn: 5839.0000 - accuracy: 0.5439 - precision: 0.5427 - recall: 0.5581 - auc: 0.5678 - val_loss: 15.0567 - val_tp: 1393.0000 - val_fp: 1362.0000 - val_fn: 0.0000e+00 - val_tn: 0.0000e+00 - val_accuracy: 0.5056 - val_precision: 0.5056 - val_recall: 1.0000 - val_auc: 0.6491 - lr: 0.1000\n",
            "Epoch 5/50\n",
            "689/689 [==============================] - 67s 97ms/step - loss: 15.4167 - tp: 6390.0000 - fp: 4832.0000 - fn: 4632.0000 - tn: 6192.0000 - accuracy: 0.5707 - precision: 0.5694 - recall: 0.5797 - auc: 0.5986 - val_loss: 465.8774 - val_tp: 0.0000e+00 - val_fp: 0.0000e+00 - val_fn: 1388.0000 - val_tn: 1367.0000 - val_accuracy: 0.4962 - val_precision: 0.0000e+00 - val_recall: 0.0000e+00 - val_auc: 0.5000 - lr: 0.1000\n",
            "Epoch 6/50\n",
            "689/689 [==============================] - 74s 107ms/step - loss: 17.4714 - tp: 6097.0000 - fp: 5057.0000 - fn: 4927.0000 - tn: 5965.0000 - accuracy: 0.5471 - precision: 0.5466 - recall: 0.5531 - auc: 0.5676 - val_loss: 24.5102 - val_tp: 0.0000e+00 - val_fp: 0.0000e+00 - val_fn: 1393.0000 - val_tn: 1362.0000 - val_accuracy: 0.4944 - val_precision: 0.0000e+00 - val_recall: 0.0000e+00 - val_auc: 0.5735 - lr: 0.1000\n",
            "Epoch 7/50\n",
            "689/689 [==============================] - ETA: 0s - loss: 16.9872 - tp: 6222.0000 - fp: 4892.0000 - fn: 4803.0000 - tn: 6129.0000 - accuracy: 0.5602 - precision: 0.5598 - recall: 0.5644 - auc: 0.5898\n",
            "Epoch 7: ReduceLROnPlateau reducing learning rate to 0.020000000298023225.\n",
            "689/689 [==============================] - 65s 95ms/step - loss: 16.9872 - tp: 6222.0000 - fp: 4892.0000 - fn: 4803.0000 - tn: 6129.0000 - accuracy: 0.5602 - precision: 0.5598 - recall: 0.5644 - auc: 0.5898 - val_loss: 13.6174 - val_tp: 1395.0000 - val_fp: 1360.0000 - val_fn: 0.0000e+00 - val_tn: 0.0000e+00 - val_accuracy: 0.5064 - val_precision: 0.5064 - val_recall: 1.0000 - val_auc: 0.6351 - lr: 0.1000\n",
            "Epoch 8/50\n",
            "689/689 [==============================] - 72s 105ms/step - loss: 4.5564 - tp: 7085.0000 - fp: 4253.0000 - fn: 3942.0000 - tn: 6766.0000 - accuracy: 0.6283 - precision: 0.6249 - recall: 0.6425 - auc: 0.6692 - val_loss: 3.3234 - val_tp: 6.0000 - val_fp: 0.0000e+00 - val_fn: 1386.0000 - val_tn: 1363.0000 - val_accuracy: 0.4969 - val_precision: 1.0000 - val_recall: 0.0043 - val_auc: 0.6702 - lr: 0.0200\n",
            "Epoch 9/50\n",
            "689/689 [==============================] - 74s 107ms/step - loss: 4.2569 - tp: 7027.0000 - fp: 4205.0000 - fn: 3995.0000 - tn: 6819.0000 - accuracy: 0.6281 - precision: 0.6256 - recall: 0.6375 - auc: 0.6746 - val_loss: 8.8579 - val_tp: 173.0000 - val_fp: 46.0000 - val_fn: 1221.0000 - val_tn: 1315.0000 - val_accuracy: 0.5401 - val_precision: 0.7900 - val_recall: 0.1241 - val_auc: 0.6709 - lr: 0.0200\n",
            "Epoch 10/50\n",
            "689/689 [==============================] - 65s 94ms/step - loss: 13.3184 - tp: 7021.0000 - fp: 4387.0000 - fn: 4004.0000 - tn: 6634.0000 - accuracy: 0.6194 - precision: 0.6154 - recall: 0.6368 - auc: 0.6674 - val_loss: 8.7373 - val_tp: 0.0000e+00 - val_fp: 0.0000e+00 - val_fn: 1391.0000 - val_tn: 1364.0000 - val_accuracy: 0.4951 - val_precision: 0.0000e+00 - val_recall: 0.0000e+00 - val_auc: 0.5000 - lr: 0.0200\n",
            "Epoch 11/50\n",
            "689/689 [==============================] - 65s 94ms/step - loss: 8.8365 - tp: 6924.0000 - fp: 4052.0000 - fn: 4099.0000 - tn: 6971.0000 - accuracy: 0.6303 - precision: 0.6308 - recall: 0.6281 - auc: 0.6714 - val_loss: 14.2932 - val_tp: 0.0000e+00 - val_fp: 0.0000e+00 - val_fn: 1385.0000 - val_tn: 1370.0000 - val_accuracy: 0.4973 - val_precision: 0.0000e+00 - val_recall: 0.0000e+00 - val_auc: 0.6383 - lr: 0.0200\n",
            "Epoch 12/50\n",
            "689/689 [==============================] - 74s 108ms/step - loss: 9.5016 - tp: 6904.0000 - fp: 3740.0000 - fn: 4119.0000 - tn: 7283.0000 - accuracy: 0.6435 - precision: 0.6486 - recall: 0.6263 - auc: 0.6892 - val_loss: 5.5455 - val_tp: 0.0000e+00 - val_fp: 0.0000e+00 - val_fn: 1387.0000 - val_tn: 1368.0000 - val_accuracy: 0.4966 - val_precision: 0.0000e+00 - val_recall: 0.0000e+00 - val_auc: 0.5000 - lr: 0.0200\n",
            "Epoch 13/50\n",
            "689/689 [==============================] - ETA: 0s - loss: 5.9283 - tp: 6970.0000 - fp: 4027.0000 - fn: 4055.0000 - tn: 6994.0000 - accuracy: 0.6334 - precision: 0.6338 - recall: 0.6322 - auc: 0.6794\n",
            "Epoch 13: ReduceLROnPlateau reducing learning rate to 0.003999999910593033.\n",
            "689/689 [==============================] - 66s 95ms/step - loss: 5.9283 - tp: 6970.0000 - fp: 4027.0000 - fn: 4055.0000 - tn: 6994.0000 - accuracy: 0.6334 - precision: 0.6338 - recall: 0.6322 - auc: 0.6794 - val_loss: 4.0158 - val_tp: 0.0000e+00 - val_fp: 0.0000e+00 - val_fn: 1395.0000 - val_tn: 1360.0000 - val_accuracy: 0.4936 - val_precision: 0.0000e+00 - val_recall: 0.0000e+00 - val_auc: 0.5000 - lr: 0.0200\n",
            "Epoch 14/50\n",
            "689/689 [==============================] - 73s 106ms/step - loss: 3.8743 - tp: 7245.0000 - fp: 4153.0000 - fn: 3777.0000 - tn: 6871.0000 - accuracy: 0.6403 - precision: 0.6356 - recall: 0.6573 - auc: 0.6936 - val_loss: 6.3214 - val_tp: 1391.0000 - val_fp: 1364.0000 - val_fn: 0.0000e+00 - val_tn: 0.0000e+00 - val_accuracy: 0.5049 - val_precision: 0.5049 - val_recall: 1.0000 - val_auc: 0.5496 - lr: 0.0040\n",
            "Epoch 15/50\n",
            "689/689 [==============================] - 73s 106ms/step - loss: 4.1477 - tp: 8162.0000 - fp: 3219.0000 - fn: 2863.0000 - tn: 7802.0000 - accuracy: 0.7241 - precision: 0.7172 - recall: 0.7403 - auc: 0.7744 - val_loss: 9.1913 - val_tp: 1282.0000 - val_fp: 1011.0000 - val_fn: 114.0000 - val_tn: 348.0000 - val_accuracy: 0.5917 - val_precision: 0.5591 - val_recall: 0.9183 - val_auc: 0.6497 - lr: 0.0040\n",
            "Epoch 16/50\n",
            "689/689 [==============================] - 72s 105ms/step - loss: 11.6989 - tp: 8864.0000 - fp: 2335.0000 - fn: 2161.0000 - tn: 8686.0000 - accuracy: 0.7961 - precision: 0.7915 - recall: 0.8040 - auc: 0.8502 - val_loss: 26.4506 - val_tp: 1349.0000 - val_fp: 1243.0000 - val_fn: 46.0000 - val_tn: 117.0000 - val_accuracy: 0.5321 - val_precision: 0.5204 - val_recall: 0.9670 - val_auc: 0.5372 - lr: 0.0040\n",
            "Epoch 17/50\n",
            "689/689 [==============================] - 73s 105ms/step - loss: 7.1322 - tp: 9628.0000 - fp: 1793.0000 - fn: 1394.0000 - tn: 9231.0000 - accuracy: 0.8554 - precision: 0.8430 - recall: 0.8735 - auc: 0.9058 - val_loss: 39.2361 - val_tp: 1364.0000 - val_fp: 1313.0000 - val_fn: 24.0000 - val_tn: 54.0000 - val_accuracy: 0.5147 - val_precision: 0.5095 - val_recall: 0.9827 - val_auc: 0.5137 - lr: 0.0040\n",
            "Epoch 18/50\n",
            "689/689 [==============================] - ETA: 0s - loss: 3.0456 - tp: 9905.0000 - fp: 1691.0000 - fn: 1120.0000 - tn: 9330.0000 - accuracy: 0.8725 - precision: 0.8542 - recall: 0.8984 - auc: 0.9191\n",
            "Epoch 18: ReduceLROnPlateau reducing learning rate to 0.001.\n",
            "689/689 [==============================] - 68s 99ms/step - loss: 3.0456 - tp: 9905.0000 - fp: 1691.0000 - fn: 1120.0000 - tn: 9330.0000 - accuracy: 0.8725 - precision: 0.8542 - recall: 0.8984 - auc: 0.9191 - val_loss: 14.4050 - val_tp: 1325.0000 - val_fp: 1197.0000 - val_fn: 60.0000 - val_tn: 173.0000 - val_accuracy: 0.5437 - val_precision: 0.5254 - val_recall: 0.9567 - val_auc: 0.5452 - lr: 0.0040\n",
            "Epoch 19/50\n",
            "689/689 [==============================] - 73s 105ms/step - loss: 1.3902 - tp: 10219.0000 - fp: 1412.0000 - fn: 807.0000 - tn: 9608.0000 - accuracy: 0.8993 - precision: 0.8786 - recall: 0.9268 - auc: 0.9380 - val_loss: 8.3622 - val_tp: 1365.0000 - val_fp: 1267.0000 - val_fn: 28.0000 - val_tn: 95.0000 - val_accuracy: 0.5299 - val_precision: 0.5186 - val_recall: 0.9799 - val_auc: 0.5459 - lr: 0.0010\n",
            "Epoch 20/50\n",
            "689/689 [==============================] - 73s 106ms/step - loss: 1.9312 - tp: 10313.0000 - fp: 1426.0000 - fn: 709.0000 - tn: 9598.0000 - accuracy: 0.9032 - precision: 0.8785 - recall: 0.9357 - auc: 0.9410 - val_loss: 6.6839 - val_tp: 1358.0000 - val_fp: 1236.0000 - val_fn: 33.0000 - val_tn: 128.0000 - val_accuracy: 0.5394 - val_precision: 0.5235 - val_recall: 0.9763 - val_auc: 0.5551 - lr: 0.0010\n",
            "Epoch 21/50\n",
            "689/689 [==============================] - 73s 106ms/step - loss: 1.0338 - tp: 10486.0000 - fp: 1486.0000 - fn: 539.0000 - tn: 9535.0000 - accuracy: 0.9081 - precision: 0.8759 - recall: 0.9511 - auc: 0.9407 - val_loss: 2.0013 - val_tp: 1343.0000 - val_fp: 912.0000 - val_fn: 46.0000 - val_tn: 454.0000 - val_accuracy: 0.6523 - val_precision: 0.5956 - val_recall: 0.9669 - val_auc: 0.8419 - lr: 0.0010\n",
            "Epoch 22/50\n",
            "689/689 [==============================] - 74s 107ms/step - loss: 0.8036 - tp: 10609.0000 - fp: 1612.0000 - fn: 415.0000 - tn: 9410.0000 - accuracy: 0.9081 - precision: 0.8681 - recall: 0.9624 - auc: 0.9371 - val_loss: 0.8693 - val_tp: 1002.0000 - val_fp: 124.0000 - val_fn: 389.0000 - val_tn: 1240.0000 - val_accuracy: 0.8138 - val_precision: 0.8899 - val_recall: 0.7203 - val_auc: 0.8670 - lr: 0.0010\n",
            "Epoch 23/50\n",
            "689/689 [==============================] - 73s 106ms/step - loss: 1.0581 - tp: 10578.0000 - fp: 1501.0000 - fn: 447.0000 - tn: 9520.0000 - accuracy: 0.9116 - precision: 0.8757 - recall: 0.9595 - auc: 0.9407 - val_loss: 2.7051 - val_tp: 1355.0000 - val_fp: 815.0000 - val_fn: 38.0000 - val_tn: 547.0000 - val_accuracy: 0.6904 - val_precision: 0.6244 - val_recall: 0.9727 - val_auc: 0.9118 - lr: 0.0010\n",
            "Epoch 24/50\n",
            "689/689 [==============================] - 66s 96ms/step - loss: 0.7971 - tp: 10673.0000 - fp: 1613.0000 - fn: 352.0000 - tn: 9408.0000 - accuracy: 0.9109 - precision: 0.8687 - recall: 0.9681 - auc: 0.9404 - val_loss: 0.9269 - val_tp: 953.0000 - val_fp: 113.0000 - val_fn: 434.0000 - val_tn: 1255.0000 - val_accuracy: 0.8015 - val_precision: 0.8940 - val_recall: 0.6871 - val_auc: 0.8548 - lr: 0.0010\n",
            "Epoch 25/50\n",
            "689/689 [==============================] - 68s 98ms/step - loss: 0.5542 - tp: 10559.0000 - fp: 1601.0000 - fn: 465.0000 - tn: 9421.0000 - accuracy: 0.9063 - precision: 0.8683 - recall: 0.9578 - auc: 0.9394 - val_loss: 2.5866 - val_tp: 452.0000 - val_fp: 12.0000 - val_fn: 940.0000 - val_tn: 1351.0000 - val_accuracy: 0.6544 - val_precision: 0.9741 - val_recall: 0.3247 - val_auc: 0.8470 - lr: 0.0010\n",
            "Epoch 26/50\n",
            "689/689 [==============================] - 65s 95ms/step - loss: 0.6764 - tp: 10680.0000 - fp: 1614.0000 - fn: 346.0000 - tn: 9406.0000 - accuracy: 0.9111 - precision: 0.8687 - recall: 0.9686 - auc: 0.9391 - val_loss: 1.1864 - val_tp: 621.0000 - val_fp: 57.0000 - val_fn: 767.0000 - val_tn: 1310.0000 - val_accuracy: 0.7009 - val_precision: 0.9159 - val_recall: 0.4474 - val_auc: 0.7588 - lr: 0.0010\n",
            "Epoch 27/50\n",
            "689/689 [==============================] - 73s 105ms/step - loss: 0.5695 - tp: 10681.0000 - fp: 1688.0000 - fn: 342.0000 - tn: 9335.0000 - accuracy: 0.9079 - precision: 0.8635 - recall: 0.9690 - auc: 0.9399 - val_loss: 1.8498 - val_tp: 139.0000 - val_fp: 85.0000 - val_fn: 1245.0000 - val_tn: 1286.0000 - val_accuracy: 0.5172 - val_precision: 0.6205 - val_recall: 0.1004 - val_auc: 0.5304 - lr: 0.0010\n",
            "Epoch 28/50\n",
            "689/689 [==============================] - 73s 105ms/step - loss: 0.7572 - tp: 10625.0000 - fp: 1516.0000 - fn: 400.0000 - tn: 9505.0000 - accuracy: 0.9131 - precision: 0.8751 - recall: 0.9637 - auc: 0.9408 - val_loss: 1.0744 - val_tp: 1287.0000 - val_fp: 571.0000 - val_fn: 101.0000 - val_tn: 796.0000 - val_accuracy: 0.7561 - val_precision: 0.6927 - val_recall: 0.9272 - val_auc: 0.8858 - lr: 0.0010\n",
            "Epoch 29/50\n",
            "689/689 [==============================] - 66s 95ms/step - loss: 1.2592 - tp: 10572.0000 - fp: 1524.0000 - fn: 450.0000 - tn: 9500.0000 - accuracy: 0.9105 - precision: 0.8740 - recall: 0.9592 - auc: 0.9432 - val_loss: 1.0344 - val_tp: 941.0000 - val_fp: 49.0000 - val_fn: 446.0000 - val_tn: 1319.0000 - val_accuracy: 0.8203 - val_precision: 0.9505 - val_recall: 0.6784 - val_auc: 0.9059 - lr: 0.0010\n",
            "Epoch 30/50\n",
            "689/689 [==============================] - 72s 105ms/step - loss: 1.1954 - tp: 10579.0000 - fp: 1501.0000 - fn: 446.0000 - tn: 9520.0000 - accuracy: 0.9117 - precision: 0.8757 - recall: 0.9595 - auc: 0.9424 - val_loss: 9.1801 - val_tp: 1380.0000 - val_fp: 1306.0000 - val_fn: 13.0000 - val_tn: 56.0000 - val_accuracy: 0.5212 - val_precision: 0.5138 - val_recall: 0.9907 - val_auc: 0.5220 - lr: 0.0010\n",
            "Epoch 31/50\n",
            "689/689 [==============================] - 73s 105ms/step - loss: 1.3845 - tp: 10521.0000 - fp: 1450.0000 - fn: 505.0000 - tn: 9570.0000 - accuracy: 0.9113 - precision: 0.8789 - recall: 0.9542 - auc: 0.9434 - val_loss: 1.8375 - val_tp: 1336.0000 - val_fp: 787.0000 - val_fn: 60.0000 - val_tn: 572.0000 - val_accuracy: 0.6926 - val_precision: 0.6293 - val_recall: 0.9570 - val_auc: 0.8526 - lr: 0.0010\n",
            "Epoch 32/50\n",
            "689/689 [==============================] - 74s 107ms/step - loss: 0.6409 - tp: 10561.0000 - fp: 1535.0000 - fn: 465.0000 - tn: 9485.0000 - accuracy: 0.9093 - precision: 0.8731 - recall: 0.9578 - auc: 0.9415 - val_loss: 11.8419 - val_tp: 1396.0000 - val_fp: 1359.0000 - val_fn: 0.0000e+00 - val_tn: 0.0000e+00 - val_accuracy: 0.5067 - val_precision: 0.5067 - val_recall: 1.0000 - val_auc: 0.5000 - lr: 0.0010\n",
            "Epoch 33/50\n",
            "689/689 [==============================] - 65s 95ms/step - loss: 0.7165 - tp: 10466.0000 - fp: 1441.0000 - fn: 556.0000 - tn: 9583.0000 - accuracy: 0.9094 - precision: 0.8790 - recall: 0.9496 - auc: 0.9436 - val_loss: 7.4827 - val_tp: 1376.0000 - val_fp: 1292.0000 - val_fn: 16.0000 - val_tn: 71.0000 - val_accuracy: 0.5252 - val_precision: 0.5157 - val_recall: 0.9885 - val_auc: 0.5317 - lr: 0.0010\n",
            "Epoch 34/50\n",
            "689/689 [==============================] - 65s 95ms/step - loss: 0.5653 - tp: 10549.0000 - fp: 1486.0000 - fn: 473.0000 - tn: 9538.0000 - accuracy: 0.9111 - precision: 0.8765 - recall: 0.9571 - auc: 0.9435 - val_loss: 6.4141 - val_tp: 1356.0000 - val_fp: 1195.0000 - val_fn: 37.0000 - val_tn: 167.0000 - val_accuracy: 0.5528 - val_precision: 0.5316 - val_recall: 0.9734 - val_auc: 0.5804 - lr: 0.0010\n",
            "Epoch 35/50\n",
            "689/689 [==============================] - 73s 106ms/step - loss: 0.4857 - tp: 10503.0000 - fp: 1452.0000 - fn: 518.0000 - tn: 9573.0000 - accuracy: 0.9106 - precision: 0.8785 - recall: 0.9530 - auc: 0.9441 - val_loss: 1.7586 - val_tp: 3.0000 - val_fp: 19.0000 - val_fn: 1392.0000 - val_tn: 1341.0000 - val_accuracy: 0.4878 - val_precision: 0.1364 - val_recall: 0.0022 - val_auc: 0.2710 - lr: 0.0010\n",
            "Epoch 36/50\n",
            "689/689 [==============================] - 66s 96ms/step - loss: 0.8080 - tp: 10576.0000 - fp: 1552.0000 - fn: 448.0000 - tn: 9470.0000 - accuracy: 0.9093 - precision: 0.8720 - recall: 0.9594 - auc: 0.9409 - val_loss: 2.3508 - val_tp: 1.0000 - val_fp: 16.0000 - val_fn: 1395.0000 - val_tn: 1343.0000 - val_accuracy: 0.4878 - val_precision: 0.0588 - val_recall: 7.1633e-04 - val_auc: 0.1727 - lr: 0.0010\n",
            "Epoch 37/50\n",
            "689/689 [==============================] - 73s 106ms/step - loss: 0.9861 - tp: 10629.0000 - fp: 1529.0000 - fn: 397.0000 - tn: 9491.0000 - accuracy: 0.9126 - precision: 0.8742 - recall: 0.9640 - auc: 0.9423 - val_loss: 3.7225 - val_tp: 1319.0000 - val_fp: 897.0000 - val_fn: 73.0000 - val_tn: 466.0000 - val_accuracy: 0.6479 - val_precision: 0.5952 - val_recall: 0.9476 - val_auc: 0.7627 - lr: 0.0010\n",
            "Epoch 38/50\n",
            "689/689 [==============================] - 66s 96ms/step - loss: 1.4376 - tp: 10608.0000 - fp: 1554.0000 - fn: 418.0000 - tn: 9466.0000 - accuracy: 0.9106 - precision: 0.8722 - recall: 0.9621 - auc: 0.9407 - val_loss: 1.8766 - val_tp: 246.0000 - val_fp: 24.0000 - val_fn: 1141.0000 - val_tn: 1344.0000 - val_accuracy: 0.5771 - val_precision: 0.9111 - val_recall: 0.1774 - val_auc: 0.7843 - lr: 0.0010\n",
            "Epoch 39/50\n",
            "689/689 [==============================] - 74s 107ms/step - loss: 1.4129 - tp: 10528.0000 - fp: 1481.0000 - fn: 497.0000 - tn: 9540.0000 - accuracy: 0.9103 - precision: 0.8767 - recall: 0.9549 - auc: 0.9429 - val_loss: 1.8156 - val_tp: 133.0000 - val_fp: 27.0000 - val_fn: 1258.0000 - val_tn: 1337.0000 - val_accuracy: 0.5336 - val_precision: 0.8313 - val_recall: 0.0956 - val_auc: 0.7702 - lr: 0.0010\n",
            "Epoch 40/50\n",
            "689/689 [==============================] - 73s 106ms/step - loss: 0.9354 - tp: 10559.0000 - fp: 1514.0000 - fn: 464.0000 - tn: 9509.0000 - accuracy: 0.9103 - precision: 0.8746 - recall: 0.9579 - auc: 0.9423 - val_loss: 2.1520 - val_tp: 0.0000e+00 - val_fp: 6.0000 - val_fn: 1398.0000 - val_tn: 1351.0000 - val_accuracy: 0.4904 - val_precision: 0.0000e+00 - val_recall: 0.0000e+00 - val_auc: 0.9414 - lr: 0.0010\n",
            "Epoch 41/50\n",
            "689/689 [==============================] - 73s 106ms/step - loss: 1.0351 - tp: 10661.0000 - fp: 1639.0000 - fn: 361.0000 - tn: 9385.0000 - accuracy: 0.9093 - precision: 0.8667 - recall: 0.9672 - auc: 0.9383 - val_loss: 4.6855 - val_tp: 1328.0000 - val_fp: 1033.0000 - val_fn: 59.0000 - val_tn: 335.0000 - val_accuracy: 0.6036 - val_precision: 0.5625 - val_recall: 0.9575 - val_auc: 0.6883 - lr: 0.0010\n",
            "Epoch 42/50\n",
            "689/689 [==============================] - 74s 108ms/step - loss: 1.1804 - tp: 10655.0000 - fp: 1571.0000 - fn: 369.0000 - tn: 9451.0000 - accuracy: 0.9120 - precision: 0.8715 - recall: 0.9665 - auc: 0.9395 - val_loss: 1.4643 - val_tp: 554.0000 - val_fp: 25.0000 - val_fn: 838.0000 - val_tn: 1338.0000 - val_accuracy: 0.6868 - val_precision: 0.9568 - val_recall: 0.3980 - val_auc: 0.8527 - lr: 0.0010\n",
            "Epoch 43/50\n",
            "689/689 [==============================] - 67s 97ms/step - loss: 0.7360 - tp: 10573.0000 - fp: 1552.0000 - fn: 453.0000 - tn: 9468.0000 - accuracy: 0.9091 - precision: 0.8720 - recall: 0.9589 - auc: 0.9398 - val_loss: 2.7293 - val_tp: 1299.0000 - val_fp: 721.0000 - val_fn: 97.0000 - val_tn: 638.0000 - val_accuracy: 0.7031 - val_precision: 0.6431 - val_recall: 0.9305 - val_auc: 0.8089 - lr: 0.0010\n",
            "Epoch 44/50\n",
            "689/689 [==============================] - 73s 106ms/step - loss: 0.5661 - tp: 10654.0000 - fp: 1635.0000 - fn: 369.0000 - tn: 9388.0000 - accuracy: 0.9091 - precision: 0.8670 - recall: 0.9665 - auc: 0.9374 - val_loss: 2.2677 - val_tp: 13.0000 - val_fp: 45.0000 - val_fn: 1382.0000 - val_tn: 1315.0000 - val_accuracy: 0.4820 - val_precision: 0.2241 - val_recall: 0.0093 - val_auc: 0.2613 - lr: 0.0010\n",
            "Epoch 45/50\n",
            "689/689 [==============================] - 68s 98ms/step - loss: 0.5961 - tp: 10642.0000 - fp: 1566.0000 - fn: 382.0000 - tn: 9456.0000 - accuracy: 0.9116 - precision: 0.8717 - recall: 0.9653 - auc: 0.9395 - val_loss: 0.6062 - val_tp: 918.0000 - val_fp: 42.0000 - val_fn: 474.0000 - val_tn: 1321.0000 - val_accuracy: 0.8127 - val_precision: 0.9563 - val_recall: 0.6595 - val_auc: 0.9558 - lr: 0.0010\n",
            "Epoch 46/50\n",
            "689/689 [==============================] - 73s 105ms/step - loss: 0.6618 - tp: 10638.0000 - fp: 1538.0000 - fn: 387.0000 - tn: 9483.0000 - accuracy: 0.9127 - precision: 0.8737 - recall: 0.9649 - auc: 0.9406 - val_loss: 2.0380 - val_tp: 23.0000 - val_fp: 79.0000 - val_fn: 1370.0000 - val_tn: 1283.0000 - val_accuracy: 0.4740 - val_precision: 0.2255 - val_recall: 0.0165 - val_auc: 0.1233 - lr: 0.0010\n",
            "Epoch 47/50\n",
            "689/689 [==============================] - 73s 106ms/step - loss: 0.5789 - tp: 10636.0000 - fp: 1602.0000 - fn: 386.0000 - tn: 9422.0000 - accuracy: 0.9098 - precision: 0.8691 - recall: 0.9650 - auc: 0.9409 - val_loss: 1.9548 - val_tp: 14.0000 - val_fp: 45.0000 - val_fn: 1380.0000 - val_tn: 1316.0000 - val_accuracy: 0.4828 - val_precision: 0.2373 - val_recall: 0.0100 - val_auc: 0.1336 - lr: 0.0010\n",
            "Epoch 48/50\n",
            "689/689 [==============================] - 66s 96ms/step - loss: 0.6943 - tp: 10598.0000 - fp: 1595.0000 - fn: 427.0000 - tn: 9426.0000 - accuracy: 0.9083 - precision: 0.8692 - recall: 0.9613 - auc: 0.9387 - val_loss: 1.0524 - val_tp: 1237.0000 - val_fp: 451.0000 - val_fn: 159.0000 - val_tn: 908.0000 - val_accuracy: 0.7786 - val_precision: 0.7328 - val_recall: 0.8861 - val_auc: 0.8830 - lr: 0.0010\n",
            "Epoch 49/50\n",
            "689/689 [==============================] - 73s 106ms/step - loss: 0.5925 - tp: 10560.0000 - fp: 1527.0000 - fn: 462.0000 - tn: 9497.0000 - accuracy: 0.9098 - precision: 0.8737 - recall: 0.9581 - auc: 0.9407 - val_loss: 2.3912 - val_tp: 1355.0000 - val_fp: 654.0000 - val_fn: 30.0000 - val_tn: 716.0000 - val_accuracy: 0.7517 - val_precision: 0.6745 - val_recall: 0.9783 - val_auc: 0.8858 - lr: 0.0010\n",
            "Epoch 50/50\n",
            "689/689 [==============================] - 73s 106ms/step - loss: 1.0509 - tp: 10532.0000 - fp: 1499.0000 - fn: 494.0000 - tn: 9521.0000 - accuracy: 0.9096 - precision: 0.8754 - recall: 0.9552 - auc: 0.9423 - val_loss: 1.5267 - val_tp: 954.0000 - val_fp: 62.0000 - val_fn: 442.0000 - val_tn: 1297.0000 - val_accuracy: 0.8171 - val_precision: 0.9390 - val_recall: 0.6834 - val_auc: 0.9420 - lr: 0.0010\n"
          ]
        }
      ],
      "source": [
        "history = lenet_model.fit(train_dataset, validation_data=val_dataset, epochs = 50, verbose=1, callbacks = [csv_callback, plateau_callbacks])"
      ]
    },
    {
      "cell_type": "markdown",
      "id": "f5345391",
      "metadata": {
        "id": "f5345391"
      },
      "source": [
        "# Loss"
      ]
    },
    {
      "cell_type": "code",
      "execution_count": 28,
      "id": "06d594b6",
      "metadata": {
        "colab": {
          "base_uri": "https://localhost:8080/",
          "height": 472
        },
        "id": "06d594b6",
        "outputId": "4963250e-fd6e-4eaa-ec43-8a75b99d4c0c"
      },
      "outputs": [
        {
          "output_type": "display_data",
          "data": {
            "text/plain": [
              "<Figure size 640x480 with 1 Axes>"
            ],
            "image/png": "[encoded data removed]"
          },
          "metadata": {}
        }
      ],
      "source": [
        "plt.plot(history.history['loss'])\n",
        "plt.plot(history.history['val_loss'])\n",
        "\n",
        "plt.title('Model loss')\n",
        "plt.ylabel('loss')\n",
        "plt.xlabel('epoch')\n",
        "plt.legend(['train','val'])\n",
        "plt.grid(True)\n",
        "plt.show()"
      ]
    },
    {
      "cell_type": "markdown",
      "id": "bd5488f5",
      "metadata": {
        "id": "bd5488f5"
      },
      "source": [
        "# Performance"
      ]
    },
    {
      "cell_type": "code",
      "execution_count": 29,
      "id": "f247c731",
      "metadata": {
        "colab": {
          "base_uri": "https://localhost:8080/",
          "height": 472
        },
        "id": "f247c731",
        "outputId": "66d87396-5405-4d92-d8e6-a6bd73a88e9b"
      },
      "outputs": [
        {
          "output_type": "display_data",
          "data": {
            "text/plain": [
              "<Figure size 640x480 with 1 Axes>"
            ],
            "image/png": "[encoded data removed]"
          },
          "metadata": {}
        }
      ],
      "source": [
        "plt.plot(history.history['accuracy'])\n",
        "plt.plot(history.history['val_accuracy'])\n",
        "plt.title('Model Performance')\n",
        "plt.ylabel('Accuracy')\n",
        "plt.xlabel('Epoch')\n",
        "plt.legend(['train_accuracy', 'val_accuracy'])\n",
        "plt.show()"
      ]
    },
    {
      "cell_type": "markdown",
      "id": "1f7a6fc8",
      "metadata": {
        "id": "1f7a6fc8"
      },
      "source": [
        "# Model Evaluation and Testing"
      ]
    },
    {
      "cell_type": "code",
      "execution_count": 30,
      "id": "f5a02e1a",
      "metadata": {
        "colab": {
          "base_uri": "https://localhost:8080/"
        },
        "id": "f5a02e1a",
        "outputId": "0fd119a7-26b1-45e7-e79a-b795fd2a1d26"
      },
      "outputs": [
        {
          "output_type": "execute_result",
          "data": {
            "text/plain": [
              "<_MapDataset element_spec=(TensorSpec(shape=(224, 224, 3), dtype=tf.float32, name=None), TensorSpec(shape=(), dtype=tf.int64, name=None))>"
            ]
          },
          "metadata": {},
          "execution_count": 30
        }
      ],
      "source": [
        "test_dataset"
      ]
    },
    {
      "cell_type": "code",
      "execution_count": 31,
      "id": "035d5650",
      "metadata": {
        "colab": {
          "base_uri": "https://localhost:8080/"
        },
        "id": "035d5650",
        "outputId": "4de87c00-c9cc-46f9-8dff-5d975b9a7545"
      },
      "outputs": [
        {
          "output_type": "execute_result",
          "data": {
            "text/plain": [
              "<_BatchDataset element_spec=(TensorSpec(shape=(None, 224, 224, 3), dtype=tf.float32, name=None), TensorSpec(shape=(None,), dtype=tf.int64, name=None))>"
            ]
          },
          "metadata": {},
          "execution_count": 31
        }
      ],
      "source": [
        "test_dataset = test_dataset.batch(1)\n",
        "test_dataset"
      ]
    },
    {
      "cell_type": "code",
      "execution_count": 32,
      "id": "45fb8b70",
      "metadata": {
        "colab": {
          "base_uri": "https://localhost:8080/"
        },
        "id": "45fb8b70",
        "outputId": "4c09252e-ab0b-4819-e94d-9b6b7dcbeea3"
      },
      "outputs": [
        {
          "output_type": "stream",
          "name": "stdout",
          "text": [
            "2757/2757 [==============================] - 26s 5ms/step - loss: 1.5506 - tp: 894.0000 - fp: 80.0000 - fn: 471.0000 - tn: 1312.0000 - accuracy: 0.8001 - precision: 0.9179 - recall: 0.6549 - auc: 0.9298\n"
          ]
        },
        {
          "output_type": "execute_result",
          "data": {
            "text/plain": [
              "{'loss': 1.550575852394104,\n",
              " 'tp': 894.0,\n",
              " 'fp': 80.0,\n",
              " 'fn': 471.0,\n",
              " 'tn': 1312.0,\n",
              " 'accuracy': 0.8001450896263123,\n",
              " 'precision': 0.9178645014762878,\n",
              " 'recall': 0.6549450755119324,\n",
              " 'auc': 0.9298479557037354}"
            ]
          },
          "metadata": {},
          "execution_count": 32
        }
      ],
      "source": [
        "evals = lenet_model.evaluate(test_dataset, return_dict = True)\n",
        "evals"
      ]
    },
    {
      "cell_type": "markdown",
      "id": "6328ed37",
      "metadata": {
        "id": "6328ed37"
      },
      "source": [
        "# Predict"
      ]
    },
    {
      "cell_type": "code",
      "execution_count": 33,
      "id": "0869eecc",
      "metadata": {
        "colab": {
          "base_uri": "https://localhost:8080/"
        },
        "id": "0869eecc",
        "outputId": "312a8aa9-c9a2-4411-95ba-0dce358dd9b5"
      },
      "outputs": [
        {
          "output_type": "stream",
          "name": "stdout",
          "text": [
            "1/1 [==============================] - 11s 11s/step\n"
          ]
        },
        {
          "output_type": "execute_result",
          "data": {
            "text/plain": [
              "0.23647086"
            ]
          },
          "metadata": {},
          "execution_count": 33
        }
      ],
      "source": [
        "lenet_model.predict(test_dataset.take(1))[0][0]"
      ]
    },
    {
      "cell_type": "code",
      "execution_count": 34,
      "id": "93c592c3",
      "metadata": {
        "id": "93c592c3"
      },
      "outputs": [],
      "source": [
        "def parasite_or_not(x):\n",
        "    if x<0.5:\n",
        "        return str('P')\n",
        "    else:\n",
        "        return str('U')"
      ]
    },
    {
      "cell_type": "code",
      "execution_count": 35,
      "id": "57a419e8",
      "metadata": {
        "colab": {
          "base_uri": "https://localhost:8080/",
          "height": 53
        },
        "id": "57a419e8",
        "outputId": "3e20d84d-a560-4130-8a2d-e8759a164e75"
      },
      "outputs": [
        {
          "output_type": "stream",
          "name": "stdout",
          "text": [
            "1/1 [==============================] - 11s 11s/step\n"
          ]
        },
        {
          "output_type": "execute_result",
          "data": {
            "text/plain": [
              "'U'"
            ],
            "application/vnd.google.colaboratory.intrinsic+json": {
              "type": "string"
            }
          },
          "metadata": {},
          "execution_count": 35
        }
      ],
      "source": [
        "parasite_or_not(lenet_model.predict(test_dataset.take(1))[0][0])"
      ]
    },
    {
      "cell_type": "code",
      "execution_count": 36,
      "id": "a66b408a",
      "metadata": {
        "colab": {
          "base_uri": "https://localhost:8080/",
          "height": 584
        },
        "id": "a66b408a",
        "outputId": "3a1cde2a-0604-4f29-d42b-52d9e8713ea4",
        "scrolled": true
      },
      "outputs": [
        {
          "output_type": "stream",
          "name": "stdout",
          "text": [
            "1/1 [==============================] - 0s 179ms/step\n",
            "1/1 [==============================] - 0s 30ms/step\n",
            "1/1 [==============================] - 0s 29ms/step\n",
            "1/1 [==============================] - 0s 19ms/step\n",
            "1/1 [==============================] - 0s 18ms/step\n",
            "1/1 [==============================] - 0s 19ms/step\n",
            "1/1 [==============================] - 0s 21ms/step\n",
            "1/1 [==============================] - 0s 19ms/step\n",
            "1/1 [==============================] - 0s 19ms/step\n"
          ]
        },
        {
          "output_type": "display_data",
          "data": {
            "text/plain": [
              "<Figure size 640x480 with 9 Axes>"
            ],
            "image/png": "[encoded data removed]"
          },
          "metadata": {}
        }
      ],
      "source": [
        "for i, (image, label) in enumerate(test_dataset.take(9)):\n",
        "    ax = plt.subplot(3, 3, i + 1)\n",
        "    plt.imshow(image[0])\n",
        "    res = lenet_model.predict(image)[0][0]\n",
        "    plt.title(str(parasite_or_not(label.numpy()[0])) + \":\" + str(parasite_or_not(res)) + \":\"+ str(round(res, 2)))\n",
        "    plt.axis('off')"
      ]
    },
    {
      "cell_type": "markdown",
      "id": "442e85ea",
      "metadata": {
        "id": "442e85ea"
      },
      "source": [
        "# Visualising Confusion Matrix"
      ]
    },
    {
      "cell_type": "code",
      "execution_count": 37,
      "id": "3c62257d",
      "metadata": {
        "id": "3c62257d"
      },
      "outputs": [],
      "source": [
        "inps = []\n",
        "labels = []\n",
        "for x,y in test_dataset.as_numpy_iterator():\n",
        "    labels.append(y)\n",
        "    inps.append(x)"
      ]
    },
    {
      "cell_type": "code",
      "execution_count": 38,
      "id": "87b649cf",
      "metadata": {
        "colab": {
          "base_uri": "https://localhost:8080/"
        },
        "id": "87b649cf",
        "outputId": "ca066977-fc20-4ba7-df0e-3cf462a04efd"
      },
      "outputs": [
        {
          "output_type": "execute_result",
          "data": {
            "text/plain": [
              "[array([1]), array([0]), array([0]), array([0]), array([0])]"
            ]
          },
          "metadata": {},
          "execution_count": 38
        }
      ],
      "source": [
        "labels[:5]"
      ]
    },
    {
      "cell_type": "code",
      "execution_count": 39,
      "id": "b8635324",
      "metadata": {
        "colab": {
          "base_uri": "https://localhost:8080/"
        },
        "id": "b8635324",
        "outputId": "f3dee2f5-13cf-4c71-f187-9fba807ab422"
      },
      "outputs": [
        {
          "output_type": "stream",
          "name": "stdout",
          "text": [
            "[1 0 0 ... 1 0 1]\n"
          ]
        }
      ],
      "source": [
        "labels = np.array([i[0] for i in labels])\n",
        "print(labels)"
      ]
    },
    {
      "cell_type": "code",
      "execution_count": 40,
      "id": "f376c7bf",
      "metadata": {
        "colab": {
          "base_uri": "https://localhost:8080/"
        },
        "id": "f376c7bf",
        "outputId": "8de517a2-11cd-42d8-f5f2-4f89fb8f71cb"
      },
      "outputs": [
        {
          "output_type": "stream",
          "name": "stdout",
          "text": [
            "87/87 [==============================] - 2s 17ms/step\n"
          ]
        },
        {
          "output_type": "execute_result",
          "data": {
            "text/plain": [
              "(2757, 1)"
            ]
          },
          "metadata": {},
          "execution_count": 40
        }
      ],
      "source": [
        "predicted = lenet_model.predict(np.array(inps)[:,0,...])\n",
        "predicted.shape"
      ]
    },
    {
      "cell_type": "code",
      "execution_count": 41,
      "id": "728bc659",
      "metadata": {
        "colab": {
          "base_uri": "https://localhost:8080/"
        },
        "id": "728bc659",
        "outputId": "1ef95896-e979-48d8-b238-30b23ccd5e70"
      },
      "outputs": [
        {
          "output_type": "execute_result",
          "data": {
            "text/plain": [
              "array([0.57595253, 0.04314045, 0.2092675 , ..., 0.60323244, 0.0839042 ,\n",
              "       0.7117275 ], dtype=float32)"
            ]
          },
          "metadata": {},
          "execution_count": 41
        }
      ],
      "source": [
        "predicted[:, 0]"
      ]
    },
    {
      "cell_type": "code",
      "execution_count": 42,
      "id": "07d354d8",
      "metadata": {
        "colab": {
          "base_uri": "https://localhost:8080/"
        },
        "id": "07d354d8",
        "outputId": "3b6d091c-d3f0-4d92-c151-82a9245ac784"
      },
      "outputs": [
        {
          "output_type": "execute_result",
          "data": {
            "text/plain": [
              "(2757,)"
            ]
          },
          "metadata": {},
          "execution_count": 42
        }
      ],
      "source": [
        "predicted = predicted.squeeze()\n",
        "predicted.shape"
      ]
    },
    {
      "cell_type": "code",
      "execution_count": 43,
      "id": "8a77c084",
      "metadata": {
        "colab": {
          "base_uri": "https://localhost:8080/"
        },
        "id": "8a77c084",
        "outputId": "3e514bb6-f130-47f7-ae18-e7da945b50bf"
      },
      "outputs": [
        {
          "output_type": "stream",
          "name": "stdout",
          "text": [
            "[[1315   81]\n",
            " [ 469  892]]\n"
          ]
        }
      ],
      "source": [
        "threshold = 0.5\n",
        "\n",
        "cm = confusion_matrix(labels, predicted > threshold)\n",
        "print(cm)"
      ]
    },
    {
      "cell_type": "code",
      "execution_count": 44,
      "id": "2f19e25e",
      "metadata": {
        "colab": {
          "base_uri": "https://localhost:8080/"
        },
        "id": "2f19e25e",
        "outputId": "dc418719-6bfb-4991-8245-8270c3e18d8e"
      },
      "outputs": [
        {
          "output_type": "stream",
          "name": "stdout",
          "text": [
            "[[1315   81]\n",
            " [ 469  892]]\n"
          ]
        }
      ],
      "source": [
        "print(cm)"
      ]
    },
    {
      "cell_type": "code",
      "execution_count": 45,
      "id": "77a0be0a",
      "metadata": {
        "colab": {
          "base_uri": "https://localhost:8080/",
          "height": 735
        },
        "id": "77a0be0a",
        "outputId": "7374251b-cba9-4b42-9ad3-5d1d7844129c"
      },
      "outputs": [
        {
          "output_type": "execute_result",
          "data": {
            "text/plain": [
              "Text(0.5, 58.7222222222222, 'Predicted')"
            ]
          },
          "metadata": {},
          "execution_count": 45
        },
        {
          "output_type": "display_data",
          "data": {
            "text/plain": [
              "<Figure size 800x800 with 2 Axes>"
            ],
            "image/png": "[encoded data removed]"
          },
          "metadata": {}
        }
      ],
      "source": [
        "plt.figure(figsize = (8, 8))\n",
        "sns.heatmap(cm, annot=True,)\n",
        "plt.title('Confusion matrix - {}'.format(threshold))\n",
        "plt.ylabel('Actual')\n",
        "plt.xlabel('Predicted')"
      ]
    },
    {
      "cell_type": "markdown",
      "id": "c6f16241",
      "metadata": {
        "id": "c6f16241"
      },
      "source": [
        "# ROC Plots"
      ]
    },
    {
      "cell_type": "code",
      "execution_count": 46,
      "id": "1469adb6",
      "metadata": {
        "colab": {
          "base_uri": "https://localhost:8080/",
          "height": 449
        },
        "id": "1469adb6",
        "outputId": "7f6a2554-cec0-4699-aa19-6ac3c0a7c3d1"
      },
      "outputs": [
        {
          "output_type": "display_data",
          "data": {
            "text/plain": [
              "<Figure size 640x480 with 1 Axes>"
            ],
            "image/png": "[encoded data removed]"
          },
          "metadata": {}
        }
      ],
      "source": [
        "fp, tp ,threshoulds = roc_curve(labels, predicted)\n",
        "plt.plot(fp, tp)\n",
        "plt.xlabel('False Positive Rate')\n",
        "plt.ylabel('True Positive Rate')\n",
        "\n",
        "plt.grid()\n",
        "\n",
        "skip = 50\n",
        "\n",
        "for i in range(0, len(threshoulds), skip):\n",
        "    plt.text(fp[i], tp[i], threshoulds[i])\n",
        "plt.show()"
      ]
    },
    {
      "cell_type": "code",
      "execution_count": 47,
      "id": "6bc4003d",
      "metadata": {
        "colab": {
          "base_uri": "https://localhost:8080/"
        },
        "id": "6bc4003d",
        "outputId": "06038458-a423-4d53-cf40-749735caba19"
      },
      "outputs": [
        {
          "output_type": "execute_result",
          "data": {
            "text/plain": [
              "0.7643530419880034"
            ]
          },
          "metadata": {},
          "execution_count": 47
        }
      ],
      "source": [
        "f1 = f1_score(y_true= labels, y_pred= np.round(predicted))\n",
        "f1"
      ]
    },
    {
      "cell_type": "code",
      "execution_count": 47,
      "id": "a6ada318",
      "metadata": {
        "id": "a6ada318"
      },
      "outputs": [],
      "source": []
    }
  ],
  "metadata": {
    "accelerator": "GPU",
    "colab": {
      "provenance": []
    },
    "kernelspec": {
      "display_name": "Python 3 (ipykernel)",
      "language": "python",
      "name": "python3"
    },
    "language_info": {
      "codemirror_mode": {
        "name": "ipython",
        "version": 3
      },
      "file_extension": ".py",
      "mimetype": "text/x-python",
      "name": "python",
      "nbconvert_exporter": "python",
      "pygments_lexer": "ipython3",
      "version": "3.9.18"
    },
    "widgets": {
      "application/vnd.jupyter.widget-state+json": {
        "f9b7afe18e1049cd87b2ce2745f15667": {
          "model_module": "@jupyter-widgets/controls",
          "model_name": "HBoxModel",
          "model_module_version": "1.5.0",
          "state": {
            "_dom_classes": [],
            "_model_module": "@jupyter-widgets/controls",
            "_model_module_version": "1.5.0",
            "_model_name": "HBoxModel",
            "_view_count": null,
            "_view_module": "@jupyter-widgets/controls",
            "_view_module_version": "1.5.0",
            "_view_name": "HBoxView",
            "box_style": "",
            "children": [
              "IPY_MODEL_4634f0a514984f15b35cd84a8c6b9e8b",
              "IPY_MODEL_ffcaa3e7efec4d60a3f84f61b0c8b923",
              "IPY_MODEL_6c74fde7c30c4c3cadb1b28f5f8e1010"
            ],
            "layout": "IPY_MODEL_44abaca0b20a48d191fc980e3feacb7a"
          }
        },
        "4634f0a514984f15b35cd84a8c6b9e8b": {
          "model_module": "@jupyter-widgets/controls",
          "model_name": "HTMLModel",
          "model_module_version": "1.5.0",
          "state": {
            "_dom_classes": [],
            "_model_module": "@jupyter-widgets/controls",
            "_model_module_version": "1.5.0",
            "_model_name": "HTMLModel",
            "_view_count": null,
            "_view_module": "@jupyter-widgets/controls",
            "_view_module_version": "1.5.0",
            "_view_name": "HTMLView",
            "description": "",
            "description_tooltip": null,
            "layout": "IPY_MODEL_21e2168b711545f5a53b75cbd71c27e0",
            "placeholder": "​",
            "style": "IPY_MODEL_de84abe7f5a145b0bf24d2f78f12091c",
            "value": "Dl Completed...: 100%"
          }
        },
        "ffcaa3e7efec4d60a3f84f61b0c8b923": {
          "model_module": "@jupyter-widgets/controls",
          "model_name": "FloatProgressModel",
          "model_module_version": "1.5.0",
          "state": {
            "_dom_classes": [],
            "_model_module": "@jupyter-widgets/controls",
            "_model_module_version": "1.5.0",
            "_model_name": "FloatProgressModel",
            "_view_count": null,
            "_view_module": "@jupyter-widgets/controls",
            "_view_module_version": "1.5.0",
            "_view_name": "ProgressView",
            "bar_style": "success",
            "description": "",
            "description_tooltip": null,
            "layout": "IPY_MODEL_4e8e1f2989594821be9819a732df3ba5",
            "max": 1,
            "min": 0,
            "orientation": "horizontal",
            "style": "IPY_MODEL_89b223e2d3a7431da9681c5e90a427e4",
            "value": 1
          }
        },
        "6c74fde7c30c4c3cadb1b28f5f8e1010": {
          "model_module": "@jupyter-widgets/controls",
          "model_name": "HTMLModel",
          "model_module_version": "1.5.0",
          "state": {
            "_dom_classes": [],
            "_model_module": "@jupyter-widgets/controls",
            "_model_module_version": "1.5.0",
            "_model_name": "HTMLModel",
            "_view_count": null,
            "_view_module": "@jupyter-widgets/controls",
            "_view_module_version": "1.5.0",
            "_view_name": "HTMLView",
            "description": "",
            "description_tooltip": null,
            "layout": "IPY_MODEL_f6ca6a677e524b2188576e27f3c13072",
            "placeholder": "​",
            "style": "IPY_MODEL_24e82df3d96440b2996107b4f5612776",
            "value": " 1/1 [01:31&lt;00:00,  9.90s/ url]"
          }
        },
        "44abaca0b20a48d191fc980e3feacb7a": {
          "model_module": "@jupyter-widgets/base",
          "model_name": "LayoutModel",
          "model_module_version": "1.2.0",
          "state": {
            "_model_module": "@jupyter-widgets/base",
            "_model_module_version": "1.2.0",
            "_model_name": "LayoutModel",
            "_view_count": null,
            "_view_module": "@jupyter-widgets/base",
            "_view_module_version": "1.2.0",
            "_view_name": "LayoutView",
            "align_content": null,
            "align_items": null,
            "align_self": null,
            "border": null,
            "bottom": null,
            "display": null,
            "flex": null,
            "flex_flow": null,
            "grid_area": null,
            "grid_auto_columns": null,
            "grid_auto_flow": null,
            "grid_auto_rows": null,
            "grid_column": null,
            "grid_gap": null,
            "grid_row": null,
            "grid_template_areas": null,
            "grid_template_columns": null,
            "grid_template_rows": null,
            "height": null,
            "justify_content": null,
            "justify_items": null,
            "left": null,
            "margin": null,
            "max_height": null,
            "max_width": null,
            "min_height": null,
            "min_width": null,
            "object_fit": null,
            "object_position": null,
            "order": null,
            "overflow": null,
            "overflow_x": null,
            "overflow_y": null,
            "padding": null,
            "right": null,
            "top": null,
            "visibility": null,
            "width": null
          }
        },
        "21e2168b711545f5a53b75cbd71c27e0": {
          "model_module": "@jupyter-widgets/base",
          "model_name": "LayoutModel",
          "model_module_version": "1.2.0",
          "state": {
            "_model_module": "@jupyter-widgets/base",
            "_model_module_version": "1.2.0",
            "_model_name": "LayoutModel",
            "_view_count": null,
            "_view_module": "@jupyter-widgets/base",
            "_view_module_version": "1.2.0",
            "_view_name": "LayoutView",
            "align_content": null,
            "align_items": null,
            "align_self": null,
            "border": null,
            "bottom": null,
            "display": null,
            "flex": null,
            "flex_flow": null,
            "grid_area": null,
            "grid_auto_columns": null,
            "grid_auto_flow": null,
            "grid_auto_rows": null,
            "grid_column": null,
            "grid_gap": null,
            "grid_row": null,
            "grid_template_areas": null,
            "grid_template_columns": null,
            "grid_template_rows": null,
            "height": null,
            "justify_content": null,
            "justify_items": null,
            "left": null,
            "margin": null,
            "max_height": null,
            "max_width": null,
            "min_height": null,
            "min_width": null,
            "object_fit": null,
            "object_position": null,
            "order": null,
            "overflow": null,
            "overflow_x": null,
            "overflow_y": null,
            "padding": null,
            "right": null,
            "top": null,
            "visibility": null,
            "width": null
          }
        },
        "de84abe7f5a145b0bf24d2f78f12091c": {
          "model_module": "@jupyter-widgets/controls",
          "model_name": "DescriptionStyleModel",
          "model_module_version": "1.5.0",
          "state": {
            "_model_module": "@jupyter-widgets/controls",
            "_model_module_version": "1.5.0",
            "_model_name": "DescriptionStyleModel",
            "_view_count": null,
            "_view_module": "@jupyter-widgets/base",
            "_view_module_version": "1.2.0",
            "_view_name": "StyleView",
            "description_width": ""
          }
        },
        "4e8e1f2989594821be9819a732df3ba5": {
          "model_module": "@jupyter-widgets/base",
          "model_name": "LayoutModel",
          "model_module_version": "1.2.0",
          "state": {
            "_model_module": "@jupyter-widgets/base",
            "_model_module_version": "1.2.0",
            "_model_name": "LayoutModel",
            "_view_count": null,
            "_view_module": "@jupyter-widgets/base",
            "_view_module_version": "1.2.0",
            "_view_name": "LayoutView",
            "align_content": null,
            "align_items": null,
            "align_self": null,
            "border": null,
            "bottom": null,
            "display": null,
            "flex": null,
            "flex_flow": null,
            "grid_area": null,
            "grid_auto_columns": null,
            "grid_auto_flow": null,
            "grid_auto_rows": null,
            "grid_column": null,
            "grid_gap": null,
            "grid_row": null,
            "grid_template_areas": null,
            "grid_template_columns": null,
            "grid_template_rows": null,
            "height": null,
            "justify_content": null,
            "justify_items": null,
            "left": null,
            "margin": null,
            "max_height": null,
            "max_width": null,
            "min_height": null,
            "min_width": null,
            "object_fit": null,
            "object_position": null,
            "order": null,
            "overflow": null,
            "overflow_x": null,
            "overflow_y": null,
            "padding": null,
            "right": null,
            "top": null,
            "visibility": null,
            "width": "20px"
          }
        },
        "89b223e2d3a7431da9681c5e90a427e4": {
          "model_module": "@jupyter-widgets/controls",
          "model_name": "ProgressStyleModel",
          "model_module_version": "1.5.0",
          "state": {
            "_model_module": "@jupyter-widgets/controls",
            "_model_module_version": "1.5.0",
            "_model_name": "ProgressStyleModel",
            "_view_count": null,
            "_view_module": "@jupyter-widgets/base",
            "_view_module_version": "1.2.0",
            "_view_name": "StyleView",
            "bar_color": null,
            "description_width": ""
          }
        },
        "f6ca6a677e524b2188576e27f3c13072": {
          "model_module": "@jupyter-widgets/base",
          "model_name": "LayoutModel",
          "model_module_version": "1.2.0",
          "state": {
            "_model_module": "@jupyter-widgets/base",
            "_model_module_version": "1.2.0",
            "_model_name": "LayoutModel",
            "_view_count": null,
            "_view_module": "@jupyter-widgets/base",
            "_view_module_version": "1.2.0",
            "_view_name": "LayoutView",
            "align_content": null,
            "align_items": null,
            "align_self": null,
            "border": null,
            "bottom": null,
            "display": null,
            "flex": null,
            "flex_flow": null,
            "grid_area": null,
            "grid_auto_columns": null,
            "grid_auto_flow": null,
            "grid_auto_rows": null,
            "grid_column": null,
            "grid_gap": null,
            "grid_row": null,
            "grid_template_areas": null,
            "grid_template_columns": null,
            "grid_template_rows": null,
            "height": null,
            "justify_content": null,
            "justify_items": null,
            "left": null,
            "margin": null,
            "max_height": null,
            "max_width": null,
            "min_height": null,
            "min_width": null,
            "object_fit": null,
            "object_position": null,
            "order": null,
            "overflow": null,
            "overflow_x": null,
            "overflow_y": null,
            "padding": null,
            "right": null,
            "top": null,
            "visibility": null,
            "width": null
          }
        },
        "24e82df3d96440b2996107b4f5612776": {
          "model_module": "@jupyter-widgets/controls",
          "model_name": "DescriptionStyleModel",
          "model_module_version": "1.5.0",
          "state": {
            "_model_module": "@jupyter-widgets/controls",
            "_model_module_version": "1.5.0",
            "_model_name": "DescriptionStyleModel",
            "_view_count": null,
            "_view_module": "@jupyter-widgets/base",
            "_view_module_version": "1.2.0",
            "_view_name": "StyleView",
            "description_width": ""
          }
        },
        "f773fd884a4b415a8de32209b26d57ed": {
          "model_module": "@jupyter-widgets/controls",
          "model_name": "HBoxModel",
          "model_module_version": "1.5.0",
          "state": {
            "_dom_classes": [],
            "_model_module": "@jupyter-widgets/controls",
            "_model_module_version": "1.5.0",
            "_model_name": "HBoxModel",
            "_view_count": null,
            "_view_module": "@jupyter-widgets/controls",
            "_view_module_version": "1.5.0",
            "_view_name": "HBoxView",
            "box_style": "",
            "children": [
              "IPY_MODEL_0908fbc6ac86430ea319af9c9e65b3a6",
              "IPY_MODEL_d6f1c70402094ea58706774cd29215e7",
              "IPY_MODEL_3d388bb7b40740dc8d3f39baf247af82"
            ],
            "layout": "IPY_MODEL_b47ef9184cef44439103556598b6987e"
          }
        },
        "0908fbc6ac86430ea319af9c9e65b3a6": {
          "model_module": "@jupyter-widgets/controls",
          "model_name": "HTMLModel",
          "model_module_version": "1.5.0",
          "state": {
            "_dom_classes": [],
            "_model_module": "@jupyter-widgets/controls",
            "_model_module_version": "1.5.0",
            "_model_name": "HTMLModel",
            "_view_count": null,
            "_view_module": "@jupyter-widgets/controls",
            "_view_module_version": "1.5.0",
            "_view_name": "HTMLView",
            "description": "",
            "description_tooltip": null,
            "layout": "IPY_MODEL_94d743945e8f4a0ea50e72b1fea1f35f",
            "placeholder": "​",
            "style": "IPY_MODEL_40022247f7ed41bcb30252e2bf7e93af",
            "value": "Dl Size...: 100%"
          }
        },
        "d6f1c70402094ea58706774cd29215e7": {
          "model_module": "@jupyter-widgets/controls",
          "model_name": "FloatProgressModel",
          "model_module_version": "1.5.0",
          "state": {
            "_dom_classes": [],
            "_model_module": "@jupyter-widgets/controls",
            "_model_module_version": "1.5.0",
            "_model_name": "FloatProgressModel",
            "_view_count": null,
            "_view_module": "@jupyter-widgets/controls",
            "_view_module_version": "1.5.0",
            "_view_name": "ProgressView",
            "bar_style": "success",
            "description": "",
            "description_tooltip": null,
            "layout": "IPY_MODEL_04a97b136a814593a81a573efeacbaa8",
            "max": 1,
            "min": 0,
            "orientation": "horizontal",
            "style": "IPY_MODEL_cd7186bd4813459da27d38f81c6716c7",
            "value": 1
          }
        },
        "3d388bb7b40740dc8d3f39baf247af82": {
          "model_module": "@jupyter-widgets/controls",
          "model_name": "HTMLModel",
          "model_module_version": "1.5.0",
          "state": {
            "_dom_classes": [],
            "_model_module": "@jupyter-widgets/controls",
            "_model_module_version": "1.5.0",
            "_model_name": "HTMLModel",
            "_view_count": null,
            "_view_module": "@jupyter-widgets/controls",
            "_view_module_version": "1.5.0",
            "_view_name": "HTMLView",
            "description": "",
            "description_tooltip": null,
            "layout": "IPY_MODEL_7b5bc78a376546acbcfe27e3ba1c66a2",
            "placeholder": "​",
            "style": "IPY_MODEL_6ca53a797483437ab6b8d64af4f40867",
            "value": " 337/337 [01:31&lt;00:00, 45.94 MiB/s]"
          }
        },
        "b47ef9184cef44439103556598b6987e": {
          "model_module": "@jupyter-widgets/base",
          "model_name": "LayoutModel",
          "model_module_version": "1.2.0",
          "state": {
            "_model_module": "@jupyter-widgets/base",
            "_model_module_version": "1.2.0",
            "_model_name": "LayoutModel",
            "_view_count": null,
            "_view_module": "@jupyter-widgets/base",
            "_view_module_version": "1.2.0",
            "_view_name": "LayoutView",
            "align_content": null,
            "align_items": null,
            "align_self": null,
            "border": null,
            "bottom": null,
            "display": null,
            "flex": null,
            "flex_flow": null,
            "grid_area": null,
            "grid_auto_columns": null,
            "grid_auto_flow": null,
            "grid_auto_rows": null,
            "grid_column": null,
            "grid_gap": null,
            "grid_row": null,
            "grid_template_areas": null,
            "grid_template_columns": null,
            "grid_template_rows": null,
            "height": null,
            "justify_content": null,
            "justify_items": null,
            "left": null,
            "margin": null,
            "max_height": null,
            "max_width": null,
            "min_height": null,
            "min_width": null,
            "object_fit": null,
            "object_position": null,
            "order": null,
            "overflow": null,
            "overflow_x": null,
            "overflow_y": null,
            "padding": null,
            "right": null,
            "top": null,
            "visibility": null,
            "width": null
          }
        },
        "94d743945e8f4a0ea50e72b1fea1f35f": {
          "model_module": "@jupyter-widgets/base",
          "model_name": "LayoutModel",
          "model_module_version": "1.2.0",
          "state": {
            "_model_module": "@jupyter-widgets/base",
            "_model_module_version": "1.2.0",
            "_model_name": "LayoutModel",
            "_view_count": null,
            "_view_module": "@jupyter-widgets/base",
            "_view_module_version": "1.2.0",
            "_view_name": "LayoutView",
            "align_content": null,
            "align_items": null,
            "align_self": null,
            "border": null,
            "bottom": null,
            "display": null,
            "flex": null,
            "flex_flow": null,
            "grid_area": null,
            "grid_auto_columns": null,
            "grid_auto_flow": null,
            "grid_auto_rows": null,
            "grid_column": null,
            "grid_gap": null,
            "grid_row": null,
            "grid_template_areas": null,
            "grid_template_columns": null,
            "grid_template_rows": null,
            "height": null,
            "justify_content": null,
            "justify_items": null,
            "left": null,
            "margin": null,
            "max_height": null,
            "max_width": null,
            "min_height": null,
            "min_width": null,
            "object_fit": null,
            "object_position": null,
            "order": null,
            "overflow": null,
            "overflow_x": null,
            "overflow_y": null,
            "padding": null,
            "right": null,
            "top": null,
            "visibility": null,
            "width": null
          }
        },
        "40022247f7ed41bcb30252e2bf7e93af": {
          "model_module": "@jupyter-widgets/controls",
          "model_name": "DescriptionStyleModel",
          "model_module_version": "1.5.0",
          "state": {
            "_model_module": "@jupyter-widgets/controls",
            "_model_module_version": "1.5.0",
            "_model_name": "DescriptionStyleModel",
            "_view_count": null,
            "_view_module": "@jupyter-widgets/base",
            "_view_module_version": "1.2.0",
            "_view_name": "StyleView",
            "description_width": ""
          }
        },
        "04a97b136a814593a81a573efeacbaa8": {
          "model_module": "@jupyter-widgets/base",
          "model_name": "LayoutModel",
          "model_module_version": "1.2.0",
          "state": {
            "_model_module": "@jupyter-widgets/base",
            "_model_module_version": "1.2.0",
            "_model_name": "LayoutModel",
            "_view_count": null,
            "_view_module": "@jupyter-widgets/base",
            "_view_module_version": "1.2.0",
            "_view_name": "LayoutView",
            "align_content": null,
            "align_items": null,
            "align_self": null,
            "border": null,
            "bottom": null,
            "display": null,
            "flex": null,
            "flex_flow": null,
            "grid_area": null,
            "grid_auto_columns": null,
            "grid_auto_flow": null,
            "grid_auto_rows": null,
            "grid_column": null,
            "grid_gap": null,
            "grid_row": null,
            "grid_template_areas": null,
            "grid_template_columns": null,
            "grid_template_rows": null,
            "height": null,
            "justify_content": null,
            "justify_items": null,
            "left": null,
            "margin": null,
            "max_height": null,
            "max_width": null,
            "min_height": null,
            "min_width": null,
            "object_fit": null,
            "object_position": null,
            "order": null,
            "overflow": null,
            "overflow_x": null,
            "overflow_y": null,
            "padding": null,
            "right": null,
            "top": null,
            "visibility": null,
            "width": "20px"
          }
        },
        "cd7186bd4813459da27d38f81c6716c7": {
          "model_module": "@jupyter-widgets/controls",
          "model_name": "ProgressStyleModel",
          "model_module_version": "1.5.0",
          "state": {
            "_model_module": "@jupyter-widgets/controls",
            "_model_module_version": "1.5.0",
            "_model_name": "ProgressStyleModel",
            "_view_count": null,
            "_view_module": "@jupyter-widgets/base",
            "_view_module_version": "1.2.0",
            "_view_name": "StyleView",
            "bar_color": null,
            "description_width": ""
          }
        },
        "7b5bc78a376546acbcfe27e3ba1c66a2": {
          "model_module": "@jupyter-widgets/base",
          "model_name": "LayoutModel",
          "model_module_version": "1.2.0",
          "state": {
            "_model_module": "@jupyter-widgets/base",
            "_model_module_version": "1.2.0",
            "_model_name": "LayoutModel",
            "_view_count": null,
            "_view_module": "@jupyter-widgets/base",
            "_view_module_version": "1.2.0",
            "_view_name": "LayoutView",
            "align_content": null,
            "align_items": null,
            "align_self": null,
            "border": null,
            "bottom": null,
            "display": null,
            "flex": null,
            "flex_flow": null,
            "grid_area": null,
            "grid_auto_columns": null,
            "grid_auto_flow": null,
            "grid_auto_rows": null,
            "grid_column": null,
            "grid_gap": null,
            "grid_row": null,
            "grid_template_areas": null,
            "grid_template_columns": null,
            "grid_template_rows": null,
            "height": null,
            "justify_content": null,
            "justify_items": null,
            "left": null,
            "margin": null,
            "max_height": null,
            "max_width": null,
            "min_height": null,
            "min_width": null,
            "object_fit": null,
            "object_position": null,
            "order": null,
            "overflow": null,
            "overflow_x": null,
            "overflow_y": null,
            "padding": null,
            "right": null,
            "top": null,
            "visibility": null,
            "width": null
          }
        },
        "6ca53a797483437ab6b8d64af4f40867": {
          "model_module": "@jupyter-widgets/controls",
          "model_name": "DescriptionStyleModel",
          "model_module_version": "1.5.0",
          "state": {
            "_model_module": "@jupyter-widgets/controls",
            "_model_module_version": "1.5.0",
            "_model_name": "DescriptionStyleModel",
            "_view_count": null,
            "_view_module": "@jupyter-widgets/base",
            "_view_module_version": "1.2.0",
            "_view_name": "StyleView",
            "description_width": ""
          }
        },
        "1fcf87e00d064a17b11e1715d05cf5ed": {
          "model_module": "@jupyter-widgets/controls",
          "model_name": "HBoxModel",
          "model_module_version": "1.5.0",
          "state": {
            "_dom_classes": [],
            "_model_module": "@jupyter-widgets/controls",
            "_model_module_version": "1.5.0",
            "_model_name": "HBoxModel",
            "_view_count": null,
            "_view_module": "@jupyter-widgets/controls",
            "_view_module_version": "1.5.0",
            "_view_name": "HBoxView",
            "box_style": "",
            "children": [
              "IPY_MODEL_85b7348d52444b64ae0739414b9533f7",
              "IPY_MODEL_50d6a7ba34174dca9bf66b171608dbeb",
              "IPY_MODEL_0774d434cd684a1d93fc6e7a082c693d"
            ],
            "layout": "IPY_MODEL_0e427053991444fab18d4dfe03999323"
          }
        },
        "85b7348d52444b64ae0739414b9533f7": {
          "model_module": "@jupyter-widgets/controls",
          "model_name": "HTMLModel",
          "model_module_version": "1.5.0",
          "state": {
            "_dom_classes": [],
            "_model_module": "@jupyter-widgets/controls",
            "_model_module_version": "1.5.0",
            "_model_name": "HTMLModel",
            "_view_count": null,
            "_view_module": "@jupyter-widgets/controls",
            "_view_module_version": "1.5.0",
            "_view_name": "HTMLView",
            "description": "",
            "description_tooltip": null,
            "layout": "IPY_MODEL_d458be1a72c94d84abe3c97f98b92030",
            "placeholder": "​",
            "style": "IPY_MODEL_f77337bb27af404587128be20ab23812",
            "value": "Extraction completed...: 100%"
          }
        },
        "50d6a7ba34174dca9bf66b171608dbeb": {
          "model_module": "@jupyter-widgets/controls",
          "model_name": "FloatProgressModel",
          "model_module_version": "1.5.0",
          "state": {
            "_dom_classes": [],
            "_model_module": "@jupyter-widgets/controls",
            "_model_module_version": "1.5.0",
            "_model_name": "FloatProgressModel",
            "_view_count": null,
            "_view_module": "@jupyter-widgets/controls",
            "_view_module_version": "1.5.0",
            "_view_name": "ProgressView",
            "bar_style": "success",
            "description": "",
            "description_tooltip": null,
            "layout": "IPY_MODEL_0f34f7cfacc44efb94349413b5d7f8c8",
            "max": 1,
            "min": 0,
            "orientation": "horizontal",
            "style": "IPY_MODEL_3bba040b28b24eb8a56393c54c4f77b7",
            "value": 1
          }
        },
        "0774d434cd684a1d93fc6e7a082c693d": {
          "model_module": "@jupyter-widgets/controls",
          "model_name": "HTMLModel",
          "model_module_version": "1.5.0",
          "state": {
            "_dom_classes": [],
            "_model_module": "@jupyter-widgets/controls",
            "_model_module_version": "1.5.0",
            "_model_name": "HTMLModel",
            "_view_count": null,
            "_view_module": "@jupyter-widgets/controls",
            "_view_module_version": "1.5.0",
            "_view_name": "HTMLView",
            "description": "",
            "description_tooltip": null,
            "layout": "IPY_MODEL_29330fd166c84d46aabb1bcc05d62a12",
            "placeholder": "​",
            "style": "IPY_MODEL_5d891a17b71c4a71bc829e13e623b126",
            "value": " 27560/27560 [01:31&lt;00:00, 1137.61 file/s]"
          }
        },
        "0e427053991444fab18d4dfe03999323": {
          "model_module": "@jupyter-widgets/base",
          "model_name": "LayoutModel",
          "model_module_version": "1.2.0",
          "state": {
            "_model_module": "@jupyter-widgets/base",
            "_model_module_version": "1.2.0",
            "_model_name": "LayoutModel",
            "_view_count": null,
            "_view_module": "@jupyter-widgets/base",
            "_view_module_version": "1.2.0",
            "_view_name": "LayoutView",
            "align_content": null,
            "align_items": null,
            "align_self": null,
            "border": null,
            "bottom": null,
            "display": null,
            "flex": null,
            "flex_flow": null,
            "grid_area": null,
            "grid_auto_columns": null,
            "grid_auto_flow": null,
            "grid_auto_rows": null,
            "grid_column": null,
            "grid_gap": null,
            "grid_row": null,
            "grid_template_areas": null,
            "grid_template_columns": null,
            "grid_template_rows": null,
            "height": null,
            "justify_content": null,
            "justify_items": null,
            "left": null,
            "margin": null,
            "max_height": null,
            "max_width": null,
            "min_height": null,
            "min_width": null,
            "object_fit": null,
            "object_position": null,
            "order": null,
            "overflow": null,
            "overflow_x": null,
            "overflow_y": null,
            "padding": null,
            "right": null,
            "top": null,
            "visibility": null,
            "width": null
          }
        },
        "d458be1a72c94d84abe3c97f98b92030": {
          "model_module": "@jupyter-widgets/base",
          "model_name": "LayoutModel",
          "model_module_version": "1.2.0",
          "state": {
            "_model_module": "@jupyter-widgets/base",
            "_model_module_version": "1.2.0",
            "_model_name": "LayoutModel",
            "_view_count": null,
            "_view_module": "@jupyter-widgets/base",
            "_view_module_version": "1.2.0",
            "_view_name": "LayoutView",
            "align_content": null,
            "align_items": null,
            "align_self": null,
            "border": null,
            "bottom": null,
            "display": null,
            "flex": null,
            "flex_flow": null,
            "grid_area": null,
            "grid_auto_columns": null,
            "grid_auto_flow": null,
            "grid_auto_rows": null,
            "grid_column": null,
            "grid_gap": null,
            "grid_row": null,
            "grid_template_areas": null,
            "grid_template_columns": null,
            "grid_template_rows": null,
            "height": null,
            "justify_content": null,
            "justify_items": null,
            "left": null,
            "margin": null,
            "max_height": null,
            "max_width": null,
            "min_height": null,
            "min_width": null,
            "object_fit": null,
            "object_position": null,
            "order": null,
            "overflow": null,
            "overflow_x": null,
            "overflow_y": null,
            "padding": null,
            "right": null,
            "top": null,
            "visibility": null,
            "width": null
          }
        },
        "f77337bb27af404587128be20ab23812": {
          "model_module": "@jupyter-widgets/controls",
          "model_name": "DescriptionStyleModel",
          "model_module_version": "1.5.0",
          "state": {
            "_model_module": "@jupyter-widgets/controls",
            "_model_module_version": "1.5.0",
            "_model_name": "DescriptionStyleModel",
            "_view_count": null,
            "_view_module": "@jupyter-widgets/base",
            "_view_module_version": "1.2.0",
            "_view_name": "StyleView",
            "description_width": ""
          }
        },
        "0f34f7cfacc44efb94349413b5d7f8c8": {
          "model_module": "@jupyter-widgets/base",
          "model_name": "LayoutModel",
          "model_module_version": "1.2.0",
          "state": {
            "_model_module": "@jupyter-widgets/base",
            "_model_module_version": "1.2.0",
            "_model_name": "LayoutModel",
            "_view_count": null,
            "_view_module": "@jupyter-widgets/base",
            "_view_module_version": "1.2.0",
            "_view_name": "LayoutView",
            "align_content": null,
            "align_items": null,
            "align_self": null,
            "border": null,
            "bottom": null,
            "display": null,
            "flex": null,
            "flex_flow": null,
            "grid_area": null,
            "grid_auto_columns": null,
            "grid_auto_flow": null,
            "grid_auto_rows": null,
            "grid_column": null,
            "grid_gap": null,
            "grid_row": null,
            "grid_template_areas": null,
            "grid_template_columns": null,
            "grid_template_rows": null,
            "height": null,
            "justify_content": null,
            "justify_items": null,
            "left": null,
            "margin": null,
            "max_height": null,
            "max_width": null,
            "min_height": null,
            "min_width": null,
            "object_fit": null,
            "object_position": null,
            "order": null,
            "overflow": null,
            "overflow_x": null,
            "overflow_y": null,
            "padding": null,
            "right": null,
            "top": null,
            "visibility": null,
            "width": "20px"
          }
        },
        "3bba040b28b24eb8a56393c54c4f77b7": {
          "model_module": "@jupyter-widgets/controls",
          "model_name": "ProgressStyleModel",
          "model_module_version": "1.5.0",
          "state": {
            "_model_module": "@jupyter-widgets/controls",
            "_model_module_version": "1.5.0",
            "_model_name": "ProgressStyleModel",
            "_view_count": null,
            "_view_module": "@jupyter-widgets/base",
            "_view_module_version": "1.2.0",
            "_view_name": "StyleView",
            "bar_color": null,
            "description_width": ""
          }
        },
        "29330fd166c84d46aabb1bcc05d62a12": {
          "model_module": "@jupyter-widgets/base",
          "model_name": "LayoutModel",
          "model_module_version": "1.2.0",
          "state": {
            "_model_module": "@jupyter-widgets/base",
            "_model_module_version": "1.2.0",
            "_model_name": "LayoutModel",
            "_view_count": null,
            "_view_module": "@jupyter-widgets/base",
            "_view_module_version": "1.2.0",
            "_view_name": "LayoutView",
            "align_content": null,
            "align_items": null,
            "align_self": null,
            "border": null,
            "bottom": null,
            "display": null,
            "flex": null,
            "flex_flow": null,
            "grid_area": null,
            "grid_auto_columns": null,
            "grid_auto_flow": null,
            "grid_auto_rows": null,
            "grid_column": null,
            "grid_gap": null,
            "grid_row": null,
            "grid_template_areas": null,
            "grid_template_columns": null,
            "grid_template_rows": null,
            "height": null,
            "justify_content": null,
            "justify_items": null,
            "left": null,
            "margin": null,
            "max_height": null,
            "max_width": null,
            "min_height": null,
            "min_width": null,
            "object_fit": null,
            "object_position": null,
            "order": null,
            "overflow": null,
            "overflow_x": null,
            "overflow_y": null,
            "padding": null,
            "right": null,
            "top": null,
            "visibility": null,
            "width": null
          }
        },
        "5d891a17b71c4a71bc829e13e623b126": {
          "model_module": "@jupyter-widgets/controls",
          "model_name": "DescriptionStyleModel",
          "model_module_version": "1.5.0",
          "state": {
            "_model_module": "@jupyter-widgets/controls",
            "_model_module_version": "1.5.0",
            "_model_name": "DescriptionStyleModel",
            "_view_count": null,
            "_view_module": "@jupyter-widgets/base",
            "_view_module_version": "1.2.0",
            "_view_name": "StyleView",
            "description_width": ""
          }
        },
        "a55942d98240486aaf0c5008ccf9957b": {
          "model_module": "@jupyter-widgets/controls",
          "model_name": "HBoxModel",
          "model_module_version": "1.5.0",
          "state": {
            "_dom_classes": [],
            "_model_module": "@jupyter-widgets/controls",
            "_model_module_version": "1.5.0",
            "_model_name": "HBoxModel",
            "_view_count": null,
            "_view_module": "@jupyter-widgets/controls",
            "_view_module_version": "1.5.0",
            "_view_name": "HBoxView",
            "box_style": "",
            "children": [
              "IPY_MODEL_436c4677e8f54d46979955f18ae75d82",
              "IPY_MODEL_9abcadcfb3954cd8ae9ae3101284f2e2",
              "IPY_MODEL_55ccf0d526c24453904701824573b0bb"
            ],
            "layout": "IPY_MODEL_3626a2a75bbb498dbb000f37f2f7946c"
          }
        },
        "436c4677e8f54d46979955f18ae75d82": {
          "model_module": "@jupyter-widgets/controls",
          "model_name": "HTMLModel",
          "model_module_version": "1.5.0",
          "state": {
            "_dom_classes": [],
            "_model_module": "@jupyter-widgets/controls",
            "_model_module_version": "1.5.0",
            "_model_name": "HTMLModel",
            "_view_count": null,
            "_view_module": "@jupyter-widgets/controls",
            "_view_module_version": "1.5.0",
            "_view_name": "HTMLView",
            "description": "",
            "description_tooltip": null,
            "layout": "IPY_MODEL_07042c341ee34c3195979672ed2112df",
            "placeholder": "​",
            "style": "IPY_MODEL_a3a18584e44a41449dc19a3a567b6a21",
            "value": "Generating splits...: 100%"
          }
        },
        "9abcadcfb3954cd8ae9ae3101284f2e2": {
          "model_module": "@jupyter-widgets/controls",
          "model_name": "FloatProgressModel",
          "model_module_version": "1.5.0",
          "state": {
            "_dom_classes": [],
            "_model_module": "@jupyter-widgets/controls",
            "_model_module_version": "1.5.0",
            "_model_name": "FloatProgressModel",
            "_view_count": null,
            "_view_module": "@jupyter-widgets/controls",
            "_view_module_version": "1.5.0",
            "_view_name": "ProgressView",
            "bar_style": "",
            "description": "",
            "description_tooltip": null,
            "layout": "IPY_MODEL_53ed7f1cfbd74855b838aa44b7ea9f3a",
            "max": 1,
            "min": 0,
            "orientation": "horizontal",
            "style": "IPY_MODEL_0dabe28e8612409c8565e943a04e4b5e",
            "value": 1
          }
        },
        "55ccf0d526c24453904701824573b0bb": {
          "model_module": "@jupyter-widgets/controls",
          "model_name": "HTMLModel",
          "model_module_version": "1.5.0",
          "state": {
            "_dom_classes": [],
            "_model_module": "@jupyter-widgets/controls",
            "_model_module_version": "1.5.0",
            "_model_name": "HTMLModel",
            "_view_count": null,
            "_view_module": "@jupyter-widgets/controls",
            "_view_module_version": "1.5.0",
            "_view_name": "HTMLView",
            "description": "",
            "description_tooltip": null,
            "layout": "IPY_MODEL_d0e02d7627394940b44d29b4fc9e9f82",
            "placeholder": "​",
            "style": "IPY_MODEL_4972c4456f3d4776aa2423fc0513f077",
            "value": " 1/1 [00:09&lt;00:00,  9.14s/ splits]"
          }
        },
        "3626a2a75bbb498dbb000f37f2f7946c": {
          "model_module": "@jupyter-widgets/base",
          "model_name": "LayoutModel",
          "model_module_version": "1.2.0",
          "state": {
            "_model_module": "@jupyter-widgets/base",
            "_model_module_version": "1.2.0",
            "_model_name": "LayoutModel",
            "_view_count": null,
            "_view_module": "@jupyter-widgets/base",
            "_view_module_version": "1.2.0",
            "_view_name": "LayoutView",
            "align_content": null,
            "align_items": null,
            "align_self": null,
            "border": null,
            "bottom": null,
            "display": null,
            "flex": null,
            "flex_flow": null,
            "grid_area": null,
            "grid_auto_columns": null,
            "grid_auto_flow": null,
            "grid_auto_rows": null,
            "grid_column": null,
            "grid_gap": null,
            "grid_row": null,
            "grid_template_areas": null,
            "grid_template_columns": null,
            "grid_template_rows": null,
            "height": null,
            "justify_content": null,
            "justify_items": null,
            "left": null,
            "margin": null,
            "max_height": null,
            "max_width": null,
            "min_height": null,
            "min_width": null,
            "object_fit": null,
            "object_position": null,
            "order": null,
            "overflow": null,
            "overflow_x": null,
            "overflow_y": null,
            "padding": null,
            "right": null,
            "top": null,
            "visibility": "hidden",
            "width": null
          }
        },
        "07042c341ee34c3195979672ed2112df": {
          "model_module": "@jupyter-widgets/base",
          "model_name": "LayoutModel",
          "model_module_version": "1.2.0",
          "state": {
            "_model_module": "@jupyter-widgets/base",
            "_model_module_version": "1.2.0",
            "_model_name": "LayoutModel",
            "_view_count": null,
            "_view_module": "@jupyter-widgets/base",
            "_view_module_version": "1.2.0",
            "_view_name": "LayoutView",
            "align_content": null,
            "align_items": null,
            "align_self": null,
            "border": null,
            "bottom": null,
            "display": null,
            "flex": null,
            "flex_flow": null,
            "grid_area": null,
            "grid_auto_columns": null,
            "grid_auto_flow": null,
            "grid_auto_rows": null,
            "grid_column": null,
            "grid_gap": null,
            "grid_row": null,
            "grid_template_areas": null,
            "grid_template_columns": null,
            "grid_template_rows": null,
            "height": null,
            "justify_content": null,
            "justify_items": null,
            "left": null,
            "margin": null,
            "max_height": null,
            "max_width": null,
            "min_height": null,
            "min_width": null,
            "object_fit": null,
            "object_position": null,
            "order": null,
            "overflow": null,
            "overflow_x": null,
            "overflow_y": null,
            "padding": null,
            "right": null,
            "top": null,
            "visibility": null,
            "width": null
          }
        },
        "a3a18584e44a41449dc19a3a567b6a21": {
          "model_module": "@jupyter-widgets/controls",
          "model_name": "DescriptionStyleModel",
          "model_module_version": "1.5.0",
          "state": {
            "_model_module": "@jupyter-widgets/controls",
            "_model_module_version": "1.5.0",
            "_model_name": "DescriptionStyleModel",
            "_view_count": null,
            "_view_module": "@jupyter-widgets/base",
            "_view_module_version": "1.2.0",
            "_view_name": "StyleView",
            "description_width": ""
          }
        },
        "53ed7f1cfbd74855b838aa44b7ea9f3a": {
          "model_module": "@jupyter-widgets/base",
          "model_name": "LayoutModel",
          "model_module_version": "1.2.0",
          "state": {
            "_model_module": "@jupyter-widgets/base",
            "_model_module_version": "1.2.0",
            "_model_name": "LayoutModel",
            "_view_count": null,
            "_view_module": "@jupyter-widgets/base",
            "_view_module_version": "1.2.0",
            "_view_name": "LayoutView",
            "align_content": null,
            "align_items": null,
            "align_self": null,
            "border": null,
            "bottom": null,
            "display": null,
            "flex": null,
            "flex_flow": null,
            "grid_area": null,
            "grid_auto_columns": null,
            "grid_auto_flow": null,
            "grid_auto_rows": null,
            "grid_column": null,
            "grid_gap": null,
            "grid_row": null,
            "grid_template_areas": null,
            "grid_template_columns": null,
            "grid_template_rows": null,
            "height": null,
            "justify_content": null,
            "justify_items": null,
            "left": null,
            "margin": null,
            "max_height": null,
            "max_width": null,
            "min_height": null,
            "min_width": null,
            "object_fit": null,
            "object_position": null,
            "order": null,
            "overflow": null,
            "overflow_x": null,
            "overflow_y": null,
            "padding": null,
            "right": null,
            "top": null,
            "visibility": null,
            "width": null
          }
        },
        "0dabe28e8612409c8565e943a04e4b5e": {
          "model_module": "@jupyter-widgets/controls",
          "model_name": "ProgressStyleModel",
          "model_module_version": "1.5.0",
          "state": {
            "_model_module": "@jupyter-widgets/controls",
            "_model_module_version": "1.5.0",
            "_model_name": "ProgressStyleModel",
            "_view_count": null,
            "_view_module": "@jupyter-widgets/base",
            "_view_module_version": "1.2.0",
            "_view_name": "StyleView",
            "bar_color": null,
            "description_width": ""
          }
        },
        "d0e02d7627394940b44d29b4fc9e9f82": {
          "model_module": "@jupyter-widgets/base",
          "model_name": "LayoutModel",
          "model_module_version": "1.2.0",
          "state": {
            "_model_module": "@jupyter-widgets/base",
            "_model_module_version": "1.2.0",
            "_model_name": "LayoutModel",
            "_view_count": null,
            "_view_module": "@jupyter-widgets/base",
            "_view_module_version": "1.2.0",
            "_view_name": "LayoutView",
            "align_content": null,
            "align_items": null,
            "align_self": null,
            "border": null,
            "bottom": null,
            "display": null,
            "flex": null,
            "flex_flow": null,
            "grid_area": null,
            "grid_auto_columns": null,
            "grid_auto_flow": null,
            "grid_auto_rows": null,
            "grid_column": null,
            "grid_gap": null,
            "grid_row": null,
            "grid_template_areas": null,
            "grid_template_columns": null,
            "grid_template_rows": null,
            "height": null,
            "justify_content": null,
            "justify_items": null,
            "left": null,
            "margin": null,
            "max_height": null,
            "max_width": null,
            "min_height": null,
            "min_width": null,
            "object_fit": null,
            "object_position": null,
            "order": null,
            "overflow": null,
            "overflow_x": null,
            "overflow_y": null,
            "padding": null,
            "right": null,
            "top": null,
            "visibility": null,
            "width": null
          }
        },
        "4972c4456f3d4776aa2423fc0513f077": {
          "model_module": "@jupyter-widgets/controls",
          "model_name": "DescriptionStyleModel",
          "model_module_version": "1.5.0",
          "state": {
            "_model_module": "@jupyter-widgets/controls",
            "_model_module_version": "1.5.0",
            "_model_name": "DescriptionStyleModel",
            "_view_count": null,
            "_view_module": "@jupyter-widgets/base",
            "_view_module_version": "1.2.0",
            "_view_name": "StyleView",
            "description_width": ""
          }
        },
        "19c30797bcae42f0a363d928a2046b3c": {
          "model_module": "@jupyter-widgets/controls",
          "model_name": "HBoxModel",
          "model_module_version": "1.5.0",
          "state": {
            "_dom_classes": [],
            "_model_module": "@jupyter-widgets/controls",
            "_model_module_version": "1.5.0",
            "_model_name": "HBoxModel",
            "_view_count": null,
            "_view_module": "@jupyter-widgets/controls",
            "_view_module_version": "1.5.0",
            "_view_name": "HBoxView",
            "box_style": "",
            "children": [
              "IPY_MODEL_6bc27994dfd94b568fca0e8b36e05cad",
              "IPY_MODEL_83e9f9467c854a8b8cd4a598c6513633",
              "IPY_MODEL_82fe3e34d485411c9c6dcd7c33596456"
            ],
            "layout": "IPY_MODEL_97a94ff0a44045f5a2d26bbe64c9c98f"
          }
        },
        "6bc27994dfd94b568fca0e8b36e05cad": {
          "model_module": "@jupyter-widgets/controls",
          "model_name": "HTMLModel",
          "model_module_version": "1.5.0",
          "state": {
            "_dom_classes": [],
            "_model_module": "@jupyter-widgets/controls",
            "_model_module_version": "1.5.0",
            "_model_name": "HTMLModel",
            "_view_count": null,
            "_view_module": "@jupyter-widgets/controls",
            "_view_module_version": "1.5.0",
            "_view_name": "HTMLView",
            "description": "",
            "description_tooltip": null,
            "layout": "IPY_MODEL_7c5b0476b0cd44de86c3aef231993503",
            "placeholder": "​",
            "style": "IPY_MODEL_5b0af8382e584a1d9ec1f90c9e0cbd16",
            "value": "Generating train examples...: 100%"
          }
        },
        "83e9f9467c854a8b8cd4a598c6513633": {
          "model_module": "@jupyter-widgets/controls",
          "model_name": "FloatProgressModel",
          "model_module_version": "1.5.0",
          "state": {
            "_dom_classes": [],
            "_model_module": "@jupyter-widgets/controls",
            "_model_module_version": "1.5.0",
            "_model_name": "FloatProgressModel",
            "_view_count": null,
            "_view_module": "@jupyter-widgets/controls",
            "_view_module_version": "1.5.0",
            "_view_name": "ProgressView",
            "bar_style": "",
            "description": "",
            "description_tooltip": null,
            "layout": "IPY_MODEL_7743fbafcee14860bc5b12b4fa1a9041",
            "max": 27558,
            "min": 0,
            "orientation": "horizontal",
            "style": "IPY_MODEL_6646b91e6b0b4ff3b1be892e87a4bb31",
            "value": 27558
          }
        },
        "82fe3e34d485411c9c6dcd7c33596456": {
          "model_module": "@jupyter-widgets/controls",
          "model_name": "HTMLModel",
          "model_module_version": "1.5.0",
          "state": {
            "_dom_classes": [],
            "_model_module": "@jupyter-widgets/controls",
            "_model_module_version": "1.5.0",
            "_model_name": "HTMLModel",
            "_view_count": null,
            "_view_module": "@jupyter-widgets/controls",
            "_view_module_version": "1.5.0",
            "_view_name": "HTMLView",
            "description": "",
            "description_tooltip": null,
            "layout": "IPY_MODEL_abe86c23350e4c58b88c88bf639d52cb",
            "placeholder": "​",
            "style": "IPY_MODEL_45a8f72c2c94492eaad88af19304ab43",
            "value": " 27457/27558 [00:08&lt;00:00, 3453.89 examples/s]"
          }
        },
        "97a94ff0a44045f5a2d26bbe64c9c98f": {
          "model_module": "@jupyter-widgets/base",
          "model_name": "LayoutModel",
          "model_module_version": "1.2.0",
          "state": {
            "_model_module": "@jupyter-widgets/base",
            "_model_module_version": "1.2.0",
            "_model_name": "LayoutModel",
            "_view_count": null,
            "_view_module": "@jupyter-widgets/base",
            "_view_module_version": "1.2.0",
            "_view_name": "LayoutView",
            "align_content": null,
            "align_items": null,
            "align_self": null,
            "border": null,
            "bottom": null,
            "display": null,
            "flex": null,
            "flex_flow": null,
            "grid_area": null,
            "grid_auto_columns": null,
            "grid_auto_flow": null,
            "grid_auto_rows": null,
            "grid_column": null,
            "grid_gap": null,
            "grid_row": null,
            "grid_template_areas": null,
            "grid_template_columns": null,
            "grid_template_rows": null,
            "height": null,
            "justify_content": null,
            "justify_items": null,
            "left": null,
            "margin": null,
            "max_height": null,
            "max_width": null,
            "min_height": null,
            "min_width": null,
            "object_fit": null,
            "object_position": null,
            "order": null,
            "overflow": null,
            "overflow_x": null,
            "overflow_y": null,
            "padding": null,
            "right": null,
            "top": null,
            "visibility": "hidden",
            "width": null
          }
        },
        "7c5b0476b0cd44de86c3aef231993503": {
          "model_module": "@jupyter-widgets/base",
          "model_name": "LayoutModel",
          "model_module_version": "1.2.0",
          "state": {
            "_model_module": "@jupyter-widgets/base",
            "_model_module_version": "1.2.0",
            "_model_name": "LayoutModel",
            "_view_count": null,
            "_view_module": "@jupyter-widgets/base",
            "_view_module_version": "1.2.0",
            "_view_name": "LayoutView",
            "align_content": null,
            "align_items": null,
            "align_self": null,
            "border": null,
            "bottom": null,
            "display": null,
            "flex": null,
            "flex_flow": null,
            "grid_area": null,
            "grid_auto_columns": null,
            "grid_auto_flow": null,
            "grid_auto_rows": null,
            "grid_column": null,
            "grid_gap": null,
            "grid_row": null,
            "grid_template_areas": null,
            "grid_template_columns": null,
            "grid_template_rows": null,
            "height": null,
            "justify_content": null,
            "justify_items": null,
            "left": null,
            "margin": null,
            "max_height": null,
            "max_width": null,
            "min_height": null,
            "min_width": null,
            "object_fit": null,
            "object_position": null,
            "order": null,
            "overflow": null,
            "overflow_x": null,
            "overflow_y": null,
            "padding": null,
            "right": null,
            "top": null,
            "visibility": null,
            "width": null
          }
        },
        "5b0af8382e584a1d9ec1f90c9e0cbd16": {
          "model_module": "@jupyter-widgets/controls",
          "model_name": "DescriptionStyleModel",
          "model_module_version": "1.5.0",
          "state": {
            "_model_module": "@jupyter-widgets/controls",
            "_model_module_version": "1.5.0",
            "_model_name": "DescriptionStyleModel",
            "_view_count": null,
            "_view_module": "@jupyter-widgets/base",
            "_view_module_version": "1.2.0",
            "_view_name": "StyleView",
            "description_width": ""
          }
        },
        "7743fbafcee14860bc5b12b4fa1a9041": {
          "model_module": "@jupyter-widgets/base",
          "model_name": "LayoutModel",
          "model_module_version": "1.2.0",
          "state": {
            "_model_module": "@jupyter-widgets/base",
            "_model_module_version": "1.2.0",
            "_model_name": "LayoutModel",
            "_view_count": null,
            "_view_module": "@jupyter-widgets/base",
            "_view_module_version": "1.2.0",
            "_view_name": "LayoutView",
            "align_content": null,
            "align_items": null,
            "align_self": null,
            "border": null,
            "bottom": null,
            "display": null,
            "flex": null,
            "flex_flow": null,
            "grid_area": null,
            "grid_auto_columns": null,
            "grid_auto_flow": null,
            "grid_auto_rows": null,
            "grid_column": null,
            "grid_gap": null,
            "grid_row": null,
            "grid_template_areas": null,
            "grid_template_columns": null,
            "grid_template_rows": null,
            "height": null,
            "justify_content": null,
            "justify_items": null,
            "left": null,
            "margin": null,
            "max_height": null,
            "max_width": null,
            "min_height": null,
            "min_width": null,
            "object_fit": null,
            "object_position": null,
            "order": null,
            "overflow": null,
            "overflow_x": null,
            "overflow_y": null,
            "padding": null,
            "right": null,
            "top": null,
            "visibility": null,
            "width": null
          }
        },
        "6646b91e6b0b4ff3b1be892e87a4bb31": {
          "model_module": "@jupyter-widgets/controls",
          "model_name": "ProgressStyleModel",
          "model_module_version": "1.5.0",
          "state": {
            "_model_module": "@jupyter-widgets/controls",
            "_model_module_version": "1.5.0",
            "_model_name": "ProgressStyleModel",
            "_view_count": null,
            "_view_module": "@jupyter-widgets/base",
            "_view_module_version": "1.2.0",
            "_view_name": "StyleView",
            "bar_color": null,
            "description_width": ""
          }
        },
        "abe86c23350e4c58b88c88bf639d52cb": {
          "model_module": "@jupyter-widgets/base",
          "model_name": "LayoutModel",
          "model_module_version": "1.2.0",
          "state": {
            "_model_module": "@jupyter-widgets/base",
            "_model_module_version": "1.2.0",
            "_model_name": "LayoutModel",
            "_view_count": null,
            "_view_module": "@jupyter-widgets/base",
            "_view_module_version": "1.2.0",
            "_view_name": "LayoutView",
            "align_content": null,
            "align_items": null,
            "align_self": null,
            "border": null,
            "bottom": null,
            "display": null,
            "flex": null,
            "flex_flow": null,
            "grid_area": null,
            "grid_auto_columns": null,
            "grid_auto_flow": null,
            "grid_auto_rows": null,
            "grid_column": null,
            "grid_gap": null,
            "grid_row": null,
            "grid_template_areas": null,
            "grid_template_columns": null,
            "grid_template_rows": null,
            "height": null,
            "justify_content": null,
            "justify_items": null,
            "left": null,
            "margin": null,
            "max_height": null,
            "max_width": null,
            "min_height": null,
            "min_width": null,
            "object_fit": null,
            "object_position": null,
            "order": null,
            "overflow": null,
            "overflow_x": null,
            "overflow_y": null,
            "padding": null,
            "right": null,
            "top": null,
            "visibility": null,
            "width": null
          }
        },
        "45a8f72c2c94492eaad88af19304ab43": {
          "model_module": "@jupyter-widgets/controls",
          "model_name": "DescriptionStyleModel",
          "model_module_version": "1.5.0",
          "state": {
            "_model_module": "@jupyter-widgets/controls",
            "_model_module_version": "1.5.0",
            "_model_name": "DescriptionStyleModel",
            "_view_count": null,
            "_view_module": "@jupyter-widgets/base",
            "_view_module_version": "1.2.0",
            "_view_name": "StyleView",
            "description_width": ""
          }
        },
        "30ace04fd8684d0e9412a09a208e4004": {
          "model_module": "@jupyter-widgets/controls",
          "model_name": "HBoxModel",
          "model_module_version": "1.5.0",
          "state": {
            "_dom_classes": [],
            "_model_module": "@jupyter-widgets/controls",
            "_model_module_version": "1.5.0",
            "_model_name": "HBoxModel",
            "_view_count": null,
            "_view_module": "@jupyter-widgets/controls",
            "_view_module_version": "1.5.0",
            "_view_name": "HBoxView",
            "box_style": "",
            "children": [
              "IPY_MODEL_b8d97e85dbee412a8b0d68b981db83d4",
              "IPY_MODEL_5717cb1042be48e187c20be986fba344",
              "IPY_MODEL_5208a31ca90b4d3ab281e5ddc47a6238"
            ],
            "layout": "IPY_MODEL_8de95f514b3948f0a8ad90423613d1d9"
          }
        },
        "b8d97e85dbee412a8b0d68b981db83d4": {
          "model_module": "@jupyter-widgets/controls",
          "model_name": "HTMLModel",
          "model_module_version": "1.5.0",
          "state": {
            "_dom_classes": [],
            "_model_module": "@jupyter-widgets/controls",
            "_model_module_version": "1.5.0",
            "_model_name": "HTMLModel",
            "_view_count": null,
            "_view_module": "@jupyter-widgets/controls",
            "_view_module_version": "1.5.0",
            "_view_name": "HTMLView",
            "description": "",
            "description_tooltip": null,
            "layout": "IPY_MODEL_e3dbc16d71c14ace8b3dd2a788785404",
            "placeholder": "​",
            "style": "IPY_MODEL_3693713c982148ef87177eb21e852f69",
            "value": "Shuffling /root/tensorflow_datasets/malaria/1.0.0.incompleteURKGUN/malaria-train.tfrecord*...:  98%"
          }
        },
        "5717cb1042be48e187c20be986fba344": {
          "model_module": "@jupyter-widgets/controls",
          "model_name": "FloatProgressModel",
          "model_module_version": "1.5.0",
          "state": {
            "_dom_classes": [],
            "_model_module": "@jupyter-widgets/controls",
            "_model_module_version": "1.5.0",
            "_model_name": "FloatProgressModel",
            "_view_count": null,
            "_view_module": "@jupyter-widgets/controls",
            "_view_module_version": "1.5.0",
            "_view_name": "ProgressView",
            "bar_style": "",
            "description": "",
            "description_tooltip": null,
            "layout": "IPY_MODEL_9710e6aabe48453aafb6af9f34a914f3",
            "max": 27558,
            "min": 0,
            "orientation": "horizontal",
            "style": "IPY_MODEL_45602b7a2e4143d2873e2218c9aded0a",
            "value": 27558
          }
        },
        "5208a31ca90b4d3ab281e5ddc47a6238": {
          "model_module": "@jupyter-widgets/controls",
          "model_name": "HTMLModel",
          "model_module_version": "1.5.0",
          "state": {
            "_dom_classes": [],
            "_model_module": "@jupyter-widgets/controls",
            "_model_module_version": "1.5.0",
            "_model_name": "HTMLModel",
            "_view_count": null,
            "_view_module": "@jupyter-widgets/controls",
            "_view_module_version": "1.5.0",
            "_view_name": "HTMLView",
            "description": "",
            "description_tooltip": null,
            "layout": "IPY_MODEL_6f3fc6cdae5a4da390ae32c0bb423265",
            "placeholder": "​",
            "style": "IPY_MODEL_724e2cede3344fe0b57978f7faba9dcb",
            "value": " 26949/27558 [00:00&lt;00:00, 30739.16 examples/s]"
          }
        },
        "8de95f514b3948f0a8ad90423613d1d9": {
          "model_module": "@jupyter-widgets/base",
          "model_name": "LayoutModel",
          "model_module_version": "1.2.0",
          "state": {
            "_model_module": "@jupyter-widgets/base",
            "_model_module_version": "1.2.0",
            "_model_name": "LayoutModel",
            "_view_count": null,
            "_view_module": "@jupyter-widgets/base",
            "_view_module_version": "1.2.0",
            "_view_name": "LayoutView",
            "align_content": null,
            "align_items": null,
            "align_self": null,
            "border": null,
            "bottom": null,
            "display": null,
            "flex": null,
            "flex_flow": null,
            "grid_area": null,
            "grid_auto_columns": null,
            "grid_auto_flow": null,
            "grid_auto_rows": null,
            "grid_column": null,
            "grid_gap": null,
            "grid_row": null,
            "grid_template_areas": null,
            "grid_template_columns": null,
            "grid_template_rows": null,
            "height": null,
            "justify_content": null,
            "justify_items": null,
            "left": null,
            "margin": null,
            "max_height": null,
            "max_width": null,
            "min_height": null,
            "min_width": null,
            "object_fit": null,
            "object_position": null,
            "order": null,
            "overflow": null,
            "overflow_x": null,
            "overflow_y": null,
            "padding": null,
            "right": null,
            "top": null,
            "visibility": "hidden",
            "width": null
          }
        },
        "e3dbc16d71c14ace8b3dd2a788785404": {
          "model_module": "@jupyter-widgets/base",
          "model_name": "LayoutModel",
          "model_module_version": "1.2.0",
          "state": {
            "_model_module": "@jupyter-widgets/base",
            "_model_module_version": "1.2.0",
            "_model_name": "LayoutModel",
            "_view_count": null,
            "_view_module": "@jupyter-widgets/base",
            "_view_module_version": "1.2.0",
            "_view_name": "LayoutView",
            "align_content": null,
            "align_items": null,
            "align_self": null,
            "border": null,
            "bottom": null,
            "display": null,
            "flex": null,
            "flex_flow": null,
            "grid_area": null,
            "grid_auto_columns": null,
            "grid_auto_flow": null,
            "grid_auto_rows": null,
            "grid_column": null,
            "grid_gap": null,
            "grid_row": null,
            "grid_template_areas": null,
            "grid_template_columns": null,
            "grid_template_rows": null,
            "height": null,
            "justify_content": null,
            "justify_items": null,
            "left": null,
            "margin": null,
            "max_height": null,
            "max_width": null,
            "min_height": null,
            "min_width": null,
            "object_fit": null,
            "object_position": null,
            "order": null,
            "overflow": null,
            "overflow_x": null,
            "overflow_y": null,
            "padding": null,
            "right": null,
            "top": null,
            "visibility": null,
            "width": null
          }
        },
        "3693713c982148ef87177eb21e852f69": {
          "model_module": "@jupyter-widgets/controls",
          "model_name": "DescriptionStyleModel",
          "model_module_version": "1.5.0",
          "state": {
            "_model_module": "@jupyter-widgets/controls",
            "_model_module_version": "1.5.0",
            "_model_name": "DescriptionStyleModel",
            "_view_count": null,
            "_view_module": "@jupyter-widgets/base",
            "_view_module_version": "1.2.0",
            "_view_name": "StyleView",
            "description_width": ""
          }
        },
        "9710e6aabe48453aafb6af9f34a914f3": {
          "model_module": "@jupyter-widgets/base",
          "model_name": "LayoutModel",
          "model_module_version": "1.2.0",
          "state": {
            "_model_module": "@jupyter-widgets/base",
            "_model_module_version": "1.2.0",
            "_model_name": "LayoutModel",
            "_view_count": null,
            "_view_module": "@jupyter-widgets/base",
            "_view_module_version": "1.2.0",
            "_view_name": "LayoutView",
            "align_content": null,
            "align_items": null,
            "align_self": null,
            "border": null,
            "bottom": null,
            "display": null,
            "flex": null,
            "flex_flow": null,
            "grid_area": null,
            "grid_auto_columns": null,
            "grid_auto_flow": null,
            "grid_auto_rows": null,
            "grid_column": null,
            "grid_gap": null,
            "grid_row": null,
            "grid_template_areas": null,
            "grid_template_columns": null,
            "grid_template_rows": null,
            "height": null,
            "justify_content": null,
            "justify_items": null,
            "left": null,
            "margin": null,
            "max_height": null,
            "max_width": null,
            "min_height": null,
            "min_width": null,
            "object_fit": null,
            "object_position": null,
            "order": null,
            "overflow": null,
            "overflow_x": null,
            "overflow_y": null,
            "padding": null,
            "right": null,
            "top": null,
            "visibility": null,
            "width": null
          }
        },
        "45602b7a2e4143d2873e2218c9aded0a": {
          "model_module": "@jupyter-widgets/controls",
          "model_name": "ProgressStyleModel",
          "model_module_version": "1.5.0",
          "state": {
            "_model_module": "@jupyter-widgets/controls",
            "_model_module_version": "1.5.0",
            "_model_name": "ProgressStyleModel",
            "_view_count": null,
            "_view_module": "@jupyter-widgets/base",
            "_view_module_version": "1.2.0",
            "_view_name": "StyleView",
            "bar_color": null,
            "description_width": ""
          }
        },
        "6f3fc6cdae5a4da390ae32c0bb423265": {
          "model_module": "@jupyter-widgets/base",
          "model_name": "LayoutModel",
          "model_module_version": "1.2.0",
          "state": {
            "_model_module": "@jupyter-widgets/base",
            "_model_module_version": "1.2.0",
            "_model_name": "LayoutModel",
            "_view_count": null,
            "_view_module": "@jupyter-widgets/base",
            "_view_module_version": "1.2.0",
            "_view_name": "LayoutView",
            "align_content": null,
            "align_items": null,
            "align_self": null,
            "border": null,
            "bottom": null,
            "display": null,
            "flex": null,
            "flex_flow": null,
            "grid_area": null,
            "grid_auto_columns": null,
            "grid_auto_flow": null,
            "grid_auto_rows": null,
            "grid_column": null,
            "grid_gap": null,
            "grid_row": null,
            "grid_template_areas": null,
            "grid_template_columns": null,
            "grid_template_rows": null,
            "height": null,
            "justify_content": null,
            "justify_items": null,
            "left": null,
            "margin": null,
            "max_height": null,
            "max_width": null,
            "min_height": null,
            "min_width": null,
            "object_fit": null,
            "object_position": null,
            "order": null,
            "overflow": null,
            "overflow_x": null,
            "overflow_y": null,
            "padding": null,
            "right": null,
            "top": null,
            "visibility": null,
            "width": null
          }
        },
        "724e2cede3344fe0b57978f7faba9dcb": {
          "model_module": "@jupyter-widgets/controls",
          "model_name": "DescriptionStyleModel",
          "model_module_version": "1.5.0",
          "state": {
            "_model_module": "@jupyter-widgets/controls",
            "_model_module_version": "1.5.0",
            "_model_name": "DescriptionStyleModel",
            "_view_count": null,
            "_view_module": "@jupyter-widgets/base",
            "_view_module_version": "1.2.0",
            "_view_name": "StyleView",
            "description_width": ""
          }
        }
      }
    }
  },
  "nbformat": 4,
  "nbformat_minor": 5
}