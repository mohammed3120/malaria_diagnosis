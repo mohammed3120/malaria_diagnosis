{
  "cells": [
    {
      "cell_type": "markdown",
      "id": "c57a9fb7",
      "metadata": {
        "id": "c57a9fb7"
      },
      "source": [
        "# Import Libs"
      ]
    },
    {
      "cell_type": "code",
      "execution_count": 1,
      "id": "f22ac042",
      "metadata": {
        "id": "f22ac042"
      },
      "outputs": [],
      "source": [
        "import tensorflow as tf ### models\n",
        "import matplotlib.pylab as plt ### ploting\n",
        "import seaborn as sns\n",
        "import numpy as np ### math computations\n",
        "import tensorflow_datasets as tfds\n",
        "from tensorflow.keras.models import Model\n",
        "from tensorflow.keras.layers import (Dense, Conv2D, MaxPooling2D, Flatten, InputLayer, BatchNormalization, Input, Layer,Dropout,\n",
        "                                     RandomFlip, RandomRotation, Resizing, Rescaling #for augmentation\n",
        "                                     )\n",
        "from tensorflow.keras.losses import BinaryCrossentropy\n",
        "from tensorflow.keras.optimizers import Adam\n",
        "from tensorflow.keras.metrics import BinaryAccuracy, TruePositives, FalsePositives, FalseNegatives, TrueNegatives,Precision,Recall, AUC\n",
        "from sklearn.metrics import confusion_matrix, roc_curve,f1_score\n",
        "\n",
        "from tensorflow.keras.regularizers import L1,L2\n",
        "from tensorflow.keras.callbacks import Callback, CSVLogger, EarlyStopping, LearningRateScheduler,ModelCheckpoint,ReduceLROnPlateau"
      ]
    },
    {
      "cell_type": "code",
      "execution_count": 2,
      "id": "cf1f81a1",
      "metadata": {
        "colab": {
          "base_uri": "https://localhost:8080/",
          "height": 36
        },
        "id": "cf1f81a1",
        "outputId": "6b27869a-b4fa-44b5-c8cb-a081d19e579c",
        "scrolled": true
      },
      "outputs": [
        {
          "output_type": "execute_result",
          "data": {
            "text/plain": [
              "'2.14.0'"
            ],
            "application/vnd.google.colaboratory.intrinsic+json": {
              "type": "string"
            }
          },
          "metadata": {},
          "execution_count": 2
        }
      ],
      "source": [
        "tf.__version__"
      ]
    },
    {
      "cell_type": "markdown",
      "id": "a4cdd629",
      "metadata": {
        "id": "a4cdd629"
      },
      "source": [
        "# Load Malaria Dataset"
      ]
    },
    {
      "cell_type": "code",
      "execution_count": 3,
      "id": "55f4f3ef",
      "metadata": {
        "id": "55f4f3ef",
        "scrolled": false,
        "colab": {
          "base_uri": "https://localhost:8080/",
          "height": 148,
          "referenced_widgets": [
            "752373e23c8a4a8d9bafd655450acc75",
            "1cf0118b86b9431fae48f7e8e4f723d3",
            "24575811fdaf442eadfff83ec8f439f8",
            "a27952fa71f64818ab62f4f533ae48dc",
            "41159baf06fa453eb535c876a7975237",
            "0257b8f6443d40e489caec77f681ece4",
            "50a1786cf5e6443985031804ef1ff86c",
            "ce8cf900be5041ab83ad1015e2e14e72",
            "a8a0b5718acd49eb952f3b64b9e77172",
            "28580608725841e883a5c08a6865eff9",
            "00180904ec2e4599ad78443686d42164",
            "95ec823b164d4d25988dc50ec4e38072",
            "3d02942dfbb445c99973adbee069b276",
            "53d5ad73b2d94073b9a546563379120f",
            "4bb43632f50944ccb18b1450fa80ee5c",
            "6cee6a5ca1ab49e789f7a5d733885350",
            "9fee0063c0b048ffbece59a36176779f",
            "2aef72fc18704c42bbad9b2651c08de5",
            "593b742f297941b2adc93e78e78e05f8",
            "cfd4a58eedfc4ecb94805781ff9be2b1",
            "2cfda8248661477f8256376e9f936f2e",
            "36a92b2d1895449c90c31c2ee9a5f9d4",
            "fb9635e5291b49a7bbcc921a62be0657",
            "81c4a62c0db5491c9bc646d51bb2e073",
            "7c7dbde3ad754828adfd3d70eb53d785",
            "f533f6c3b0b94c1ea063487d693dd8b9",
            "15f2c5ac40f84b729dee0ef6767a2dce",
            "38aeb31d089b480ea896de4ab3a6bd5e",
            "b03b67e2c19143a9b95bc3a88fd77231",
            "5a231eff5a474458906a0428ae58a6f3",
            "7dd66ede6008424887b9cd8e0bea38ff",
            "924740858846440f97329986b129fdd6",
            "597977aae21d40f380eef06db0be0f6c",
            "4c2a54ccae8641a1af05a4c9ec36173b",
            "fde8a4d639614ff9bebdab0bf4f13c9b",
            "be84649f6b934d6e83755e856426f095",
            "12b8125ba6ed40c489294ed983b94128",
            "6cd8dc4e974142eeb7a0456ff0fde427",
            "c60c6a9603e849aea5939014e364bd70",
            "1a6f6b4cfb8f4c9d9a6185bc2be9b82e",
            "c5db16eb2d034b4e8fe76309d980015b",
            "88f1703ef1844c268089e2bc27831bca",
            "6540bbf9d17e45a2ada58e3eaaa3eb0b",
            "3f998d718b664e239b7ee7fcfdb5d049",
            "67ba179cf6bc48ccbcb409e2557f08a1",
            "c1c6d67494d84c31b62b352d501eff82",
            "eb4d8a7a54404b6b896f05569626e821",
            "9502b81262fe4e14b4973c9cccd9b274",
            "bdc48ba7bf99495b9977e0273c458fde",
            "2a13f690668846708767fa25a569a71f",
            "3ebf377af1f14b83a625e910b445e32f",
            "05f1a17a835a4aad8ab451dce75f54b1",
            "4d53d8ecf9e94e84aab2dab9173b21c3",
            "1b27f573f83a4443bf4ae545bebd9093",
            "e359b717350147ce906e10043a1e5e93",
            "ba2b558a8446451590671aee5bf4485d",
            "7ac2e22660d94983a0d32d08346a479b",
            "955a655064e348fd9866a2cedab50551",
            "acaafc3e85da4dbb980983b938d4b79d",
            "c21fe72268de4a15b6b5c871a1f29561",
            "f0411a0b11824f7098cbe4717a704aa3",
            "a820446e60f64a2482fa5710c8fb4a19",
            "8705a6099a3643d7952b79147ba1c948",
            "083265764bc041268cc706f015ceff62",
            "f4dfe3441ce946eaa954f6299ed77418",
            "92ea54d121af49389f36e530605bafb9"
          ]
        },
        "outputId": "2ac33c1f-9354-4fe7-d321-e3f37bbde927"
      },
      "outputs": [
        {
          "output_type": "stream",
          "name": "stdout",
          "text": [
            "Downloading and preparing dataset 337.08 MiB (download: 337.08 MiB, generated: Unknown size, total: 337.08 MiB) to /root/tensorflow_datasets/malaria/1.0.0...\n"
          ]
        },
        {
          "output_type": "display_data",
          "data": {
            "text/plain": [
              "Dl Completed...: 0 url [00:00, ? url/s]"
            ],
            "application/vnd.jupyter.widget-view+json": {
              "version_major": 2,
              "version_minor": 0,
              "model_id": "752373e23c8a4a8d9bafd655450acc75"
            }
          },
          "metadata": {}
        },
        {
          "output_type": "display_data",
          "data": {
            "text/plain": [
              "Dl Size...: 0 MiB [00:00, ? MiB/s]"
            ],
            "application/vnd.jupyter.widget-view+json": {
              "version_major": 2,
              "version_minor": 0,
              "model_id": "95ec823b164d4d25988dc50ec4e38072"
            }
          },
          "metadata": {}
        },
        {
          "output_type": "display_data",
          "data": {
            "text/plain": [
              "Extraction completed...: 0 file [00:00, ? file/s]"
            ],
            "application/vnd.jupyter.widget-view+json": {
              "version_major": 2,
              "version_minor": 0,
              "model_id": "fb9635e5291b49a7bbcc921a62be0657"
            }
          },
          "metadata": {}
        },
        {
          "output_type": "display_data",
          "data": {
            "text/plain": [
              "Generating splits...:   0%|          | 0/1 [00:00<?, ? splits/s]"
            ],
            "application/vnd.jupyter.widget-view+json": {
              "version_major": 2,
              "version_minor": 0,
              "model_id": "4c2a54ccae8641a1af05a4c9ec36173b"
            }
          },
          "metadata": {}
        },
        {
          "output_type": "display_data",
          "data": {
            "text/plain": [
              "Generating train examples...:   0%|          | 0/27558 [00:00<?, ? examples/s]"
            ],
            "application/vnd.jupyter.widget-view+json": {
              "version_major": 2,
              "version_minor": 0,
              "model_id": "67ba179cf6bc48ccbcb409e2557f08a1"
            }
          },
          "metadata": {}
        },
        {
          "output_type": "display_data",
          "data": {
            "text/plain": [
              "Shuffling /root/tensorflow_datasets/malaria/1.0.0.incomplete733COC/malaria-train.tfrecord*...:   0%|          …"
            ],
            "application/vnd.jupyter.widget-view+json": {
              "version_major": 2,
              "version_minor": 0,
              "model_id": "ba2b558a8446451590671aee5bf4485d"
            }
          },
          "metadata": {}
        },
        {
          "output_type": "stream",
          "name": "stdout",
          "text": [
            "Dataset malaria downloaded and prepared to /root/tensorflow_datasets/malaria/1.0.0. Subsequent calls will reuse this data.\n"
          ]
        }
      ],
      "source": [
        "dataset, dataset_info = tfds.load('malaria',with_info=True, as_supervised=True, shuffle_files = True, split = 'train')"
      ]
    },
    {
      "cell_type": "code",
      "execution_count": 4,
      "id": "6418fbc0",
      "metadata": {
        "id": "6418fbc0",
        "colab": {
          "base_uri": "https://localhost:8080/",
          "height": 36
        },
        "outputId": "ce483dd4-8cde-4ac0-a3aa-a0e74a277199"
      },
      "outputs": [
        {
          "output_type": "execute_result",
          "data": {
            "text/plain": [
              "'4.9.3'"
            ],
            "application/vnd.google.colaboratory.intrinsic+json": {
              "type": "string"
            }
          },
          "metadata": {},
          "execution_count": 4
        }
      ],
      "source": [
        "tfds.__version__"
      ]
    },
    {
      "cell_type": "markdown",
      "id": "a7ac4a04",
      "metadata": {
        "id": "a7ac4a04"
      },
      "source": [
        "# Data Split"
      ]
    },
    {
      "cell_type": "code",
      "execution_count": 5,
      "id": "099e6593",
      "metadata": {
        "id": "099e6593"
      },
      "outputs": [],
      "source": [
        "TRANI_RATIO = 0.8\n",
        "VAL_RATIO = 0.1\n",
        "TEST_RATIO = 0.1"
      ]
    },
    {
      "cell_type": "code",
      "execution_count": 6,
      "id": "c98d4f06",
      "metadata": {
        "id": "c98d4f06"
      },
      "outputs": [],
      "source": [
        "def splits(dataset, TRANI_RATIO, VAL_RATIO, TEST_RATIO):\n",
        "    DATASET_SIZE = len(dataset)\n",
        "    train_dataset = dataset.take(int(TRANI_RATIO*DATASET_SIZE))\n",
        "    val_test__dataset = dataset.skip(int(TRANI_RATIO*DATASET_SIZE))\n",
        "    val_dataset = val_test__dataset.take(int(VAL_RATIO*DATASET_SIZE))\n",
        "    test_dataset = val_test__dataset.skip(int(VAL_RATIO*DATASET_SIZE))\n",
        "    return train_dataset, val_dataset, test_dataset\n"
      ]
    },
    {
      "cell_type": "code",
      "execution_count": 7,
      "id": "d9e19986",
      "metadata": {
        "id": "d9e19986"
      },
      "outputs": [],
      "source": [
        "train_dataset, val_dataset, test_dataset = splits(dataset, TRANI_RATIO, VAL_RATIO, TEST_RATIO)"
      ]
    },
    {
      "cell_type": "markdown",
      "id": "6fa1af7f",
      "metadata": {
        "id": "6fa1af7f"
      },
      "source": [
        "# Data Visualizing"
      ]
    },
    {
      "cell_type": "code",
      "execution_count": 8,
      "id": "536866cd",
      "metadata": {
        "id": "536866cd",
        "colab": {
          "base_uri": "https://localhost:8080/",
          "height": 428
        },
        "outputId": "1719f274-35db-40a1-923c-f475abc81ae3"
      },
      "outputs": [
        {
          "output_type": "display_data",
          "data": {
            "text/plain": [
              "<Figure size 640x480 with 16 Axes>"
            ],
            "image/png": "[encoded data removed]"
          },
          "metadata": {}
        }
      ],
      "source": [
        "for i, (image, label) in enumerate(train_dataset.take(16)):\n",
        "    ax = plt.subplot(4, 4, i + 1)\n",
        "    plt.imshow(image)\n",
        "    plt.title(dataset_info.features['label'].int2str(label))\n",
        "    plt.axis('off')"
      ]
    },
    {
      "cell_type": "code",
      "execution_count": 9,
      "id": "c2c58857",
      "metadata": {
        "id": "c2c58857",
        "colab": {
          "base_uri": "https://localhost:8080/",
          "height": 36
        },
        "outputId": "47bdf700-daeb-4ad0-a284-7ee59761cb7f"
      },
      "outputs": [
        {
          "output_type": "execute_result",
          "data": {
            "text/plain": [
              "'parasitized'"
            ],
            "application/vnd.google.colaboratory.intrinsic+json": {
              "type": "string"
            }
          },
          "metadata": {},
          "execution_count": 9
        }
      ],
      "source": [
        "dataset_info.features['label'].int2str(0)"
      ]
    },
    {
      "cell_type": "markdown",
      "id": "581235b6",
      "metadata": {
        "id": "581235b6"
      },
      "source": [
        "# Data Preprocessing"
      ]
    },
    {
      "cell_type": "code",
      "execution_count": 10,
      "id": "83b404da",
      "metadata": {
        "id": "83b404da"
      },
      "outputs": [],
      "source": [
        "IM_SIZE = 224\n",
        "def resize_rescale(image, label):\n",
        "    return tf.image.resize(image, (IM_SIZE, IM_SIZE))/255.0,label"
      ]
    },
    {
      "cell_type": "markdown",
      "id": "b20492ff",
      "metadata": {
        "id": "b20492ff"
      },
      "source": [
        "## tf.image augment"
      ]
    },
    {
      "cell_type": "code",
      "execution_count": 11,
      "id": "951c12ad",
      "metadata": {
        "id": "951c12ad"
      },
      "outputs": [],
      "source": [
        "## tf.image augment\n",
        "def augment(image, label):\n",
        "    image, label = resize_rescale(image, label)\n",
        "    image = tf.image.rot90(image)\n",
        "    image = tf.image.flip_left_right(image)\n",
        "    return image, label"
      ]
    },
    {
      "cell_type": "markdown",
      "source": [
        "# tf.keras.layers"
      ],
      "metadata": {
        "id": "Az82ElqtN72w"
      },
      "id": "Az82ElqtN72w"
    },
    {
      "cell_type": "code",
      "source": [
        "resizing_rescaling_layers = tf.keras.Sequential([\n",
        "    Resizing(IM_SIZE,IM_SIZE),\n",
        "    Rescaling(1.0/255)\n",
        "])"
      ],
      "metadata": {
        "id": "BCORJLXhOHSa"
      },
      "id": "BCORJLXhOHSa",
      "execution_count": 12,
      "outputs": []
    },
    {
      "cell_type": "code",
      "source": [
        "## tf.keras.layers augment\n",
        "augment_layers = tf.keras.Sequential([\n",
        "    RandomRotation(factor = (0.25, 0.2501),),\n",
        "    RandomFlip(mode='horizontal', )\n",
        "])\n",
        "\n",
        "def augment_layer(image, label):\n",
        "  return augment_layers(resizing_rescaling_layers(image), training = True), label"
      ],
      "metadata": {
        "id": "fA6MHERr2JkD"
      },
      "id": "fA6MHERr2JkD",
      "execution_count": 13,
      "outputs": []
    },
    {
      "cell_type": "code",
      "execution_count": 14,
      "id": "b570cd69",
      "metadata": {
        "id": "b570cd69"
      },
      "outputs": [],
      "source": [
        "BATCH_SIZE = 32\n",
        "train_dataset = (train_dataset\n",
        "                 .shuffle(buffer_size= 8 , reshuffle_each_iteration= True)\n",
        "                 .map(augment_layer) # augment_layers instead of augment\n",
        "                 .batch(BATCH_SIZE)\n",
        "                 .prefetch(tf.data.AUTOTUNE))\n",
        "val_dataset = (val_dataset\n",
        "               .shuffle(buffer_size= 8 , reshuffle_each_iteration= True)\n",
        "               .map(augment_layer) # augment_layers instead of augment\n",
        "               .batch(BATCH_SIZE)\n",
        "               .prefetch(tf.data.AUTOTUNE))\n",
        "\n",
        "test_dataset = test_dataset.map(resizing_rescaling_layers)\n"
      ]
    },
    {
      "cell_type": "markdown",
      "id": "798c1f24",
      "metadata": {
        "id": "798c1f24"
      },
      "source": [
        "# Model Subclassing"
      ]
    },
    {
      "cell_type": "code",
      "execution_count": 15,
      "id": "73f9526a",
      "metadata": {
        "id": "73f9526a"
      },
      "outputs": [],
      "source": [
        "class FeatureExtractor(Layer):\n",
        "    def __init__(self, num_filters, kernel_size,num_strides, padding, activation_function, pool_size, droupout_rate, regularizer_rate):\n",
        "        super(FeatureExtractor, self).__init__()\n",
        "        self.conv_1 = Conv2D(filters= num_filters,kernel_size=kernel_size, strides=num_strides, padding= padding, activation = activation_function, kernel_regularizer = L2(regularizer_rate))\n",
        "        self.batch_1 = BatchNormalization()\n",
        "        self.droupout1 = Dropout(rate = droupout_rate)\n",
        "        self.pool_1 = MaxPooling2D(pool_size=pool_size, strides=num_strides)\n",
        "\n",
        "        self.conv_2 = Conv2D(filters= 2*num_filters,kernel_size=kernel_size, strides=num_strides, padding= padding, activation = activation_function, kernel_regularizer = L2(regularizer_rate))\n",
        "        self.batch_2 = BatchNormalization()\n",
        "        self.pool_2 = MaxPooling2D(pool_size=pool_size, strides=2*num_strides)\n",
        "\n",
        "    def call(self, x, training):\n",
        "        x = self.conv_1(x)\n",
        "        x = self.batch_1(x)\n",
        "        x = self.droupout1(x)\n",
        "        x = self.pool_1(x)\n",
        "\n",
        "\n",
        "        x = self.conv_2(x)\n",
        "        x = self.batch_2(x)\n",
        "        x = self.pool_2(x)\n",
        "\n",
        "        return x"
      ]
    },
    {
      "cell_type": "code",
      "execution_count": 16,
      "id": "ca7f8a73",
      "metadata": {
        "id": "ca7f8a73"
      },
      "outputs": [],
      "source": [
        "feature_sub_classed = FeatureExtractor(num_filters = 8, kernel_size = 3,num_strides = 1, padding= \"valid\", activation_function = \"relu\", pool_size = (2,2), droupout_rate = 0.3, regularizer_rate = 0.01)"
      ]
    },
    {
      "cell_type": "code",
      "execution_count": 17,
      "id": "81ca5cba",
      "metadata": {
        "id": "81ca5cba"
      },
      "outputs": [],
      "source": [
        "class LenetModel(Model):\n",
        "    def __init__(self, num_filters, kernel_size,num_strides, padding, activation_function, pool_size, output_activation,droupout_rate, regularizer_rate):\n",
        "        super(LenetModel, self).__init__()\n",
        "\n",
        "        self.featureExtractor = FeatureExtractor(\n",
        "                                    num_filters = num_filters,\n",
        "                                    kernel_size = kernel_size,\n",
        "                                    num_strides = num_strides,\n",
        "                                    padding = padding,\n",
        "                                    activation_function = activation_function,\n",
        "                                    pool_size = pool_size,\n",
        "                                    droupout_rate = droupout_rate,\n",
        "                                    regularizer_rate = regularizer_rate)\n",
        "        self.flatten = Flatten()\n",
        "\n",
        "        self.dense_1 = Dense(units = 100, activation=activation_function, kernel_regularizer = L2(regularizer_rate))\n",
        "        self.batch_1 = BatchNormalization()\n",
        "        self.droupout1 = Dropout(rate = droupout_rate)\n",
        "        self.dense_2 = Dense(units = 10, activation=activation_function, kernel_regularizer = L2(regularizer_rate))\n",
        "        self.batch_2 = BatchNormalization()\n",
        "\n",
        "        self.dense_3 = Dense(units=1, activation = output_activation)\n",
        "\n",
        "    def call(self, x, training):\n",
        "        x = self.featureExtractor(x)\n",
        "        x = self.flatten(x)\n",
        "        x = self.dense_1(x)\n",
        "        x = self.batch_1(x)\n",
        "        x = self.droupout1(x)\n",
        "\n",
        "        x = self.dense_2(x)\n",
        "        x = self.batch_2(x)\n",
        "\n",
        "        x = self.dense_3(x)\n",
        "\n",
        "        return x"
      ]
    },
    {
      "cell_type": "code",
      "execution_count": 18,
      "id": "597d959c",
      "metadata": {
        "id": "597d959c",
        "colab": {
          "base_uri": "https://localhost:8080/"
        },
        "outputId": "47efe896-af4b-4137-898c-9fa6ddbad84a"
      },
      "outputs": [
        {
          "output_type": "stream",
          "name": "stdout",
          "text": [
            "Model: \"lenet_model\"\n",
            "_________________________________________________________________\n",
            " Layer (type)                Output Shape              Param #   \n",
            "=================================================================\n",
            " feature_extractor_1 (Featu  multiple                  1488      \n",
            " reExtractor)                                                    \n",
            "                                                                 \n",
            " flatten (Flatten)           multiple                  0         \n",
            "                                                                 \n",
            " dense (Dense)               multiple                  19009700  \n",
            "                                                                 \n",
            " batch_normalization_4 (Bat  multiple                  400       \n",
            " chNormalization)                                                \n",
            "                                                                 \n",
            " dropout_2 (Dropout)         multiple                  0         \n",
            "                                                                 \n",
            " dense_1 (Dense)             multiple                  1010      \n",
            "                                                                 \n",
            " batch_normalization_5 (Bat  multiple                  40        \n",
            " chNormalization)                                                \n",
            "                                                                 \n",
            " dense_2 (Dense)             multiple                  11        \n",
            "                                                                 \n",
            "=================================================================\n",
            "Total params: 19012649 (72.53 MB)\n",
            "Trainable params: 19012381 (72.53 MB)\n",
            "Non-trainable params: 268 (1.05 KB)\n",
            "_________________________________________________________________\n"
          ]
        }
      ],
      "source": [
        "lenet_model = LenetModel(num_filters = 8, kernel_size = 3,num_strides = 1, padding= \"valid\", activation_function = \"relu\", pool_size = (2,2),\n",
        "                         output_activation = \"sigmoid\", droupout_rate = 0.3, regularizer_rate=0.01)\n",
        "lenet_model(Input(shape= (IM_SIZE, IM_SIZE,3)))\n",
        "lenet_model.summary()"
      ]
    },
    {
      "cell_type": "markdown",
      "id": "3b2902e5",
      "metadata": {
        "id": "3b2902e5"
      },
      "source": [
        "# Optimizers"
      ]
    },
    {
      "cell_type": "code",
      "execution_count": 19,
      "id": "17593847",
      "metadata": {
        "id": "17593847"
      },
      "outputs": [],
      "source": [
        "metrics = [TruePositives(name='tp'), FalsePositives(name= 'fp'), FalseNegatives(name= 'fn'), TrueNegatives(name='tn'),\n",
        "          BinaryAccuracy(name='accuracy'), Precision(name='precision'), Recall(name='recall'), AUC(name='auc')]"
      ]
    },
    {
      "cell_type": "code",
      "execution_count": 20,
      "id": "cf679132",
      "metadata": {
        "id": "cf679132"
      },
      "outputs": [],
      "source": [
        "lenet_model.compile(optimizer=Adam(learning_rate=0.1), loss=BinaryCrossentropy(), metrics= metrics)"
      ]
    },
    {
      "cell_type": "markdown",
      "id": "afb322b3",
      "metadata": {
        "id": "afb322b3"
      },
      "source": [
        "# Callbacks"
      ]
    },
    {
      "cell_type": "code",
      "execution_count": 21,
      "id": "65d674b0",
      "metadata": {
        "id": "65d674b0"
      },
      "outputs": [],
      "source": [
        "class LossCallback(Callback):\n",
        "    def on_epoch_end(self, epoch, logs):\n",
        "        print(\"\\n For Epoch Number {} the model has a loss of {} \".format(epoch+1, logs[\"loss\"]))\n",
        "\n",
        "    def no_batch_end(self, batch, logs):\n",
        "        print(\"\\n For Batch Number {} the model has a loss of {} \".format(batch+1, logs))"
      ]
    },
    {
      "cell_type": "markdown",
      "id": "1693d2c6",
      "metadata": {
        "id": "1693d2c6"
      },
      "source": [
        "## CSVLogger"
      ]
    },
    {
      "cell_type": "code",
      "execution_count": 22,
      "id": "c080d651",
      "metadata": {
        "id": "c080d651"
      },
      "outputs": [],
      "source": [
        "csv_callback = CSVLogger( 'logs.csv', separator = ',', append = False)"
      ]
    },
    {
      "cell_type": "markdown",
      "id": "a43bec50",
      "metadata": {
        "id": "a43bec50"
      },
      "source": [
        "## EarlyStopping"
      ]
    },
    {
      "cell_type": "code",
      "execution_count": 23,
      "id": "c32f44a3",
      "metadata": {
        "id": "c32f44a3"
      },
      "outputs": [],
      "source": [
        "es_stopping = EarlyStopping(\n",
        "    monitor='val_loss',\n",
        "    min_delta=0,\n",
        "    patience=5,\n",
        "    verbose=0,\n",
        "    mode='auto',\n",
        "    baseline=None,\n",
        "    restore_best_weights=False,\n",
        ")"
      ]
    },
    {
      "cell_type": "markdown",
      "id": "3f41457e",
      "metadata": {
        "id": "3f41457e"
      },
      "source": [
        "## LearningRateScheduler"
      ]
    },
    {
      "cell_type": "code",
      "execution_count": 24,
      "id": "3f5b584f",
      "metadata": {
        "id": "3f5b584f"
      },
      "outputs": [],
      "source": [
        "def scheduler(epoch, lr):\n",
        "    if epoch < 5:\n",
        "        return lr\n",
        "    else:\n",
        "        return lr * tf.math.exp(-0.1)"
      ]
    },
    {
      "cell_type": "code",
      "execution_count": 25,
      "id": "d501739c",
      "metadata": {
        "id": "d501739c"
      },
      "outputs": [],
      "source": [
        "callbacks_scheduler = LearningRateScheduler(scheduler, verbose=1)"
      ]
    },
    {
      "cell_type": "markdown",
      "id": "gnNId_cK8CTL",
      "metadata": {
        "id": "gnNId_cK8CTL"
      },
      "source": [
        "# ModelCheckpointing"
      ]
    },
    {
      "cell_type": "code",
      "execution_count": 26,
      "id": "eLb0xeqH710i",
      "metadata": {
        "id": "eLb0xeqH710i"
      },
      "outputs": [],
      "source": [
        "checkpoints_callbacks = ModelCheckpoint(\n",
        "    'checkpoints/', monitor = 'val_loss', verbose = 1,\n",
        "    save_best_only = True,\n",
        "    save_weights_only = False,\n",
        "    mode = 'auto',\n",
        "    save_freq='epoch'\n",
        ")"
      ]
    },
    {
      "cell_type": "markdown",
      "id": "6ZEpeARCOl9U",
      "metadata": {
        "id": "6ZEpeARCOl9U"
      },
      "source": [
        "# ReduceLROnPlateau"
      ]
    },
    {
      "cell_type": "code",
      "execution_count": 27,
      "id": "X6YMOWZxOqzt",
      "metadata": {
        "id": "X6YMOWZxOqzt"
      },
      "outputs": [],
      "source": [
        "plateau_callbacks = ReduceLROnPlateau(monitor='val_loss', factor=0.2,verbose=1,\n",
        "                              patience=5, min_lr=0.001)"
      ]
    },
    {
      "cell_type": "markdown",
      "id": "f5e2239a",
      "metadata": {
        "id": "f5e2239a"
      },
      "source": [
        "# Train"
      ]
    },
    {
      "cell_type": "code",
      "execution_count": 28,
      "id": "d1728a21",
      "metadata": {
        "id": "d1728a21",
        "scrolled": true,
        "colab": {
          "base_uri": "https://localhost:8080/"
        },
        "outputId": "e2f32da2-a8c9-4eb7-c1c8-bd0a7179aaff"
      },
      "outputs": [
        {
          "output_type": "stream",
          "name": "stdout",
          "text": [
            "Epoch 1/5\n",
            "689/689 [==============================] - 281s 370ms/step - loss: 81.7556 - tp: 6438.0000 - fp: 5039.0000 - fn: 4584.0000 - tn: 5985.0000 - accuracy: 0.5635 - precision: 0.5609 - recall: 0.5841 - auc: 0.5873 - val_loss: 31.3745 - val_tp: 1388.0000 - val_fp: 1367.0000 - val_fn: 0.0000e+00 - val_tn: 0.0000e+00 - val_accuracy: 0.5038 - val_precision: 0.5038 - val_recall: 1.0000 - val_auc: 0.6517 - lr: 0.1000\n",
            "Epoch 2/5\n",
            "689/689 [==============================] - 236s 342ms/step - loss: 10.5669 - tp: 6020.0000 - fp: 4674.0000 - fn: 5003.0000 - tn: 6349.0000 - accuracy: 0.5611 - precision: 0.5629 - recall: 0.5461 - auc: 0.5902 - val_loss: 10.3360 - val_tp: 1387.0000 - val_fp: 1368.0000 - val_fn: 0.0000e+00 - val_tn: 0.0000e+00 - val_accuracy: 0.5034 - val_precision: 0.5034 - val_recall: 1.0000 - val_auc: 0.6630 - lr: 0.1000\n",
            "Epoch 3/5\n",
            "689/689 [==============================] - 237s 344ms/step - loss: 12.1787 - tp: 6151.0000 - fp: 4766.0000 - fn: 4874.0000 - tn: 6255.0000 - accuracy: 0.5627 - precision: 0.5634 - recall: 0.5579 - auc: 0.5949 - val_loss: 5.0331 - val_tp: 1112.0000 - val_fp: 1006.0000 - val_fn: 281.0000 - val_tn: 356.0000 - val_accuracy: 0.5328 - val_precision: 0.5250 - val_recall: 0.7983 - val_auc: 0.5408 - lr: 0.1000\n",
            "Epoch 4/5\n",
            "689/689 [==============================] - 235s 341ms/step - loss: 10.0667 - tp: 5936.0000 - fp: 4525.0000 - fn: 5087.0000 - tn: 6498.0000 - accuracy: 0.5640 - precision: 0.5674 - recall: 0.5385 - auc: 0.5919 - val_loss: 4.0856 - val_tp: 915.0000 - val_fp: 555.0000 - val_fn: 478.0000 - val_tn: 807.0000 - val_accuracy: 0.6250 - val_precision: 0.6224 - val_recall: 0.6569 - val_auc: 0.6621 - lr: 0.1000\n",
            "Epoch 5/5\n",
            "689/689 [==============================] - 234s 339ms/step - loss: 20.9714 - tp: 5831.0000 - fp: 5002.0000 - fn: 5192.0000 - tn: 6021.0000 - accuracy: 0.5376 - precision: 0.5383 - recall: 0.5290 - auc: 0.5611 - val_loss: 5.8236 - val_tp: 0.0000e+00 - val_fp: 0.0000e+00 - val_fn: 1388.0000 - val_tn: 1367.0000 - val_accuracy: 0.4962 - val_precision: 0.0000e+00 - val_recall: 0.0000e+00 - val_auc: 0.5905 - lr: 0.1000\n"
          ]
        }
      ],
      "source": [
        "history = lenet_model.fit(train_dataset, validation_data=val_dataset, epochs = 5, verbose=1, callbacks = [csv_callback, plateau_callbacks])"
      ]
    },
    {
      "cell_type": "markdown",
      "id": "f5345391",
      "metadata": {
        "id": "f5345391"
      },
      "source": [
        "# Loss"
      ]
    },
    {
      "cell_type": "code",
      "execution_count": 29,
      "id": "06d594b6",
      "metadata": {
        "id": "06d594b6",
        "colab": {
          "base_uri": "https://localhost:8080/",
          "height": 472
        },
        "outputId": "7953a9ee-5047-40cf-9c76-393728775c80"
      },
      "outputs": [
        {
          "output_type": "display_data",
          "data": {
            "text/plain": [
              "<Figure size 640x480 with 1 Axes>"
            ],
            "image/png": "[encoded data removed]"
          },
          "metadata": {}
        }
      ],
      "source": [
        "plt.plot(history.history['loss'])\n",
        "plt.plot(history.history['val_loss'])\n",
        "\n",
        "plt.title('Model loss')\n",
        "plt.ylabel('loss')\n",
        "plt.xlabel('epoch')\n",
        "plt.legend(['train','val'])\n",
        "plt.grid(True)\n",
        "plt.show()"
      ]
    },
    {
      "cell_type": "markdown",
      "id": "bd5488f5",
      "metadata": {
        "id": "bd5488f5"
      },
      "source": [
        "# Performance"
      ]
    },
    {
      "cell_type": "code",
      "execution_count": 30,
      "id": "f247c731",
      "metadata": {
        "id": "f247c731",
        "colab": {
          "base_uri": "https://localhost:8080/",
          "height": 472
        },
        "outputId": "1e2e9c60-2776-445b-b24b-39e62288100c"
      },
      "outputs": [
        {
          "output_type": "display_data",
          "data": {
            "text/plain": [
              "<Figure size 640x480 with 1 Axes>"
            ],
            "image/png": "[encoded data removed]"
          },
          "metadata": {}
        }
      ],
      "source": [
        "plt.plot(history.history['accuracy'])\n",
        "plt.plot(history.history['val_accuracy'])\n",
        "plt.title('Model Performance')\n",
        "plt.ylabel('Accuracy')\n",
        "plt.xlabel('Epoch')\n",
        "plt.legend(['train_accuracy', 'val_accuracy'])\n",
        "plt.show()"
      ]
    },
    {
      "cell_type": "code",
      "source": [
        "test_dataset = test_dataset.batch(1)"
      ],
      "metadata": {
        "id": "cShWP3Qga_Qv"
      },
      "id": "cShWP3Qga_Qv",
      "execution_count": 31,
      "outputs": []
    },
    {
      "cell_type": "markdown",
      "id": "1f7a6fc8",
      "metadata": {
        "id": "1f7a6fc8"
      },
      "source": [
        "# Model Evaluation and Testing"
      ]
    },
    {
      "cell_type": "code",
      "execution_count": 32,
      "id": "45fb8b70",
      "metadata": {
        "id": "45fb8b70",
        "colab": {
          "base_uri": "https://localhost:8080/"
        },
        "outputId": "c06d1889-5bd8-4e47-b919-dc43ef21a060"
      },
      "outputs": [
        {
          "output_type": "stream",
          "name": "stdout",
          "text": [
            "2757/2757 [==============================] - 22s 4ms/step - loss: 5.0379 - tp: 0.0000e+00 - fp: 0.0000e+00 - fn: 0.0000e+00 - tn: 0.0000e+00 - accuracy: 0.0000e+00 - precision: 0.0000e+00 - recall: 0.0000e+00 - auc: 0.0000e+00\n"
          ]
        },
        {
          "output_type": "execute_result",
          "data": {
            "text/plain": [
              "{'loss': 5.03786563873291,\n",
              " 'tp': 0.0,\n",
              " 'fp': 0.0,\n",
              " 'fn': 0.0,\n",
              " 'tn': 0.0,\n",
              " 'accuracy': 0.0,\n",
              " 'precision': 0.0,\n",
              " 'recall': 0.0,\n",
              " 'auc': 0.0}"
            ]
          },
          "metadata": {},
          "execution_count": 32
        }
      ],
      "source": [
        "evals = lenet_model.evaluate(test_dataset, return_dict = True)\n",
        "evals"
      ]
    },
    {
      "cell_type": "markdown",
      "id": "6328ed37",
      "metadata": {
        "id": "6328ed37"
      },
      "source": [
        "# Predict"
      ]
    },
    {
      "cell_type": "code",
      "execution_count": 33,
      "id": "0869eecc",
      "metadata": {
        "id": "0869eecc",
        "colab": {
          "base_uri": "https://localhost:8080/"
        },
        "outputId": "acae4265-7045-4787-961a-a48241553e2b"
      },
      "outputs": [
        {
          "output_type": "stream",
          "name": "stdout",
          "text": [
            "1/1 [==============================] - 12s 12s/step\n"
          ]
        },
        {
          "output_type": "execute_result",
          "data": {
            "text/plain": [
              "0.29558948"
            ]
          },
          "metadata": {},
          "execution_count": 33
        }
      ],
      "source": [
        "lenet_model.predict(test_dataset.take(1))[0][0]"
      ]
    },
    {
      "cell_type": "code",
      "execution_count": 34,
      "id": "93c592c3",
      "metadata": {
        "id": "93c592c3"
      },
      "outputs": [],
      "source": [
        "def parasite_or_not(x):\n",
        "    if x<0.5:\n",
        "        return str('P')\n",
        "    else:\n",
        "        return str('U')"
      ]
    },
    {
      "cell_type": "code",
      "execution_count": 35,
      "id": "57a419e8",
      "metadata": {
        "id": "57a419e8",
        "colab": {
          "base_uri": "https://localhost:8080/",
          "height": 53
        },
        "outputId": "28c7636c-fc3e-4cdf-feed-bd015e6c27a1"
      },
      "outputs": [
        {
          "output_type": "stream",
          "name": "stdout",
          "text": [
            "1/1 [==============================] - 12s 12s/step\n"
          ]
        },
        {
          "output_type": "execute_result",
          "data": {
            "text/plain": [
              "'P'"
            ],
            "application/vnd.google.colaboratory.intrinsic+json": {
              "type": "string"
            }
          },
          "metadata": {},
          "execution_count": 35
        }
      ],
      "source": [
        "parasite_or_not(lenet_model.predict(test_dataset.take(1))[0][0])"
      ]
    }
  ],
  "metadata": {
    "accelerator": "GPU",
    "colab": {
      "provenance": []
    },
    "kernelspec": {
      "display_name": "Python 3 (ipykernel)",
      "language": "python",
      "name": "python3"
    },
    "language_info": {
      "codemirror_mode": {
        "name": "ipython",
        "version": 3
      },
      "file_extension": ".py",
      "mimetype": "text/x-python",
      "name": "python",
      "nbconvert_exporter": "python",
      "pygments_lexer": "ipython3",
      "version": "3.9.16"
    },
    "widgets": {
      "application/vnd.jupyter.widget-state+json": {
        "752373e23c8a4a8d9bafd655450acc75": {
          "model_module": "@jupyter-widgets/controls",
          "model_name": "HBoxModel",
          "model_module_version": "1.5.0",
          "state": {
            "_dom_classes": [],
            "_model_module": "@jupyter-widgets/controls",
            "_model_module_version": "1.5.0",
            "_model_name": "HBoxModel",
            "_view_count": null,
            "_view_module": "@jupyter-widgets/controls",
            "_view_module_version": "1.5.0",
            "_view_name": "HBoxView",
            "box_style": "",
            "children": [
              "IPY_MODEL_1cf0118b86b9431fae48f7e8e4f723d3",
              "IPY_MODEL_24575811fdaf442eadfff83ec8f439f8",
              "IPY_MODEL_a27952fa71f64818ab62f4f533ae48dc"
            ],
            "layout": "IPY_MODEL_41159baf06fa453eb535c876a7975237"
          }
        },
        "1cf0118b86b9431fae48f7e8e4f723d3": {
          "model_module": "@jupyter-widgets/controls",
          "model_name": "HTMLModel",
          "model_module_version": "1.5.0",
          "state": {
            "_dom_classes": [],
            "_model_module": "@jupyter-widgets/controls",
            "_model_module_version": "1.5.0",
            "_model_name": "HTMLModel",
            "_view_count": null,
            "_view_module": "@jupyter-widgets/controls",
            "_view_module_version": "1.5.0",
            "_view_name": "HTMLView",
            "description": "",
            "description_tooltip": null,
            "layout": "IPY_MODEL_0257b8f6443d40e489caec77f681ece4",
            "placeholder": "​",
            "style": "IPY_MODEL_50a1786cf5e6443985031804ef1ff86c",
            "value": "Dl Completed...: 100%"
          }
        },
        "24575811fdaf442eadfff83ec8f439f8": {
          "model_module": "@jupyter-widgets/controls",
          "model_name": "FloatProgressModel",
          "model_module_version": "1.5.0",
          "state": {
            "_dom_classes": [],
            "_model_module": "@jupyter-widgets/controls",
            "_model_module_version": "1.5.0",
            "_model_name": "FloatProgressModel",
            "_view_count": null,
            "_view_module": "@jupyter-widgets/controls",
            "_view_module_version": "1.5.0",
            "_view_name": "ProgressView",
            "bar_style": "success",
            "description": "",
            "description_tooltip": null,
            "layout": "IPY_MODEL_ce8cf900be5041ab83ad1015e2e14e72",
            "max": 1,
            "min": 0,
            "orientation": "horizontal",
            "style": "IPY_MODEL_a8a0b5718acd49eb952f3b64b9e77172",
            "value": 1
          }
        },
        "a27952fa71f64818ab62f4f533ae48dc": {
          "model_module": "@jupyter-widgets/controls",
          "model_name": "HTMLModel",
          "model_module_version": "1.5.0",
          "state": {
            "_dom_classes": [],
            "_model_module": "@jupyter-widgets/controls",
            "_model_module_version": "1.5.0",
            "_model_name": "HTMLModel",
            "_view_count": null,
            "_view_module": "@jupyter-widgets/controls",
            "_view_module_version": "1.5.0",
            "_view_name": "HTMLView",
            "description": "",
            "description_tooltip": null,
            "layout": "IPY_MODEL_28580608725841e883a5c08a6865eff9",
            "placeholder": "​",
            "style": "IPY_MODEL_00180904ec2e4599ad78443686d42164",
            "value": " 1/1 [01:33&lt;00:00,  9.83s/ url]"
          }
        },
        "41159baf06fa453eb535c876a7975237": {
          "model_module": "@jupyter-widgets/base",
          "model_name": "LayoutModel",
          "model_module_version": "1.2.0",
          "state": {
            "_model_module": "@jupyter-widgets/base",
            "_model_module_version": "1.2.0",
            "_model_name": "LayoutModel",
            "_view_count": null,
            "_view_module": "@jupyter-widgets/base",
            "_view_module_version": "1.2.0",
            "_view_name": "LayoutView",
            "align_content": null,
            "align_items": null,
            "align_self": null,
            "border": null,
            "bottom": null,
            "display": null,
            "flex": null,
            "flex_flow": null,
            "grid_area": null,
            "grid_auto_columns": null,
            "grid_auto_flow": null,
            "grid_auto_rows": null,
            "grid_column": null,
            "grid_gap": null,
            "grid_row": null,
            "grid_template_areas": null,
            "grid_template_columns": null,
            "grid_template_rows": null,
            "height": null,
            "justify_content": null,
            "justify_items": null,
            "left": null,
            "margin": null,
            "max_height": null,
            "max_width": null,
            "min_height": null,
            "min_width": null,
            "object_fit": null,
            "object_position": null,
            "order": null,
            "overflow": null,
            "overflow_x": null,
            "overflow_y": null,
            "padding": null,
            "right": null,
            "top": null,
            "visibility": null,
            "width": null
          }
        },
        "0257b8f6443d40e489caec77f681ece4": {
          "model_module": "@jupyter-widgets/base",
          "model_name": "LayoutModel",
          "model_module_version": "1.2.0",
          "state": {
            "_model_module": "@jupyter-widgets/base",
            "_model_module_version": "1.2.0",
            "_model_name": "LayoutModel",
            "_view_count": null,
            "_view_module": "@jupyter-widgets/base",
            "_view_module_version": "1.2.0",
            "_view_name": "LayoutView",
            "align_content": null,
            "align_items": null,
            "align_self": null,
            "border": null,
            "bottom": null,
            "display": null,
            "flex": null,
            "flex_flow": null,
            "grid_area": null,
            "grid_auto_columns": null,
            "grid_auto_flow": null,
            "grid_auto_rows": null,
            "grid_column": null,
            "grid_gap": null,
            "grid_row": null,
            "grid_template_areas": null,
            "grid_template_columns": null,
            "grid_template_rows": null,
            "height": null,
            "justify_content": null,
            "justify_items": null,
            "left": null,
            "margin": null,
            "max_height": null,
            "max_width": null,
            "min_height": null,
            "min_width": null,
            "object_fit": null,
            "object_position": null,
            "order": null,
            "overflow": null,
            "overflow_x": null,
            "overflow_y": null,
            "padding": null,
            "right": null,
            "top": null,
            "visibility": null,
            "width": null
          }
        },
        "50a1786cf5e6443985031804ef1ff86c": {
          "model_module": "@jupyter-widgets/controls",
          "model_name": "DescriptionStyleModel",
          "model_module_version": "1.5.0",
          "state": {
            "_model_module": "@jupyter-widgets/controls",
            "_model_module_version": "1.5.0",
            "_model_name": "DescriptionStyleModel",
            "_view_count": null,
            "_view_module": "@jupyter-widgets/base",
            "_view_module_version": "1.2.0",
            "_view_name": "StyleView",
            "description_width": ""
          }
        },
        "ce8cf900be5041ab83ad1015e2e14e72": {
          "model_module": "@jupyter-widgets/base",
          "model_name": "LayoutModel",
          "model_module_version": "1.2.0",
          "state": {
            "_model_module": "@jupyter-widgets/base",
            "_model_module_version": "1.2.0",
            "_model_name": "LayoutModel",
            "_view_count": null,
            "_view_module": "@jupyter-widgets/base",
            "_view_module_version": "1.2.0",
            "_view_name": "LayoutView",
            "align_content": null,
            "align_items": null,
            "align_self": null,
            "border": null,
            "bottom": null,
            "display": null,
            "flex": null,
            "flex_flow": null,
            "grid_area": null,
            "grid_auto_columns": null,
            "grid_auto_flow": null,
            "grid_auto_rows": null,
            "grid_column": null,
            "grid_gap": null,
            "grid_row": null,
            "grid_template_areas": null,
            "grid_template_columns": null,
            "grid_template_rows": null,
            "height": null,
            "justify_content": null,
            "justify_items": null,
            "left": null,
            "margin": null,
            "max_height": null,
            "max_width": null,
            "min_height": null,
            "min_width": null,
            "object_fit": null,
            "object_position": null,
            "order": null,
            "overflow": null,
            "overflow_x": null,
            "overflow_y": null,
            "padding": null,
            "right": null,
            "top": null,
            "visibility": null,
            "width": "20px"
          }
        },
        "a8a0b5718acd49eb952f3b64b9e77172": {
          "model_module": "@jupyter-widgets/controls",
          "model_name": "ProgressStyleModel",
          "model_module_version": "1.5.0",
          "state": {
            "_model_module": "@jupyter-widgets/controls",
            "_model_module_version": "1.5.0",
            "_model_name": "ProgressStyleModel",
            "_view_count": null,
            "_view_module": "@jupyter-widgets/base",
            "_view_module_version": "1.2.0",
            "_view_name": "StyleView",
            "bar_color": null,
            "description_width": ""
          }
        },
        "28580608725841e883a5c08a6865eff9": {
          "model_module": "@jupyter-widgets/base",
          "model_name": "LayoutModel",
          "model_module_version": "1.2.0",
          "state": {
            "_model_module": "@jupyter-widgets/base",
            "_model_module_version": "1.2.0",
            "_model_name": "LayoutModel",
            "_view_count": null,
            "_view_module": "@jupyter-widgets/base",
            "_view_module_version": "1.2.0",
            "_view_name": "LayoutView",
            "align_content": null,
            "align_items": null,
            "align_self": null,
            "border": null,
            "bottom": null,
            "display": null,
            "flex": null,
            "flex_flow": null,
            "grid_area": null,
            "grid_auto_columns": null,
            "grid_auto_flow": null,
            "grid_auto_rows": null,
            "grid_column": null,
            "grid_gap": null,
            "grid_row": null,
            "grid_template_areas": null,
            "grid_template_columns": null,
            "grid_template_rows": null,
            "height": null,
            "justify_content": null,
            "justify_items": null,
            "left": null,
            "margin": null,
            "max_height": null,
            "max_width": null,
            "min_height": null,
            "min_width": null,
            "object_fit": null,
            "object_position": null,
            "order": null,
            "overflow": null,
            "overflow_x": null,
            "overflow_y": null,
            "padding": null,
            "right": null,
            "top": null,
            "visibility": null,
            "width": null
          }
        },
        "00180904ec2e4599ad78443686d42164": {
          "model_module": "@jupyter-widgets/controls",
          "model_name": "DescriptionStyleModel",
          "model_module_version": "1.5.0",
          "state": {
            "_model_module": "@jupyter-widgets/controls",
            "_model_module_version": "1.5.0",
            "_model_name": "DescriptionStyleModel",
            "_view_count": null,
            "_view_module": "@jupyter-widgets/base",
            "_view_module_version": "1.2.0",
            "_view_name": "StyleView",
            "description_width": ""
          }
        },
        "95ec823b164d4d25988dc50ec4e38072": {
          "model_module": "@jupyter-widgets/controls",
          "model_name": "HBoxModel",
          "model_module_version": "1.5.0",
          "state": {
            "_dom_classes": [],
            "_model_module": "@jupyter-widgets/controls",
            "_model_module_version": "1.5.0",
            "_model_name": "HBoxModel",
            "_view_count": null,
            "_view_module": "@jupyter-widgets/controls",
            "_view_module_version": "1.5.0",
            "_view_name": "HBoxView",
            "box_style": "",
            "children": [
              "IPY_MODEL_3d02942dfbb445c99973adbee069b276",
              "IPY_MODEL_53d5ad73b2d94073b9a546563379120f",
              "IPY_MODEL_4bb43632f50944ccb18b1450fa80ee5c"
            ],
            "layout": "IPY_MODEL_6cee6a5ca1ab49e789f7a5d733885350"
          }
        },
        "3d02942dfbb445c99973adbee069b276": {
          "model_module": "@jupyter-widgets/controls",
          "model_name": "HTMLModel",
          "model_module_version": "1.5.0",
          "state": {
            "_dom_classes": [],
            "_model_module": "@jupyter-widgets/controls",
            "_model_module_version": "1.5.0",
            "_model_name": "HTMLModel",
            "_view_count": null,
            "_view_module": "@jupyter-widgets/controls",
            "_view_module_version": "1.5.0",
            "_view_name": "HTMLView",
            "description": "",
            "description_tooltip": null,
            "layout": "IPY_MODEL_9fee0063c0b048ffbece59a36176779f",
            "placeholder": "​",
            "style": "IPY_MODEL_2aef72fc18704c42bbad9b2651c08de5",
            "value": "Dl Size...: 100%"
          }
        },
        "53d5ad73b2d94073b9a546563379120f": {
          "model_module": "@jupyter-widgets/controls",
          "model_name": "FloatProgressModel",
          "model_module_version": "1.5.0",
          "state": {
            "_dom_classes": [],
            "_model_module": "@jupyter-widgets/controls",
            "_model_module_version": "1.5.0",
            "_model_name": "FloatProgressModel",
            "_view_count": null,
            "_view_module": "@jupyter-widgets/controls",
            "_view_module_version": "1.5.0",
            "_view_name": "ProgressView",
            "bar_style": "success",
            "description": "",
            "description_tooltip": null,
            "layout": "IPY_MODEL_593b742f297941b2adc93e78e78e05f8",
            "max": 1,
            "min": 0,
            "orientation": "horizontal",
            "style": "IPY_MODEL_cfd4a58eedfc4ecb94805781ff9be2b1",
            "value": 1
          }
        },
        "4bb43632f50944ccb18b1450fa80ee5c": {
          "model_module": "@jupyter-widgets/controls",
          "model_name": "HTMLModel",
          "model_module_version": "1.5.0",
          "state": {
            "_dom_classes": [],
            "_model_module": "@jupyter-widgets/controls",
            "_model_module_version": "1.5.0",
            "_model_name": "HTMLModel",
            "_view_count": null,
            "_view_module": "@jupyter-widgets/controls",
            "_view_module_version": "1.5.0",
            "_view_name": "HTMLView",
            "description": "",
            "description_tooltip": null,
            "layout": "IPY_MODEL_2cfda8248661477f8256376e9f936f2e",
            "placeholder": "​",
            "style": "IPY_MODEL_36a92b2d1895449c90c31c2ee9a5f9d4",
            "value": " 337/337 [01:33&lt;00:00, 33.10 MiB/s]"
          }
        },
        "6cee6a5ca1ab49e789f7a5d733885350": {
          "model_module": "@jupyter-widgets/base",
          "model_name": "LayoutModel",
          "model_module_version": "1.2.0",
          "state": {
            "_model_module": "@jupyter-widgets/base",
            "_model_module_version": "1.2.0",
            "_model_name": "LayoutModel",
            "_view_count": null,
            "_view_module": "@jupyter-widgets/base",
            "_view_module_version": "1.2.0",
            "_view_name": "LayoutView",
            "align_content": null,
            "align_items": null,
            "align_self": null,
            "border": null,
            "bottom": null,
            "display": null,
            "flex": null,
            "flex_flow": null,
            "grid_area": null,
            "grid_auto_columns": null,
            "grid_auto_flow": null,
            "grid_auto_rows": null,
            "grid_column": null,
            "grid_gap": null,
            "grid_row": null,
            "grid_template_areas": null,
            "grid_template_columns": null,
            "grid_template_rows": null,
            "height": null,
            "justify_content": null,
            "justify_items": null,
            "left": null,
            "margin": null,
            "max_height": null,
            "max_width": null,
            "min_height": null,
            "min_width": null,
            "object_fit": null,
            "object_position": null,
            "order": null,
            "overflow": null,
            "overflow_x": null,
            "overflow_y": null,
            "padding": null,
            "right": null,
            "top": null,
            "visibility": null,
            "width": null
          }
        },
        "9fee0063c0b048ffbece59a36176779f": {
          "model_module": "@jupyter-widgets/base",
          "model_name": "LayoutModel",
          "model_module_version": "1.2.0",
          "state": {
            "_model_module": "@jupyter-widgets/base",
            "_model_module_version": "1.2.0",
            "_model_name": "LayoutModel",
            "_view_count": null,
            "_view_module": "@jupyter-widgets/base",
            "_view_module_version": "1.2.0",
            "_view_name": "LayoutView",
            "align_content": null,
            "align_items": null,
            "align_self": null,
            "border": null,
            "bottom": null,
            "display": null,
            "flex": null,
            "flex_flow": null,
            "grid_area": null,
            "grid_auto_columns": null,
            "grid_auto_flow": null,
            "grid_auto_rows": null,
            "grid_column": null,
            "grid_gap": null,
            "grid_row": null,
            "grid_template_areas": null,
            "grid_template_columns": null,
            "grid_template_rows": null,
            "height": null,
            "justify_content": null,
            "justify_items": null,
            "left": null,
            "margin": null,
            "max_height": null,
            "max_width": null,
            "min_height": null,
            "min_width": null,
            "object_fit": null,
            "object_position": null,
            "order": null,
            "overflow": null,
            "overflow_x": null,
            "overflow_y": null,
            "padding": null,
            "right": null,
            "top": null,
            "visibility": null,
            "width": null
          }
        },
        "2aef72fc18704c42bbad9b2651c08de5": {
          "model_module": "@jupyter-widgets/controls",
          "model_name": "DescriptionStyleModel",
          "model_module_version": "1.5.0",
          "state": {
            "_model_module": "@jupyter-widgets/controls",
            "_model_module_version": "1.5.0",
            "_model_name": "DescriptionStyleModel",
            "_view_count": null,
            "_view_module": "@jupyter-widgets/base",
            "_view_module_version": "1.2.0",
            "_view_name": "StyleView",
            "description_width": ""
          }
        },
        "593b742f297941b2adc93e78e78e05f8": {
          "model_module": "@jupyter-widgets/base",
          "model_name": "LayoutModel",
          "model_module_version": "1.2.0",
          "state": {
            "_model_module": "@jupyter-widgets/base",
            "_model_module_version": "1.2.0",
            "_model_name": "LayoutModel",
            "_view_count": null,
            "_view_module": "@jupyter-widgets/base",
            "_view_module_version": "1.2.0",
            "_view_name": "LayoutView",
            "align_content": null,
            "align_items": null,
            "align_self": null,
            "border": null,
            "bottom": null,
            "display": null,
            "flex": null,
            "flex_flow": null,
            "grid_area": null,
            "grid_auto_columns": null,
            "grid_auto_flow": null,
            "grid_auto_rows": null,
            "grid_column": null,
            "grid_gap": null,
            "grid_row": null,
            "grid_template_areas": null,
            "grid_template_columns": null,
            "grid_template_rows": null,
            "height": null,
            "justify_content": null,
            "justify_items": null,
            "left": null,
            "margin": null,
            "max_height": null,
            "max_width": null,
            "min_height": null,
            "min_width": null,
            "object_fit": null,
            "object_position": null,
            "order": null,
            "overflow": null,
            "overflow_x": null,
            "overflow_y": null,
            "padding": null,
            "right": null,
            "top": null,
            "visibility": null,
            "width": "20px"
          }
        },
        "cfd4a58eedfc4ecb94805781ff9be2b1": {
          "model_module": "@jupyter-widgets/controls",
          "model_name": "ProgressStyleModel",
          "model_module_version": "1.5.0",
          "state": {
            "_model_module": "@jupyter-widgets/controls",
            "_model_module_version": "1.5.0",
            "_model_name": "ProgressStyleModel",
            "_view_count": null,
            "_view_module": "@jupyter-widgets/base",
            "_view_module_version": "1.2.0",
            "_view_name": "StyleView",
            "bar_color": null,
            "description_width": ""
          }
        },
        "2cfda8248661477f8256376e9f936f2e": {
          "model_module": "@jupyter-widgets/base",
          "model_name": "LayoutModel",
          "model_module_version": "1.2.0",
          "state": {
            "_model_module": "@jupyter-widgets/base",
            "_model_module_version": "1.2.0",
            "_model_name": "LayoutModel",
            "_view_count": null,
            "_view_module": "@jupyter-widgets/base",
            "_view_module_version": "1.2.0",
            "_view_name": "LayoutView",
            "align_content": null,
            "align_items": null,
            "align_self": null,
            "border": null,
            "bottom": null,
            "display": null,
            "flex": null,
            "flex_flow": null,
            "grid_area": null,
            "grid_auto_columns": null,
            "grid_auto_flow": null,
            "grid_auto_rows": null,
            "grid_column": null,
            "grid_gap": null,
            "grid_row": null,
            "grid_template_areas": null,
            "grid_template_columns": null,
            "grid_template_rows": null,
            "height": null,
            "justify_content": null,
            "justify_items": null,
            "left": null,
            "margin": null,
            "max_height": null,
            "max_width": null,
            "min_height": null,
            "min_width": null,
            "object_fit": null,
            "object_position": null,
            "order": null,
            "overflow": null,
            "overflow_x": null,
            "overflow_y": null,
            "padding": null,
            "right": null,
            "top": null,
            "visibility": null,
            "width": null
          }
        },
        "36a92b2d1895449c90c31c2ee9a5f9d4": {
          "model_module": "@jupyter-widgets/controls",
          "model_name": "DescriptionStyleModel",
          "model_module_version": "1.5.0",
          "state": {
            "_model_module": "@jupyter-widgets/controls",
            "_model_module_version": "1.5.0",
            "_model_name": "DescriptionStyleModel",
            "_view_count": null,
            "_view_module": "@jupyter-widgets/base",
            "_view_module_version": "1.2.0",
            "_view_name": "StyleView",
            "description_width": ""
          }
        },
        "fb9635e5291b49a7bbcc921a62be0657": {
          "model_module": "@jupyter-widgets/controls",
          "model_name": "HBoxModel",
          "model_module_version": "1.5.0",
          "state": {
            "_dom_classes": [],
            "_model_module": "@jupyter-widgets/controls",
            "_model_module_version": "1.5.0",
            "_model_name": "HBoxModel",
            "_view_count": null,
            "_view_module": "@jupyter-widgets/controls",
            "_view_module_version": "1.5.0",
            "_view_name": "HBoxView",
            "box_style": "",
            "children": [
              "IPY_MODEL_81c4a62c0db5491c9bc646d51bb2e073",
              "IPY_MODEL_7c7dbde3ad754828adfd3d70eb53d785",
              "IPY_MODEL_f533f6c3b0b94c1ea063487d693dd8b9"
            ],
            "layout": "IPY_MODEL_15f2c5ac40f84b729dee0ef6767a2dce"
          }
        },
        "81c4a62c0db5491c9bc646d51bb2e073": {
          "model_module": "@jupyter-widgets/controls",
          "model_name": "HTMLModel",
          "model_module_version": "1.5.0",
          "state": {
            "_dom_classes": [],
            "_model_module": "@jupyter-widgets/controls",
            "_model_module_version": "1.5.0",
            "_model_name": "HTMLModel",
            "_view_count": null,
            "_view_module": "@jupyter-widgets/controls",
            "_view_module_version": "1.5.0",
            "_view_name": "HTMLView",
            "description": "",
            "description_tooltip": null,
            "layout": "IPY_MODEL_38aeb31d089b480ea896de4ab3a6bd5e",
            "placeholder": "​",
            "style": "IPY_MODEL_b03b67e2c19143a9b95bc3a88fd77231",
            "value": "Extraction completed...: 100%"
          }
        },
        "7c7dbde3ad754828adfd3d70eb53d785": {
          "model_module": "@jupyter-widgets/controls",
          "model_name": "FloatProgressModel",
          "model_module_version": "1.5.0",
          "state": {
            "_dom_classes": [],
            "_model_module": "@jupyter-widgets/controls",
            "_model_module_version": "1.5.0",
            "_model_name": "FloatProgressModel",
            "_view_count": null,
            "_view_module": "@jupyter-widgets/controls",
            "_view_module_version": "1.5.0",
            "_view_name": "ProgressView",
            "bar_style": "success",
            "description": "",
            "description_tooltip": null,
            "layout": "IPY_MODEL_5a231eff5a474458906a0428ae58a6f3",
            "max": 1,
            "min": 0,
            "orientation": "horizontal",
            "style": "IPY_MODEL_7dd66ede6008424887b9cd8e0bea38ff",
            "value": 1
          }
        },
        "f533f6c3b0b94c1ea063487d693dd8b9": {
          "model_module": "@jupyter-widgets/controls",
          "model_name": "HTMLModel",
          "model_module_version": "1.5.0",
          "state": {
            "_dom_classes": [],
            "_model_module": "@jupyter-widgets/controls",
            "_model_module_version": "1.5.0",
            "_model_name": "HTMLModel",
            "_view_count": null,
            "_view_module": "@jupyter-widgets/controls",
            "_view_module_version": "1.5.0",
            "_view_name": "HTMLView",
            "description": "",
            "description_tooltip": null,
            "layout": "IPY_MODEL_924740858846440f97329986b129fdd6",
            "placeholder": "​",
            "style": "IPY_MODEL_597977aae21d40f380eef06db0be0f6c",
            "value": " 27560/27560 [01:33&lt;00:00, 1081.46 file/s]"
          }
        },
        "15f2c5ac40f84b729dee0ef6767a2dce": {
          "model_module": "@jupyter-widgets/base",
          "model_name": "LayoutModel",
          "model_module_version": "1.2.0",
          "state": {
            "_model_module": "@jupyter-widgets/base",
            "_model_module_version": "1.2.0",
            "_model_name": "LayoutModel",
            "_view_count": null,
            "_view_module": "@jupyter-widgets/base",
            "_view_module_version": "1.2.0",
            "_view_name": "LayoutView",
            "align_content": null,
            "align_items": null,
            "align_self": null,
            "border": null,
            "bottom": null,
            "display": null,
            "flex": null,
            "flex_flow": null,
            "grid_area": null,
            "grid_auto_columns": null,
            "grid_auto_flow": null,
            "grid_auto_rows": null,
            "grid_column": null,
            "grid_gap": null,
            "grid_row": null,
            "grid_template_areas": null,
            "grid_template_columns": null,
            "grid_template_rows": null,
            "height": null,
            "justify_content": null,
            "justify_items": null,
            "left": null,
            "margin": null,
            "max_height": null,
            "max_width": null,
            "min_height": null,
            "min_width": null,
            "object_fit": null,
            "object_position": null,
            "order": null,
            "overflow": null,
            "overflow_x": null,
            "overflow_y": null,
            "padding": null,
            "right": null,
            "top": null,
            "visibility": null,
            "width": null
          }
        },
        "38aeb31d089b480ea896de4ab3a6bd5e": {
          "model_module": "@jupyter-widgets/base",
          "model_name": "LayoutModel",
          "model_module_version": "1.2.0",
          "state": {
            "_model_module": "@jupyter-widgets/base",
            "_model_module_version": "1.2.0",
            "_model_name": "LayoutModel",
            "_view_count": null,
            "_view_module": "@jupyter-widgets/base",
            "_view_module_version": "1.2.0",
            "_view_name": "LayoutView",
            "align_content": null,
            "align_items": null,
            "align_self": null,
            "border": null,
            "bottom": null,
            "display": null,
            "flex": null,
            "flex_flow": null,
            "grid_area": null,
            "grid_auto_columns": null,
            "grid_auto_flow": null,
            "grid_auto_rows": null,
            "grid_column": null,
            "grid_gap": null,
            "grid_row": null,
            "grid_template_areas": null,
            "grid_template_columns": null,
            "grid_template_rows": null,
            "height": null,
            "justify_content": null,
            "justify_items": null,
            "left": null,
            "margin": null,
            "max_height": null,
            "max_width": null,
            "min_height": null,
            "min_width": null,
            "object_fit": null,
            "object_position": null,
            "order": null,
            "overflow": null,
            "overflow_x": null,
            "overflow_y": null,
            "padding": null,
            "right": null,
            "top": null,
            "visibility": null,
            "width": null
          }
        },
        "b03b67e2c19143a9b95bc3a88fd77231": {
          "model_module": "@jupyter-widgets/controls",
          "model_name": "DescriptionStyleModel",
          "model_module_version": "1.5.0",
          "state": {
            "_model_module": "@jupyter-widgets/controls",
            "_model_module_version": "1.5.0",
            "_model_name": "DescriptionStyleModel",
            "_view_count": null,
            "_view_module": "@jupyter-widgets/base",
            "_view_module_version": "1.2.0",
            "_view_name": "StyleView",
            "description_width": ""
          }
        },
        "5a231eff5a474458906a0428ae58a6f3": {
          "model_module": "@jupyter-widgets/base",
          "model_name": "LayoutModel",
          "model_module_version": "1.2.0",
          "state": {
            "_model_module": "@jupyter-widgets/base",
            "_model_module_version": "1.2.0",
            "_model_name": "LayoutModel",
            "_view_count": null,
            "_view_module": "@jupyter-widgets/base",
            "_view_module_version": "1.2.0",
            "_view_name": "LayoutView",
            "align_content": null,
            "align_items": null,
            "align_self": null,
            "border": null,
            "bottom": null,
            "display": null,
            "flex": null,
            "flex_flow": null,
            "grid_area": null,
            "grid_auto_columns": null,
            "grid_auto_flow": null,
            "grid_auto_rows": null,
            "grid_column": null,
            "grid_gap": null,
            "grid_row": null,
            "grid_template_areas": null,
            "grid_template_columns": null,
            "grid_template_rows": null,
            "height": null,
            "justify_content": null,
            "justify_items": null,
            "left": null,
            "margin": null,
            "max_height": null,
            "max_width": null,
            "min_height": null,
            "min_width": null,
            "object_fit": null,
            "object_position": null,
            "order": null,
            "overflow": null,
            "overflow_x": null,
            "overflow_y": null,
            "padding": null,
            "right": null,
            "top": null,
            "visibility": null,
            "width": "20px"
          }
        },
        "7dd66ede6008424887b9cd8e0bea38ff": {
          "model_module": "@jupyter-widgets/controls",
          "model_name": "ProgressStyleModel",
          "model_module_version": "1.5.0",
          "state": {
            "_model_module": "@jupyter-widgets/controls",
            "_model_module_version": "1.5.0",
            "_model_name": "ProgressStyleModel",
            "_view_count": null,
            "_view_module": "@jupyter-widgets/base",
            "_view_module_version": "1.2.0",
            "_view_name": "StyleView",
            "bar_color": null,
            "description_width": ""
          }
        },
        "924740858846440f97329986b129fdd6": {
          "model_module": "@jupyter-widgets/base",
          "model_name": "LayoutModel",
          "model_module_version": "1.2.0",
          "state": {
            "_model_module": "@jupyter-widgets/base",
            "_model_module_version": "1.2.0",
            "_model_name": "LayoutModel",
            "_view_count": null,
            "_view_module": "@jupyter-widgets/base",
            "_view_module_version": "1.2.0",
            "_view_name": "LayoutView",
            "align_content": null,
            "align_items": null,
            "align_self": null,
            "border": null,
            "bottom": null,
            "display": null,
            "flex": null,
            "flex_flow": null,
            "grid_area": null,
            "grid_auto_columns": null,
            "grid_auto_flow": null,
            "grid_auto_rows": null,
            "grid_column": null,
            "grid_gap": null,
            "grid_row": null,
            "grid_template_areas": null,
            "grid_template_columns": null,
            "grid_template_rows": null,
            "height": null,
            "justify_content": null,
            "justify_items": null,
            "left": null,
            "margin": null,
            "max_height": null,
            "max_width": null,
            "min_height": null,
            "min_width": null,
            "object_fit": null,
            "object_position": null,
            "order": null,
            "overflow": null,
            "overflow_x": null,
            "overflow_y": null,
            "padding": null,
            "right": null,
            "top": null,
            "visibility": null,
            "width": null
          }
        },
        "597977aae21d40f380eef06db0be0f6c": {
          "model_module": "@jupyter-widgets/controls",
          "model_name": "DescriptionStyleModel",
          "model_module_version": "1.5.0",
          "state": {
            "_model_module": "@jupyter-widgets/controls",
            "_model_module_version": "1.5.0",
            "_model_name": "DescriptionStyleModel",
            "_view_count": null,
            "_view_module": "@jupyter-widgets/base",
            "_view_module_version": "1.2.0",
            "_view_name": "StyleView",
            "description_width": ""
          }
        },
        "4c2a54ccae8641a1af05a4c9ec36173b": {
          "model_module": "@jupyter-widgets/controls",
          "model_name": "HBoxModel",
          "model_module_version": "1.5.0",
          "state": {
            "_dom_classes": [],
            "_model_module": "@jupyter-widgets/controls",
            "_model_module_version": "1.5.0",
            "_model_name": "HBoxModel",
            "_view_count": null,
            "_view_module": "@jupyter-widgets/controls",
            "_view_module_version": "1.5.0",
            "_view_name": "HBoxView",
            "box_style": "",
            "children": [
              "IPY_MODEL_fde8a4d639614ff9bebdab0bf4f13c9b",
              "IPY_MODEL_be84649f6b934d6e83755e856426f095",
              "IPY_MODEL_12b8125ba6ed40c489294ed983b94128"
            ],
            "layout": "IPY_MODEL_6cd8dc4e974142eeb7a0456ff0fde427"
          }
        },
        "fde8a4d639614ff9bebdab0bf4f13c9b": {
          "model_module": "@jupyter-widgets/controls",
          "model_name": "HTMLModel",
          "model_module_version": "1.5.0",
          "state": {
            "_dom_classes": [],
            "_model_module": "@jupyter-widgets/controls",
            "_model_module_version": "1.5.0",
            "_model_name": "HTMLModel",
            "_view_count": null,
            "_view_module": "@jupyter-widgets/controls",
            "_view_module_version": "1.5.0",
            "_view_name": "HTMLView",
            "description": "",
            "description_tooltip": null,
            "layout": "IPY_MODEL_c60c6a9603e849aea5939014e364bd70",
            "placeholder": "​",
            "style": "IPY_MODEL_1a6f6b4cfb8f4c9d9a6185bc2be9b82e",
            "value": "Generating splits...: 100%"
          }
        },
        "be84649f6b934d6e83755e856426f095": {
          "model_module": "@jupyter-widgets/controls",
          "model_name": "FloatProgressModel",
          "model_module_version": "1.5.0",
          "state": {
            "_dom_classes": [],
            "_model_module": "@jupyter-widgets/controls",
            "_model_module_version": "1.5.0",
            "_model_name": "FloatProgressModel",
            "_view_count": null,
            "_view_module": "@jupyter-widgets/controls",
            "_view_module_version": "1.5.0",
            "_view_name": "ProgressView",
            "bar_style": "",
            "description": "",
            "description_tooltip": null,
            "layout": "IPY_MODEL_c5db16eb2d034b4e8fe76309d980015b",
            "max": 1,
            "min": 0,
            "orientation": "horizontal",
            "style": "IPY_MODEL_88f1703ef1844c268089e2bc27831bca",
            "value": 1
          }
        },
        "12b8125ba6ed40c489294ed983b94128": {
          "model_module": "@jupyter-widgets/controls",
          "model_name": "HTMLModel",
          "model_module_version": "1.5.0",
          "state": {
            "_dom_classes": [],
            "_model_module": "@jupyter-widgets/controls",
            "_model_module_version": "1.5.0",
            "_model_name": "HTMLModel",
            "_view_count": null,
            "_view_module": "@jupyter-widgets/controls",
            "_view_module_version": "1.5.0",
            "_view_name": "HTMLView",
            "description": "",
            "description_tooltip": null,
            "layout": "IPY_MODEL_6540bbf9d17e45a2ada58e3eaaa3eb0b",
            "placeholder": "​",
            "style": "IPY_MODEL_3f998d718b664e239b7ee7fcfdb5d049",
            "value": " 1/1 [00:09&lt;00:00,  9.12s/ splits]"
          }
        },
        "6cd8dc4e974142eeb7a0456ff0fde427": {
          "model_module": "@jupyter-widgets/base",
          "model_name": "LayoutModel",
          "model_module_version": "1.2.0",
          "state": {
            "_model_module": "@jupyter-widgets/base",
            "_model_module_version": "1.2.0",
            "_model_name": "LayoutModel",
            "_view_count": null,
            "_view_module": "@jupyter-widgets/base",
            "_view_module_version": "1.2.0",
            "_view_name": "LayoutView",
            "align_content": null,
            "align_items": null,
            "align_self": null,
            "border": null,
            "bottom": null,
            "display": null,
            "flex": null,
            "flex_flow": null,
            "grid_area": null,
            "grid_auto_columns": null,
            "grid_auto_flow": null,
            "grid_auto_rows": null,
            "grid_column": null,
            "grid_gap": null,
            "grid_row": null,
            "grid_template_areas": null,
            "grid_template_columns": null,
            "grid_template_rows": null,
            "height": null,
            "justify_content": null,
            "justify_items": null,
            "left": null,
            "margin": null,
            "max_height": null,
            "max_width": null,
            "min_height": null,
            "min_width": null,
            "object_fit": null,
            "object_position": null,
            "order": null,
            "overflow": null,
            "overflow_x": null,
            "overflow_y": null,
            "padding": null,
            "right": null,
            "top": null,
            "visibility": "hidden",
            "width": null
          }
        },
        "c60c6a9603e849aea5939014e364bd70": {
          "model_module": "@jupyter-widgets/base",
          "model_name": "LayoutModel",
          "model_module_version": "1.2.0",
          "state": {
            "_model_module": "@jupyter-widgets/base",
            "_model_module_version": "1.2.0",
            "_model_name": "LayoutModel",
            "_view_count": null,
            "_view_module": "@jupyter-widgets/base",
            "_view_module_version": "1.2.0",
            "_view_name": "LayoutView",
            "align_content": null,
            "align_items": null,
            "align_self": null,
            "border": null,
            "bottom": null,
            "display": null,
            "flex": null,
            "flex_flow": null,
            "grid_area": null,
            "grid_auto_columns": null,
            "grid_auto_flow": null,
            "grid_auto_rows": null,
            "grid_column": null,
            "grid_gap": null,
            "grid_row": null,
            "grid_template_areas": null,
            "grid_template_columns": null,
            "grid_template_rows": null,
            "height": null,
            "justify_content": null,
            "justify_items": null,
            "left": null,
            "margin": null,
            "max_height": null,
            "max_width": null,
            "min_height": null,
            "min_width": null,
            "object_fit": null,
            "object_position": null,
            "order": null,
            "overflow": null,
            "overflow_x": null,
            "overflow_y": null,
            "padding": null,
            "right": null,
            "top": null,
            "visibility": null,
            "width": null
          }
        },
        "1a6f6b4cfb8f4c9d9a6185bc2be9b82e": {
          "model_module": "@jupyter-widgets/controls",
          "model_name": "DescriptionStyleModel",
          "model_module_version": "1.5.0",
          "state": {
            "_model_module": "@jupyter-widgets/controls",
            "_model_module_version": "1.5.0",
            "_model_name": "DescriptionStyleModel",
            "_view_count": null,
            "_view_module": "@jupyter-widgets/base",
            "_view_module_version": "1.2.0",
            "_view_name": "StyleView",
            "description_width": ""
          }
        },
        "c5db16eb2d034b4e8fe76309d980015b": {
          "model_module": "@jupyter-widgets/base",
          "model_name": "LayoutModel",
          "model_module_version": "1.2.0",
          "state": {
            "_model_module": "@jupyter-widgets/base",
            "_model_module_version": "1.2.0",
            "_model_name": "LayoutModel",
            "_view_count": null,
            "_view_module": "@jupyter-widgets/base",
            "_view_module_version": "1.2.0",
            "_view_name": "LayoutView",
            "align_content": null,
            "align_items": null,
            "align_self": null,
            "border": null,
            "bottom": null,
            "display": null,
            "flex": null,
            "flex_flow": null,
            "grid_area": null,
            "grid_auto_columns": null,
            "grid_auto_flow": null,
            "grid_auto_rows": null,
            "grid_column": null,
            "grid_gap": null,
            "grid_row": null,
            "grid_template_areas": null,
            "grid_template_columns": null,
            "grid_template_rows": null,
            "height": null,
            "justify_content": null,
            "justify_items": null,
            "left": null,
            "margin": null,
            "max_height": null,
            "max_width": null,
            "min_height": null,
            "min_width": null,
            "object_fit": null,
            "object_position": null,
            "order": null,
            "overflow": null,
            "overflow_x": null,
            "overflow_y": null,
            "padding": null,
            "right": null,
            "top": null,
            "visibility": null,
            "width": null
          }
        },
        "88f1703ef1844c268089e2bc27831bca": {
          "model_module": "@jupyter-widgets/controls",
          "model_name": "ProgressStyleModel",
          "model_module_version": "1.5.0",
          "state": {
            "_model_module": "@jupyter-widgets/controls",
            "_model_module_version": "1.5.0",
            "_model_name": "ProgressStyleModel",
            "_view_count": null,
            "_view_module": "@jupyter-widgets/base",
            "_view_module_version": "1.2.0",
            "_view_name": "StyleView",
            "bar_color": null,
            "description_width": ""
          }
        },
        "6540bbf9d17e45a2ada58e3eaaa3eb0b": {
          "model_module": "@jupyter-widgets/base",
          "model_name": "LayoutModel",
          "model_module_version": "1.2.0",
          "state": {
            "_model_module": "@jupyter-widgets/base",
            "_model_module_version": "1.2.0",
            "_model_name": "LayoutModel",
            "_view_count": null,
            "_view_module": "@jupyter-widgets/base",
            "_view_module_version": "1.2.0",
            "_view_name": "LayoutView",
            "align_content": null,
            "align_items": null,
            "align_self": null,
            "border": null,
            "bottom": null,
            "display": null,
            "flex": null,
            "flex_flow": null,
            "grid_area": null,
            "grid_auto_columns": null,
            "grid_auto_flow": null,
            "grid_auto_rows": null,
            "grid_column": null,
            "grid_gap": null,
            "grid_row": null,
            "grid_template_areas": null,
            "grid_template_columns": null,
            "grid_template_rows": null,
            "height": null,
            "justify_content": null,
            "justify_items": null,
            "left": null,
            "margin": null,
            "max_height": null,
            "max_width": null,
            "min_height": null,
            "min_width": null,
            "object_fit": null,
            "object_position": null,
            "order": null,
            "overflow": null,
            "overflow_x": null,
            "overflow_y": null,
            "padding": null,
            "right": null,
            "top": null,
            "visibility": null,
            "width": null
          }
        },
        "3f998d718b664e239b7ee7fcfdb5d049": {
          "model_module": "@jupyter-widgets/controls",
          "model_name": "DescriptionStyleModel",
          "model_module_version": "1.5.0",
          "state": {
            "_model_module": "@jupyter-widgets/controls",
            "_model_module_version": "1.5.0",
            "_model_name": "DescriptionStyleModel",
            "_view_count": null,
            "_view_module": "@jupyter-widgets/base",
            "_view_module_version": "1.2.0",
            "_view_name": "StyleView",
            "description_width": ""
          }
        },
        "67ba179cf6bc48ccbcb409e2557f08a1": {
          "model_module": "@jupyter-widgets/controls",
          "model_name": "HBoxModel",
          "model_module_version": "1.5.0",
          "state": {
            "_dom_classes": [],
            "_model_module": "@jupyter-widgets/controls",
            "_model_module_version": "1.5.0",
            "_model_name": "HBoxModel",
            "_view_count": null,
            "_view_module": "@jupyter-widgets/controls",
            "_view_module_version": "1.5.0",
            "_view_name": "HBoxView",
            "box_style": "",
            "children": [
              "IPY_MODEL_c1c6d67494d84c31b62b352d501eff82",
              "IPY_MODEL_eb4d8a7a54404b6b896f05569626e821",
              "IPY_MODEL_9502b81262fe4e14b4973c9cccd9b274"
            ],
            "layout": "IPY_MODEL_bdc48ba7bf99495b9977e0273c458fde"
          }
        },
        "c1c6d67494d84c31b62b352d501eff82": {
          "model_module": "@jupyter-widgets/controls",
          "model_name": "HTMLModel",
          "model_module_version": "1.5.0",
          "state": {
            "_dom_classes": [],
            "_model_module": "@jupyter-widgets/controls",
            "_model_module_version": "1.5.0",
            "_model_name": "HTMLModel",
            "_view_count": null,
            "_view_module": "@jupyter-widgets/controls",
            "_view_module_version": "1.5.0",
            "_view_name": "HTMLView",
            "description": "",
            "description_tooltip": null,
            "layout": "IPY_MODEL_2a13f690668846708767fa25a569a71f",
            "placeholder": "​",
            "style": "IPY_MODEL_3ebf377af1f14b83a625e910b445e32f",
            "value": "Generating train examples...:  90%"
          }
        },
        "eb4d8a7a54404b6b896f05569626e821": {
          "model_module": "@jupyter-widgets/controls",
          "model_name": "FloatProgressModel",
          "model_module_version": "1.5.0",
          "state": {
            "_dom_classes": [],
            "_model_module": "@jupyter-widgets/controls",
            "_model_module_version": "1.5.0",
            "_model_name": "FloatProgressModel",
            "_view_count": null,
            "_view_module": "@jupyter-widgets/controls",
            "_view_module_version": "1.5.0",
            "_view_name": "ProgressView",
            "bar_style": "",
            "description": "",
            "description_tooltip": null,
            "layout": "IPY_MODEL_05f1a17a835a4aad8ab451dce75f54b1",
            "max": 27558,
            "min": 0,
            "orientation": "horizontal",
            "style": "IPY_MODEL_4d53d8ecf9e94e84aab2dab9173b21c3",
            "value": 27558
          }
        },
        "9502b81262fe4e14b4973c9cccd9b274": {
          "model_module": "@jupyter-widgets/controls",
          "model_name": "HTMLModel",
          "model_module_version": "1.5.0",
          "state": {
            "_dom_classes": [],
            "_model_module": "@jupyter-widgets/controls",
            "_model_module_version": "1.5.0",
            "_model_name": "HTMLModel",
            "_view_count": null,
            "_view_module": "@jupyter-widgets/controls",
            "_view_module_version": "1.5.0",
            "_view_name": "HTMLView",
            "description": "",
            "description_tooltip": null,
            "layout": "IPY_MODEL_1b27f573f83a4443bf4ae545bebd9093",
            "placeholder": "​",
            "style": "IPY_MODEL_e359b717350147ce906e10043a1e5e93",
            "value": " 24710/27558 [00:07&lt;00:00, 3289.92 examples/s]"
          }
        },
        "bdc48ba7bf99495b9977e0273c458fde": {
          "model_module": "@jupyter-widgets/base",
          "model_name": "LayoutModel",
          "model_module_version": "1.2.0",
          "state": {
            "_model_module": "@jupyter-widgets/base",
            "_model_module_version": "1.2.0",
            "_model_name": "LayoutModel",
            "_view_count": null,
            "_view_module": "@jupyter-widgets/base",
            "_view_module_version": "1.2.0",
            "_view_name": "LayoutView",
            "align_content": null,
            "align_items": null,
            "align_self": null,
            "border": null,
            "bottom": null,
            "display": null,
            "flex": null,
            "flex_flow": null,
            "grid_area": null,
            "grid_auto_columns": null,
            "grid_auto_flow": null,
            "grid_auto_rows": null,
            "grid_column": null,
            "grid_gap": null,
            "grid_row": null,
            "grid_template_areas": null,
            "grid_template_columns": null,
            "grid_template_rows": null,
            "height": null,
            "justify_content": null,
            "justify_items": null,
            "left": null,
            "margin": null,
            "max_height": null,
            "max_width": null,
            "min_height": null,
            "min_width": null,
            "object_fit": null,
            "object_position": null,
            "order": null,
            "overflow": null,
            "overflow_x": null,
            "overflow_y": null,
            "padding": null,
            "right": null,
            "top": null,
            "visibility": "hidden",
            "width": null
          }
        },
        "2a13f690668846708767fa25a569a71f": {
          "model_module": "@jupyter-widgets/base",
          "model_name": "LayoutModel",
          "model_module_version": "1.2.0",
          "state": {
            "_model_module": "@jupyter-widgets/base",
            "_model_module_version": "1.2.0",
            "_model_name": "LayoutModel",
            "_view_count": null,
            "_view_module": "@jupyter-widgets/base",
            "_view_module_version": "1.2.0",
            "_view_name": "LayoutView",
            "align_content": null,
            "align_items": null,
            "align_self": null,
            "border": null,
            "bottom": null,
            "display": null,
            "flex": null,
            "flex_flow": null,
            "grid_area": null,
            "grid_auto_columns": null,
            "grid_auto_flow": null,
            "grid_auto_rows": null,
            "grid_column": null,
            "grid_gap": null,
            "grid_row": null,
            "grid_template_areas": null,
            "grid_template_columns": null,
            "grid_template_rows": null,
            "height": null,
            "justify_content": null,
            "justify_items": null,
            "left": null,
            "margin": null,
            "max_height": null,
            "max_width": null,
            "min_height": null,
            "min_width": null,
            "object_fit": null,
            "object_position": null,
            "order": null,
            "overflow": null,
            "overflow_x": null,
            "overflow_y": null,
            "padding": null,
            "right": null,
            "top": null,
            "visibility": null,
            "width": null
          }
        },
        "3ebf377af1f14b83a625e910b445e32f": {
          "model_module": "@jupyter-widgets/controls",
          "model_name": "DescriptionStyleModel",
          "model_module_version": "1.5.0",
          "state": {
            "_model_module": "@jupyter-widgets/controls",
            "_model_module_version": "1.5.0",
            "_model_name": "DescriptionStyleModel",
            "_view_count": null,
            "_view_module": "@jupyter-widgets/base",
            "_view_module_version": "1.2.0",
            "_view_name": "StyleView",
            "description_width": ""
          }
        },
        "05f1a17a835a4aad8ab451dce75f54b1": {
          "model_module": "@jupyter-widgets/base",
          "model_name": "LayoutModel",
          "model_module_version": "1.2.0",
          "state": {
            "_model_module": "@jupyter-widgets/base",
            "_model_module_version": "1.2.0",
            "_model_name": "LayoutModel",
            "_view_count": null,
            "_view_module": "@jupyter-widgets/base",
            "_view_module_version": "1.2.0",
            "_view_name": "LayoutView",
            "align_content": null,
            "align_items": null,
            "align_self": null,
            "border": null,
            "bottom": null,
            "display": null,
            "flex": null,
            "flex_flow": null,
            "grid_area": null,
            "grid_auto_columns": null,
            "grid_auto_flow": null,
            "grid_auto_rows": null,
            "grid_column": null,
            "grid_gap": null,
            "grid_row": null,
            "grid_template_areas": null,
            "grid_template_columns": null,
            "grid_template_rows": null,
            "height": null,
            "justify_content": null,
            "justify_items": null,
            "left": null,
            "margin": null,
            "max_height": null,
            "max_width": null,
            "min_height": null,
            "min_width": null,
            "object_fit": null,
            "object_position": null,
            "order": null,
            "overflow": null,
            "overflow_x": null,
            "overflow_y": null,
            "padding": null,
            "right": null,
            "top": null,
            "visibility": null,
            "width": null
          }
        },
        "4d53d8ecf9e94e84aab2dab9173b21c3": {
          "model_module": "@jupyter-widgets/controls",
          "model_name": "ProgressStyleModel",
          "model_module_version": "1.5.0",
          "state": {
            "_model_module": "@jupyter-widgets/controls",
            "_model_module_version": "1.5.0",
            "_model_name": "ProgressStyleModel",
            "_view_count": null,
            "_view_module": "@jupyter-widgets/base",
            "_view_module_version": "1.2.0",
            "_view_name": "StyleView",
            "bar_color": null,
            "description_width": ""
          }
        },
        "1b27f573f83a4443bf4ae545bebd9093": {
          "model_module": "@jupyter-widgets/base",
          "model_name": "LayoutModel",
          "model_module_version": "1.2.0",
          "state": {
            "_model_module": "@jupyter-widgets/base",
            "_model_module_version": "1.2.0",
            "_model_name": "LayoutModel",
            "_view_count": null,
            "_view_module": "@jupyter-widgets/base",
            "_view_module_version": "1.2.0",
            "_view_name": "LayoutView",
            "align_content": null,
            "align_items": null,
            "align_self": null,
            "border": null,
            "bottom": null,
            "display": null,
            "flex": null,
            "flex_flow": null,
            "grid_area": null,
            "grid_auto_columns": null,
            "grid_auto_flow": null,
            "grid_auto_rows": null,
            "grid_column": null,
            "grid_gap": null,
            "grid_row": null,
            "grid_template_areas": null,
            "grid_template_columns": null,
            "grid_template_rows": null,
            "height": null,
            "justify_content": null,
            "justify_items": null,
            "left": null,
            "margin": null,
            "max_height": null,
            "max_width": null,
            "min_height": null,
            "min_width": null,
            "object_fit": null,
            "object_position": null,
            "order": null,
            "overflow": null,
            "overflow_x": null,
            "overflow_y": null,
            "padding": null,
            "right": null,
            "top": null,
            "visibility": null,
            "width": null
          }
        },
        "e359b717350147ce906e10043a1e5e93": {
          "model_module": "@jupyter-widgets/controls",
          "model_name": "DescriptionStyleModel",
          "model_module_version": "1.5.0",
          "state": {
            "_model_module": "@jupyter-widgets/controls",
            "_model_module_version": "1.5.0",
            "_model_name": "DescriptionStyleModel",
            "_view_count": null,
            "_view_module": "@jupyter-widgets/base",
            "_view_module_version": "1.2.0",
            "_view_name": "StyleView",
            "description_width": ""
          }
        },
        "ba2b558a8446451590671aee5bf4485d": {
          "model_module": "@jupyter-widgets/controls",
          "model_name": "HBoxModel",
          "model_module_version": "1.5.0",
          "state": {
            "_dom_classes": [],
            "_model_module": "@jupyter-widgets/controls",
            "_model_module_version": "1.5.0",
            "_model_name": "HBoxModel",
            "_view_count": null,
            "_view_module": "@jupyter-widgets/controls",
            "_view_module_version": "1.5.0",
            "_view_name": "HBoxView",
            "box_style": "",
            "children": [
              "IPY_MODEL_7ac2e22660d94983a0d32d08346a479b",
              "IPY_MODEL_955a655064e348fd9866a2cedab50551",
              "IPY_MODEL_acaafc3e85da4dbb980983b938d4b79d"
            ],
            "layout": "IPY_MODEL_c21fe72268de4a15b6b5c871a1f29561"
          }
        },
        "7ac2e22660d94983a0d32d08346a479b": {
          "model_module": "@jupyter-widgets/controls",
          "model_name": "HTMLModel",
          "model_module_version": "1.5.0",
          "state": {
            "_dom_classes": [],
            "_model_module": "@jupyter-widgets/controls",
            "_model_module_version": "1.5.0",
            "_model_name": "HTMLModel",
            "_view_count": null,
            "_view_module": "@jupyter-widgets/controls",
            "_view_module_version": "1.5.0",
            "_view_name": "HTMLView",
            "description": "",
            "description_tooltip": null,
            "layout": "IPY_MODEL_f0411a0b11824f7098cbe4717a704aa3",
            "placeholder": "​",
            "style": "IPY_MODEL_a820446e60f64a2482fa5710c8fb4a19",
            "value": "Shuffling /root/tensorflow_datasets/malaria/1.0.0.incomplete733COC/malaria-train.tfrecord*...:  95%"
          }
        },
        "955a655064e348fd9866a2cedab50551": {
          "model_module": "@jupyter-widgets/controls",
          "model_name": "FloatProgressModel",
          "model_module_version": "1.5.0",
          "state": {
            "_dom_classes": [],
            "_model_module": "@jupyter-widgets/controls",
            "_model_module_version": "1.5.0",
            "_model_name": "FloatProgressModel",
            "_view_count": null,
            "_view_module": "@jupyter-widgets/controls",
            "_view_module_version": "1.5.0",
            "_view_name": "ProgressView",
            "bar_style": "",
            "description": "",
            "description_tooltip": null,
            "layout": "IPY_MODEL_8705a6099a3643d7952b79147ba1c948",
            "max": 27558,
            "min": 0,
            "orientation": "horizontal",
            "style": "IPY_MODEL_083265764bc041268cc706f015ceff62",
            "value": 27558
          }
        },
        "acaafc3e85da4dbb980983b938d4b79d": {
          "model_module": "@jupyter-widgets/controls",
          "model_name": "HTMLModel",
          "model_module_version": "1.5.0",
          "state": {
            "_dom_classes": [],
            "_model_module": "@jupyter-widgets/controls",
            "_model_module_version": "1.5.0",
            "_model_name": "HTMLModel",
            "_view_count": null,
            "_view_module": "@jupyter-widgets/controls",
            "_view_module_version": "1.5.0",
            "_view_name": "HTMLView",
            "description": "",
            "description_tooltip": null,
            "layout": "IPY_MODEL_f4dfe3441ce946eaa954f6299ed77418",
            "placeholder": "​",
            "style": "IPY_MODEL_92ea54d121af49389f36e530605bafb9",
            "value": " 26164/27558 [00:00&lt;00:00, 27620.77 examples/s]"
          }
        },
        "c21fe72268de4a15b6b5c871a1f29561": {
          "model_module": "@jupyter-widgets/base",
          "model_name": "LayoutModel",
          "model_module_version": "1.2.0",
          "state": {
            "_model_module": "@jupyter-widgets/base",
            "_model_module_version": "1.2.0",
            "_model_name": "LayoutModel",
            "_view_count": null,
            "_view_module": "@jupyter-widgets/base",
            "_view_module_version": "1.2.0",
            "_view_name": "LayoutView",
            "align_content": null,
            "align_items": null,
            "align_self": null,
            "border": null,
            "bottom": null,
            "display": null,
            "flex": null,
            "flex_flow": null,
            "grid_area": null,
            "grid_auto_columns": null,
            "grid_auto_flow": null,
            "grid_auto_rows": null,
            "grid_column": null,
            "grid_gap": null,
            "grid_row": null,
            "grid_template_areas": null,
            "grid_template_columns": null,
            "grid_template_rows": null,
            "height": null,
            "justify_content": null,
            "justify_items": null,
            "left": null,
            "margin": null,
            "max_height": null,
            "max_width": null,
            "min_height": null,
            "min_width": null,
            "object_fit": null,
            "object_position": null,
            "order": null,
            "overflow": null,
            "overflow_x": null,
            "overflow_y": null,
            "padding": null,
            "right": null,
            "top": null,
            "visibility": "hidden",
            "width": null
          }
        },
        "f0411a0b11824f7098cbe4717a704aa3": {
          "model_module": "@jupyter-widgets/base",
          "model_name": "LayoutModel",
          "model_module_version": "1.2.0",
          "state": {
            "_model_module": "@jupyter-widgets/base",
            "_model_module_version": "1.2.0",
            "_model_name": "LayoutModel",
            "_view_count": null,
            "_view_module": "@jupyter-widgets/base",
            "_view_module_version": "1.2.0",
            "_view_name": "LayoutView",
            "align_content": null,
            "align_items": null,
            "align_self": null,
            "border": null,
            "bottom": null,
            "display": null,
            "flex": null,
            "flex_flow": null,
            "grid_area": null,
            "grid_auto_columns": null,
            "grid_auto_flow": null,
            "grid_auto_rows": null,
            "grid_column": null,
            "grid_gap": null,
            "grid_row": null,
            "grid_template_areas": null,
            "grid_template_columns": null,
            "grid_template_rows": null,
            "height": null,
            "justify_content": null,
            "justify_items": null,
            "left": null,
            "margin": null,
            "max_height": null,
            "max_width": null,
            "min_height": null,
            "min_width": null,
            "object_fit": null,
            "object_position": null,
            "order": null,
            "overflow": null,
            "overflow_x": null,
            "overflow_y": null,
            "padding": null,
            "right": null,
            "top": null,
            "visibility": null,
            "width": null
          }
        },
        "a820446e60f64a2482fa5710c8fb4a19": {
          "model_module": "@jupyter-widgets/controls",
          "model_name": "DescriptionStyleModel",
          "model_module_version": "1.5.0",
          "state": {
            "_model_module": "@jupyter-widgets/controls",
            "_model_module_version": "1.5.0",
            "_model_name": "DescriptionStyleModel",
            "_view_count": null,
            "_view_module": "@jupyter-widgets/base",
            "_view_module_version": "1.2.0",
            "_view_name": "StyleView",
            "description_width": ""
          }
        },
        "8705a6099a3643d7952b79147ba1c948": {
          "model_module": "@jupyter-widgets/base",
          "model_name": "LayoutModel",
          "model_module_version": "1.2.0",
          "state": {
            "_model_module": "@jupyter-widgets/base",
            "_model_module_version": "1.2.0",
            "_model_name": "LayoutModel",
            "_view_count": null,
            "_view_module": "@jupyter-widgets/base",
            "_view_module_version": "1.2.0",
            "_view_name": "LayoutView",
            "align_content": null,
            "align_items": null,
            "align_self": null,
            "border": null,
            "bottom": null,
            "display": null,
            "flex": null,
            "flex_flow": null,
            "grid_area": null,
            "grid_auto_columns": null,
            "grid_auto_flow": null,
            "grid_auto_rows": null,
            "grid_column": null,
            "grid_gap": null,
            "grid_row": null,
            "grid_template_areas": null,
            "grid_template_columns": null,
            "grid_template_rows": null,
            "height": null,
            "justify_content": null,
            "justify_items": null,
            "left": null,
            "margin": null,
            "max_height": null,
            "max_width": null,
            "min_height": null,
            "min_width": null,
            "object_fit": null,
            "object_position": null,
            "order": null,
            "overflow": null,
            "overflow_x": null,
            "overflow_y": null,
            "padding": null,
            "right": null,
            "top": null,
            "visibility": null,
            "width": null
          }
        },
        "083265764bc041268cc706f015ceff62": {
          "model_module": "@jupyter-widgets/controls",
          "model_name": "ProgressStyleModel",
          "model_module_version": "1.5.0",
          "state": {
            "_model_module": "@jupyter-widgets/controls",
            "_model_module_version": "1.5.0",
            "_model_name": "ProgressStyleModel",
            "_view_count": null,
            "_view_module": "@jupyter-widgets/base",
            "_view_module_version": "1.2.0",
            "_view_name": "StyleView",
            "bar_color": null,
            "description_width": ""
          }
        },
        "f4dfe3441ce946eaa954f6299ed77418": {
          "model_module": "@jupyter-widgets/base",
          "model_name": "LayoutModel",
          "model_module_version": "1.2.0",
          "state": {
            "_model_module": "@jupyter-widgets/base",
            "_model_module_version": "1.2.0",
            "_model_name": "LayoutModel",
            "_view_count": null,
            "_view_module": "@jupyter-widgets/base",
            "_view_module_version": "1.2.0",
            "_view_name": "LayoutView",
            "align_content": null,
            "align_items": null,
            "align_self": null,
            "border": null,
            "bottom": null,
            "display": null,
            "flex": null,
            "flex_flow": null,
            "grid_area": null,
            "grid_auto_columns": null,
            "grid_auto_flow": null,
            "grid_auto_rows": null,
            "grid_column": null,
            "grid_gap": null,
            "grid_row": null,
            "grid_template_areas": null,
            "grid_template_columns": null,
            "grid_template_rows": null,
            "height": null,
            "justify_content": null,
            "justify_items": null,
            "left": null,
            "margin": null,
            "max_height": null,
            "max_width": null,
            "min_height": null,
            "min_width": null,
            "object_fit": null,
            "object_position": null,
            "order": null,
            "overflow": null,
            "overflow_x": null,
            "overflow_y": null,
            "padding": null,
            "right": null,
            "top": null,
            "visibility": null,
            "width": null
          }
        },
        "92ea54d121af49389f36e530605bafb9": {
          "model_module": "@jupyter-widgets/controls",
          "model_name": "DescriptionStyleModel",
          "model_module_version": "1.5.0",
          "state": {
            "_model_module": "@jupyter-widgets/controls",
            "_model_module_version": "1.5.0",
            "_model_name": "DescriptionStyleModel",
            "_view_count": null,
            "_view_module": "@jupyter-widgets/base",
            "_view_module_version": "1.2.0",
            "_view_name": "StyleView",
            "description_width": ""
          }
        }
      }
    }
  },
  "nbformat": 4,
  "nbformat_minor": 5
}